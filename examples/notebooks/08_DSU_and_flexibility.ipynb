{
 "cells": [
  {
   "cell_type": "markdown",
   "metadata": {},
   "source": [
    "# 8. Introduction to Demand-Side Agents and Flexibility in the ASSUME Framework"
   ]
  },
  {
   "cell_type": "markdown",
   "metadata": {},
   "source": [
    "In this tutorial, we will explore the concept of **Demand-Side Agents (DSA)** and their role in managing electricity consumption in response to price signals. The focus will be on modeling flexibility and performing **Power Flow Analysis** after clearing the day-ahead market. \n",
    "\n",
    "In modern electricity markets, **Demand-Side Management (DSM)** plays an essential role in ensuring efficient energy consumption, maintaining grid stability, and optimizing costs. Demand-side agents, such as industrial plants or residential units, can adjust their energy consumption in response to price signals from the electricity market. This capability to adapt energy usage in real-time provides **flexibility** that is crucial for balancing supply and demand.\n",
    "\n",
    "In the **ASSUME Framework**, demand-side agents are modeled as entities with specific energy requirements, flexibility capabilities, and interaction mechanisms in the market. These agents are able to:\n",
    "- **Participate in the electricity market** by submitting bids to purchase electricity based on their demand.\n",
    "- **Respond to price signals** to adjust their electricity consumption (flexibility).\n",
    "- **Perform load-shifting** by changing their consumption behavior in response to electricity prices, optimizing their costs while supporting grid operations.\n",
    "\n",
    "### Key Concepts:\n",
    "1. **Demand-Side Agents**: Entities that consume electricity, like industrial plants or households. These agents can adjust their consumption based on real-time market prices.\n",
    "2. **Flexibility**: The capability of an agent to adapt its electricity consumption, either by increasing or decreasing its load, in response to market conditions or price signals.\n",
    "3. **Power Flow Analysis**: After the day-ahead market clears, power flow analysis is conducted to ensure that electricity is distributed across the network in a manner that respects grid constraints and prevents congestion.\n",
    "\n",
    "### Integration of the Characteristics of the Agent:\n",
    "- Each demand-side agent is modeled with **specific attributes** such as **rated power**, **minimum operating power**, and **flexibility measures**. These characteristics dictate how the agent behaves in the electricity market.\n",
    "- Agents can also be equipped with technologies like **electrolyser**, **DRI plant**, and **electric arc furnace**, each contributing to the agent’s overall power demand profile.\n",
    "\n",
    "### In this tutorial, we will:\n",
    "1. **Introduce how demand-side agents are modeled in the ASSUME framework**:\n",
    "   - We'll model a **steel plant** as a demand-side agent, including the specific characteristics such as rated power, minimum power, and flexibility settings.\n",
    "2. **Explore how flexibility is implemented**, allowing agents to shift their energy usage:\n",
    "   - We'll show how the steel plant can dynamically respond to market prices by adjusting its electricity consumption using predefined bidding strategies.\n",
    "3. **Model a steel plant as a demand-side agent** and simulate its participation in the electricity market:\n",
    "   - The steel plant will participate in the day-ahead market, submitting bids and optimizing its electricity consumption.\n",
    "4. **Integrate the characteristics and inputs of the steel plant agent**\n",
    "5. **Integrate in ASSUME**:\n",
    "   - We'll configure the **ASSUME framework**, setting up the market and integrating the steel plant agent for simulation. This will involve defining the market configuration, demand, supply, and load-shifting behaviors in response to price signals.\n",
    "6. **Analyze the results**:\n",
    "   - After running the simulation, we'll review how the steel plant performed in the electricity market. This will include analyzing energy consumption, bidding results, and flexibility behaviors.\n",
    "7. **Analyze grid congestion**:\n",
    "   - We'll perform a power flow analysis to evaluate how energy flows through the grid after the day-ahead market clears. We'll check for any grid congestion and determine how the demand-side agent’s behavior impacts the overall grid."
   ]
  },
  {
   "cell_type": "markdown",
   "metadata": {},
   "source": [
    "## 2. Setting Up the ASSUME Framework\n",
    "\n",
    "Before diving into **DSA** and **Flexibility**, ensure that you have the ASSUME framework installed and set up correctly. If you haven't done so already, follow the steps below to install the ASSUME core package and clone the repository containing predefined scenarios.\n",
    "\n",
    "**Note:** If you already have the ASSUME framework installed and the repository cloned, you can skip executing the following code cells."
   ]
  },
  {
   "cell_type": "code",
   "execution_count": 1,
   "metadata": {
    "vscode": {
     "languageId": "shellscript"
    }
   },
   "outputs": [],
   "source": [
    "# Install the ASSUME framework\n",
    "# !pip install assume-framework\n",
    "\n",
    "# Install Plotly if not already installed\n",
    "# !pip install plotly\n",
    "\n",
    "# Clone the ASSUME repository containing predefined scenarios\n",
    "# !git clone https://github.com/assume-framework/assume.git assume-repo"
   ]
  },
  {
   "cell_type": "markdown",
   "metadata": {},
   "source": [
    "Let's also import some basic libraries that we will use throughout the tutorial."
   ]
  },
  {
   "cell_type": "code",
   "execution_count": 11,
   "metadata": {},
   "outputs": [],
   "source": [
    "# import plotly for visualization\n",
    "import pyomo as pyo\n",
    "\n",
    "# import yaml for reading and writing YAML files\n",
    "# Function to display DataFrame in Jupyter\n",
    "from assume.units.dst_components import (\n",
    "    create_driplant,\n",
    "    create_dristorage,\n",
    "    create_electric_arc_furnance,\n",
    "    create_electrolyser,\n",
    "    create_hydrogen_storage,\n",
    ")\n",
    "\n",
    "# Import components and units for the steel plant"
   ]
  },
  {
   "cell_type": "markdown",
   "metadata": {},
   "source": [
    "## 3. Defining the Steel Plant as a Demand-Side Agent\n",
    "\n",
    "The Steel Plant is an example of an industrial demand-side agent in the ASSUME framework. This agent has specific characteristics such as rated power, flexibility, and the ability to adjust its electricity consumption based on price signals. We will now explore how to define the Steel Plant in the framework.\n",
    "\n",
    "**Steel Plant: Overview and Characteristics**\n",
    "\n",
    "The Steel Plant is an industrial agent that consists of several key components (e.g., DRI plant, electrolyser, EAF, etc.). These components consume electricity and can be modeled to react dynamically to market conditions.\n",
    "\n",
    "In the ASSUME framework, the steel plant agent is created by defining its characteristics, components, and objectives. Let's start by defining the Steel Plant with its core characteristics:"
   ]
  },
  {
   "cell_type": "code",
   "execution_count": 20,
   "metadata": {},
   "outputs": [],
   "source": [
    "# class SteelPlant(SupportsMinMax, DSMFlex):\n",
    "#     \"\"\"\n",
    "#     Class to define the Steel Plant as a demand-side agent in the ASSUME framework.\n",
    "#     \"\"\"\n",
    "\n",
    "#     def __init__(\n",
    "#         self,\n",
    "#         id: str,\n",
    "#         unit_operator: str,\n",
    "#         bidding_strategies: dict,\n",
    "#         technology: str = \"steel_plant\",\n",
    "#         node: str = \"node0\",\n",
    "#         index: pd.DatetimeIndex = None,\n",
    "#         location: tuple[float, float] = (0.0, 0.0),\n",
    "#         components: dict[str, dict] = None,\n",
    "#         objective: str = None,\n",
    "#         flexibility_measure: str = \"max_load_shift\",\n",
    "#         demand: float = 0,\n",
    "#         cost_tolerance: float = 10,\n",
    "#         **kwargs,\n",
    "#     ):\n",
    "#         super().__init__(\n",
    "#             id=id,\n",
    "#             unit_operator=unit_operator,\n",
    "#             technology=technology,\n",
    "#             bidding_strategies=bidding_strategies,\n",
    "#             index=index,\n",
    "#             node=node,\n",
    "#             location=location,\n",
    "#             **kwargs,\n",
    "#         )"
   ]
  },
  {
   "cell_type": "markdown",
   "metadata": {},
   "source": [
    "Defining Characteristics:\n",
    "\n",
    "    id: The unique identifier for the steel plant agent.\n",
    "    unit_operator: The entity operating the steel plant.\n",
    "    bidding_strategies: Defines the market bidding behavior (such as NaiveDASteelplantStrategy).\n",
    "    technology: Represents the type of technology used, here set to \"steel_plant\".\n",
    "    node: Specifies the grid connection point for the steel plant.\n",
    "    flexibility_measure: Indicates the flexibility strategy, such as load-shifting capabilities.\n",
    "    demand: The energy demand of the steel plant.\n",
    "    cost_tolerance: The tolerance level for cost variations."
   ]
  },
  {
   "cell_type": "markdown",
   "metadata": {},
   "source": [
    "### Bringing `dst_components` into the Steel Plant Process\n",
    "\n",
    "In the steel plant, we use components like the **electrolyser** and **hydrogen storage** to model the production and storage of hydrogen, which plays a critical role in decarbonized steel production. These components are imported from `dst_components.py` and integrated into the plant's process.\n",
    "\n",
    "In this section, we will showcase how to model these components, define their characteristics, and integrate them into the overall process of the steel plant.\n",
    "\n",
    "#### 1. **Electrolyser**\n",
    "\n",
    "The **electrolyser** produces hydrogen through electrolysis, using electricity as the input. The electrolyser's constraints ensure that it operates within its rated power capacity, follows ramp rates for power changes, and has operational limits like minimum operating time and efficiency.\n",
    "\n",
    "We will use the `create_electrolyser` function from `dst_components.py` to add the electrolyser to the steel plant's Pyomo model.\n",
    "\n",
    "#### 2. **Hydrogen Storage**\n",
    "\n",
    "The **hydrogen storage** component is used to store hydrogen produced by the electrolyser. It helps manage the supply and ensures that hydrogen is available when needed. The hydrogen storage has parameters like **maximum capacity**, **storage loss rate**, and **charge/discharge rates**.\n",
    "\n",
    "We will use the `create_hydrogen_storage` function from `dst_components.py` to integrate hydrogen storage into the model.\n"
   ]
  },
  {
   "cell_type": "markdown",
   "metadata": {},
   "source": [
    "### Modeling Components in the ASSUME Framework\n",
    "\n",
    "In the **ASSUME** framework, components like the **electrolyser** and **hydrogen storage** are modeled using Pyomo, a Python-based optimization modeling tool. The framework supports detailed modeling of each component by specifying their characteristics and operational constraints.\n",
    "\n",
    "For each component, attributes such as **rated power**, **ramp rates**, and **efficiency** are defined. These attributes are essential for simulating the component's behavior in the energy system.\n",
    "\n",
    "#### Example: Electrolyser Model\n",
    "The **electrolyser** is a crucial component in hydrogen production. In this framework, the electrolyser is modeled with various characteristics, including power limits, operational efficiency, and ramp rates. These attributes ensure that the electrolyser operates within its technical and economic boundaries.\n",
    "\n",
    "Here's how we define the electrolyser's model:\n"
   ]
  },
  {
   "cell_type": "code",
   "execution_count": 24,
   "metadata": {},
   "outputs": [],
   "source": [
    "# def create_electrolyser(\n",
    "#     model,\n",
    "#     rated_power,\n",
    "#     min_power,\n",
    "#     ramp_up,\n",
    "#     ramp_down,\n",
    "#     min_operating_time,\n",
    "#     min_down_time,\n",
    "#     efficiency,\n",
    "#     time_steps,\n",
    "#     **kwargs,\n",
    "# ):\n",
    "#     \"\"\"\n",
    "#     Creates the electrolyser component in the Pyomo model with defined characteristics.\n",
    "#     \"\"\"\n",
    "#     # Define a Pyomo Block for the electrolyser component\n",
    "#     model_part = pyo.Block()\n",
    "\n",
    "#     # Define the attributes of the electrolyser component\n",
    "#     model_part.rated_power = pyo.Param(initialize=rated_power)\n",
    "#     model_part.min_power = pyo.Param(initialize=min_power)\n",
    "#     model_part.ramp_up = pyo.Param(initialize=ramp_up)\n",
    "#     model_part.ramp_down = pyo.Param(initialize=ramp_down)\n",
    "#     model_part.efficiency = pyo.Param(initialize=efficiency)\n",
    "\n",
    "#     # Define the Pyomo variables for operational behavior\n",
    "#     model_part.power = pyo.Var(time_steps, bounds=(0, rated_power))\n",
    "#     model_part.hydrogen_out = pyo.Var(time_steps, domain=pyo.NonNegativeReals)\n",
    "\n",
    "#     # Define the Pyomo constraints\n",
    "#     @model.Constraint(time_steps)\n",
    "#     def min_operating_time_constraint(m, t):\n",
    "#         \"\"\"\n",
    "#         Ensures that the electrolyser operates at or above its minimum power.\n",
    "#         \"\"\"\n",
    "#         return model_part.power[t] >= model_part.min_power\n",
    "\n",
    "#     @model.Constraint(time_steps)\n",
    "#     def ramp_rate_constraints(m, t):\n",
    "#         \"\"\"\n",
    "#         Ensures that the electrolyser respects the ramp up and ramp down constraints.\n",
    "#         \"\"\"\n",
    "#         if t > 0:\n",
    "#             return (\n",
    "#                 model_part.power[t] - model_part.power[t - 1] <= model_part.ramp_up,\n",
    "#                 model_part.power[t - 1] - model_part.power[t] <= model_part.ramp_down,\n",
    "#             )\n",
    "\n",
    "#     # Define hydrogen output based on the efficiency\n",
    "#     @model.Constraint(time_steps)\n",
    "#     def hydrogen_production_constraint(m, t):\n",
    "#         \"\"\"\n",
    "#         Ensures that hydrogen output is proportional to the power input based on efficiency.\n",
    "#         \"\"\"\n",
    "#         return model_part.hydrogen_out[t] == model_part.power[t] * model_part.efficiency"
   ]
  },
  {
   "cell_type": "markdown",
   "metadata": {},
   "source": [
    "### 4. Initializing the Components and Process Sequence of the Steel Plant\n",
    "\n",
    "The steel plant consists of multiple components, such as the **DRI plant**, **electrolyser**, **Electric Arc Furnace (EAF)**, and **hydrogen storage**. These components are initialized and connected into a process sequence to define how the steel plant operates.\n",
    "\n",
    "#### Mapping of Component Type Identifiers to Their Respective Classes\n",
    "\n",
    "Before initializing the components and process sequences, the steel plant needs to map the component types to their respective functions. This is done using the following dictionary, which links the component type identifiers (e.g., `\"electrolyser\"`, `\"eaf\"`) to the respective creation functions in the `dst_components.py` file:\n"
   ]
  },
  {
   "cell_type": "code",
   "execution_count": 17,
   "metadata": {},
   "outputs": [],
   "source": [
    "dst_components = {\n",
    "    \"electrolyser\": create_electrolyser,\n",
    "    \"h2storage\": create_hydrogen_storage,\n",
    "    \"dri_plant\": create_driplant,\n",
    "    \"dri_storage\": create_dristorage,\n",
    "    \"eaf\": create_electric_arc_furnance,\n",
    "}"
   ]
  },
  {
   "cell_type": "markdown",
   "metadata": {},
   "source": [
    "\n",
    "- The `def initialize_components(components)` function calls the Pyomo models of the respective components.\n",
    "- The `def initialize_process_sequence()` function handles the connection of the entire process, ensuring that the plant operates in a defined sequence.\n",
    "\n",
    "To initialize the components of the steel plant, we use the `initialize_components()` function. This function iterates through the list of components, calls the corresponding factory method for each component (as mapped in `dst_components`), and transfers the necessary attributes to the Pyomo model.\n"
   ]
  },
  {
   "cell_type": "code",
   "execution_count": 21,
   "metadata": {},
   "outputs": [],
   "source": [
    "# Initialize components of the steel plant\n",
    "def initialize_components(self, components: dict[str, dict]):\n",
    "    \"\"\"\n",
    "    Initializes the components of the steel plant.\n",
    "\n",
    "    Args:\n",
    "        components (dict[str, dict]): The components of the steel plant.\n",
    "        model (pyomo.ConcreteModel): The Pyomo model.\n",
    "    \"\"\"\n",
    "    self.model.dsm_blocks = pyo.Block(list(components.keys()))\n",
    "    for technology, component_data in components.items():\n",
    "        if technology in dst_components:\n",
    "            factory_method = dst_components[technology]\n",
    "            self.model.dsm_blocks[technology].transfer_attributes_from(\n",
    "                factory_method(\n",
    "                    self.model, time_steps=self.model.time_steps, **component_data\n",
    "                )\n",
    "            )"
   ]
  },
  {
   "cell_type": "markdown",
   "metadata": {},
   "source": [
    "In this function:\n",
    "\n",
    "- The `components` argument is a dictionary where the keys are the component types (e.g., `\"electrolyser\"`, `\"eaf\"`) and the values are dictionaries of component-specific parameters.\n",
    "- For each component, the factory method corresponding to the component type is called (e.g., `create_electrolyser` for an electrolyser).\n",
    "- The attributes of the initialized component are then transferred to the Pyomo model using the `transfer_attributes_from()` function.\n"
   ]
  },
  {
   "cell_type": "markdown",
   "metadata": {},
   "source": [
    "### Initializing the Process Sequence for the Steel Plant\n",
    "\n",
    "The `initialize_process_sequence()` function is responsible for defining how the different components of the steel plant are connected to form a complete process. This function ensures that the flow of materials (such as hydrogen and direct reduced iron (DRI)) between components, such as the **electrolyser**, **hydrogen storage**, **DRI plant**, and **Electric Arc Furnace (EAF)**, is properly constrained."
   ]
  },
  {
   "cell_type": "code",
   "execution_count": 22,
   "metadata": {},
   "outputs": [],
   "source": [
    "# Initialize components of the steel plant\n",
    "def initialize_process_sequence(self):\n",
    "    \"\"\"\n",
    "    Initializes the process sequence and constraints for the steel plant. Here, the components/ technologies are connected to establish a process for steel production\n",
    "    \"\"\"\n",
    "    # Assuming the presence of 'h2storage' indicates the desire for dynamic flow management\n",
    "    has_h2storage = \"h2storage\" in self.model.dsm_blocks.keys()\n",
    "\n",
    "    # Constraint for direct hydrogen flow from Electrolyser to dri plant\n",
    "    @self.model.Constraint(self.model.time_steps)\n",
    "    def direct_hydrogen_flow_constraint(m, t):\n",
    "        \"\"\"\n",
    "        Ensures the direct hydrogen flow from the electrolyser to the DRI plant or storage.\n",
    "        \"\"\"\n",
    "        # This constraint allows part of the hydrogen produced by the dri plant to go directly to the EAF\n",
    "        # The actual amount should ensure that it does not exceed the capacity or demand of the EAF\n",
    "        if has_h2storage:\n",
    "            return (\n",
    "                self.model.dsm_blocks[\"electrolyser\"].hydrogen_out[t]\n",
    "                + self.model.dsm_blocks[\"h2storage\"].discharge[t]\n",
    "                == self.model.dsm_blocks[\"dri_plant\"].hydrogen_in[t]\n",
    "                + self.model.dsm_blocks[\"h2storage\"].charge[t]\n",
    "            )\n",
    "        else:\n",
    "            return (\n",
    "                self.model.dsm_blocks[\"electrolyser\"].hydrogen_out[t]\n",
    "                >= self.model.dsm_blocks[\"dri_plant\"].hydrogen_in[t]\n",
    "            )\n",
    "\n",
    "    # Assuming the presence of dristorage' indicates the desire for dynamic flow management\n",
    "    has_dristorage = \"dri_storage\" in self.model.dsm_blocks.keys()\n",
    "\n",
    "    # Constraint for direct hydrogen flow from Electrolyser to dri plant\n",
    "    @self.model.Constraint(self.model.time_steps)\n",
    "    def direct_dri_flow_constraint(m, t):\n",
    "        \"\"\"\n",
    "        Ensures the direct DRI flow from the DRI plant to the EAF or DRI storage.\n",
    "        \"\"\"\n",
    "        # This constraint allows part of the dri produced by the dri plant to go directly to the dri storage\n",
    "        # The actual amount should ensure that it does not exceed the capacity or demand of the EAF\n",
    "        if has_dristorage:\n",
    "            return (\n",
    "                self.model.dsm_blocks[\"dri_plant\"].dri_output[t]\n",
    "                + self.model.dsm_blocks[\"dri_storage\"].discharge_dri[t]\n",
    "                == self.model.dsm_blocks[\"eaf\"].dri_input[t]\n",
    "                + self.model.dsm_blocks[\"dri_storage\"].charge_dri[t]\n",
    "            )\n",
    "        else:\n",
    "            return (\n",
    "                self.model.dsm_blocks[\"dri_plant\"].dri_output[t]\n",
    "                == self.model.dsm_blocks[\"eaf\"].dri_input[t]\n",
    "            )\n",
    "\n",
    "    # Constraint for material flow from dri plant to Electric Arc Furnace\n",
    "    @self.model.Constraint(self.model.time_steps)\n",
    "    def shaft_to_arc_furnace_material_flow_constraint(m, t):\n",
    "        \"\"\"\n",
    "        Ensures the material flow from the DRI plant to the Electric Arc Furnace.\n",
    "        \"\"\"\n",
    "        return (\n",
    "            self.model.dsm_blocks[\"dri_plant\"].dri_output[t]\n",
    "            == self.model.dsm_blocks[\"eaf\"].dri_input[t]\n",
    "        )"
   ]
  },
  {
   "cell_type": "markdown",
   "metadata": {},
   "source": [
    "### Key Process Sequence Steps:\n",
    "\n",
    "- **Hydrogen Flow**:\n",
    "    - The `direct_hydrogen_flow_constraint()` ensures that hydrogen produced by the electrolyser flows to the DRI plant or hydrogen storage.\n",
    "    - If hydrogen storage is present, it can charge or discharge hydrogen, ensuring that the electrolyser's output is properly distributed.\n",
    "\n",
    "- **DRI Flow**:\n",
    "    - The `direct_dri_flow_constraint()` manages the flow of direct reduced iron (DRI) from the DRI plant to the EAF or DRI storage.\n",
    "    - If DRI storage is present, it can charge or discharge DRI, ensuring that the DRI output from the plant is managed efficiently.\n",
    "\n",
    "- **Material Flow to EAF**:\n",
    "    - The `shaft_to_arc_furnace_material_flow_constraint()` ensures that the material produced by the DRI plant flows directly into the Electric Arc Furnace (EAF) for further steel production.\n",
    "\n",
    "These constraints ensure the proper flow of materials between the steel plant’s components, supporting efficient steel production while maintaining the operational constraints of each technology.\n"
   ]
  },
  {
   "cell_type": "markdown",
   "metadata": {},
   "source": [
    "### 6. Executing the Optimization\n",
    "\n",
    "To execute the optimization process, the function `determine_optimal_operation_without_flex()` is called. This function computes the optimal operation for the steel plant under the defined objectives.\n"
   ]
  },
  {
   "cell_type": "code",
   "execution_count": 23,
   "metadata": {},
   "outputs": [],
   "source": [
    "def determine_optimal_operation_without_flex(self):\n",
    "    \"\"\"\n",
    "    Execute the optimization for the steel plant based on the current market conditions.\n",
    "    This function will simulate the plant's operation without considering flexibility.\n",
    "    \"\"\""
   ]
  }
 ],
 "metadata": {
  "kernelspec": {
   "display_name": "assume",
   "language": "python",
   "name": "python3"
  },
  "language_info": {
   "codemirror_mode": {
    "name": "ipython",
    "version": 3
   },
   "file_extension": ".py",
   "mimetype": "text/x-python",
   "name": "python",
   "nbconvert_exporter": "python",
   "pygments_lexer": "ipython3",
   "version": "3.12.0"
  }
 },
 "nbformat": 4,
 "nbformat_minor": 2
}
