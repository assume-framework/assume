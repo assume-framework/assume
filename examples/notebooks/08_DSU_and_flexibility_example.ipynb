{
 "cells": [
  {
   "cell_type": "markdown",
   "metadata": {},
   "source": [
    "## Introduction: Modeling Demand-Side Unit (DSU) Agents\n",
    "\n",
    "In this tutorial, we will walk through the simulation of a **Steel Plant** using the ASSUME framework. The plant will be modeled as a **Demand-Side Unit (DSU) Agent**, which is designed to manage and optimise the operational regime/ energy consumption in industrial and optimising expenses for the residential agent.\n",
    "\n",
    "### Concept of DSU Agents:\n",
    "\n",
    "The **Demand-Side Unit (DSU) Agents** are modeled to represent entities that consume energy and potentially participate in electricity markets. DSU Agents could be industrial units, like steel plants, or residential units, like buildings. These agents are equipped with various **technologies and components** that define their energy usage profiles.\n",
    "\n",
    "### Structure of DSU Agents:\n",
    "- **Components**: Each DSU is built from components that consume or generate energy. In this case, our **Steel Plant** is composed of:\n",
    "    1. **Electrolyser**: Produces hydrogen via electrolysis.\n",
    "    2. **DRI Plant**: Uses hydrogen to reduce iron ore, producing Direct Reduced Iron (DRI).\n",
    "    3. **Electric Arc Furnace (EAF)**: Uses electricity to convert DRI into steel.\n",
    "  \n",
    "- **Objective**: Each DSU Agent can have different operational goals, such as minimizing energy costs, optimizing load flexibility, or maximizing profit in electricity markets.\n",
    "  \n",
    "- **Flexibility Measures**: DSU Agents are also designed to incorporate **Demand-Side Management (DSM)** strategies like **Load Shifting**. This allows the agent to respond to electricity prices or market conditions, making the operation more flexible by adjusting power consumption.\n",
    "\n",
    "---\n",
    "\n",
    "### Objective of This Tutorial:\n",
    "In this tutorial, we will:\n",
    "1. Set up a **Steel Plant** by defining its components and operational constraints.\n",
    "2. Connect the components to simulate the production process.\n",
    "3. Use **Demand-Side Management (DSM)** techniques like **Load Shifting** to optimize energy usage.\n",
    "4. Simulate and visualize the steel plant's energy consumption and flexibility.\n",
    "\n",
    "---\n",
    "\n",
    "## Setting Up the Simulation Environment\n",
    "\n",
    "In this notebook, we will walk through the process of setting up and simulating a **Steel Plant** using the ASSUME framework. This steel plant will connect components such as an **Electrolyser**, **DRI Plant**, and an **Electric Arc Furnace (EAF)** to optimize electricity usage.\n",
    "\n",
    "### Objective:\n",
    "Our goal is to create a steel plant model that minimizes the cost of electricity usage by simulating the demand and integrating flexibility using load-shifting techniques.\n",
    "\n",
    "---\n",
    "\n",
    "### Step 1: Cloning the ASSUME Framework\n",
    "\n",
    "Before proceeding with the steel plant setup, we first need to **clone** and install the ASSUME framework, which contains the necessary modules for simulation. The installation guide can be found here: [ASSUME Documentation](https://assume.readthedocs.io/en/latest/installation.html).\n",
    "\n",
    "> **Note**: If you already have the framework installed, you can skip this step.\n",
    "\n",
    "Once installed, you can proceed with setting up your **Steel Plant Simulation**.\n",
    "\n",
    "---\n"
   ]
  },
  {
   "cell_type": "code",
   "execution_count": 1,
   "metadata": {
    "vscode": {
     "languageId": "shellscript"
    }
   },
   "outputs": [
    {
     "name": "stdout",
     "output_type": "stream",
     "text": [
      "Requirement already satisfied: assume-framework in c:\\users\\khm\\anaconda3\\envs\\assume\\lib\\site-packages (0.3.5)\n",
      "Requirement already satisfied: argcomplete<4.0.0,>=3.1.4 in c:\\users\\khm\\anaconda3\\envs\\assume\\lib\\site-packages (from assume-framework) (3.2.2)\n",
      "Requirement already satisfied: mango-agents-assume<2.0.0,>=1.1.1-8 in c:\\users\\khm\\anaconda3\\envs\\assume\\lib\\site-packages (from assume-framework) (1.1.1.post8)\n",
      "Requirement already satisfied: nest-asyncio<2.0.0,>=1.5.6 in c:\\users\\khm\\anaconda3\\envs\\assume\\lib\\site-packages (from assume-framework) (1.5.8)\n",
      "Requirement already satisfied: pandas<3.0.0,>=2.0.0 in c:\\users\\khm\\anaconda3\\envs\\assume\\lib\\site-packages (from assume-framework) (2.2.0)\n",
      "Requirement already satisfied: psycopg2-binary<3.0.0,>=2.9.5 in c:\\users\\khm\\anaconda3\\envs\\assume\\lib\\site-packages (from assume-framework) (2.9.9)\n",
      "Requirement already satisfied: python-dateutil<3.0.0,>=2.8.2 in c:\\users\\khm\\anaconda3\\envs\\assume\\lib\\site-packages (from assume-framework) (2.8.2)\n",
      "Requirement already satisfied: pyyaml<7.0,>=6.0 in c:\\users\\khm\\anaconda3\\envs\\assume\\lib\\site-packages (from assume-framework) (6.0.1)\n",
      "Requirement already satisfied: pyyaml-include<2.0.0,>=1.3.1 in c:\\users\\khm\\anaconda3\\envs\\assume\\lib\\site-packages (from assume-framework) (1.3.2)\n",
      "Requirement already satisfied: sqlalchemy<3.0.0,>=2.0.9 in c:\\users\\khm\\anaconda3\\envs\\assume\\lib\\site-packages (from assume-framework) (2.0.23)\n",
      "Requirement already satisfied: tqdm<5.0.0,>=4.64.1 in c:\\users\\khm\\anaconda3\\envs\\assume\\lib\\site-packages (from assume-framework) (4.66.1)\n",
      "Requirement already satisfied: dill>=0.3.6 in c:\\users\\khm\\anaconda3\\envs\\assume\\lib\\site-packages (from mango-agents-assume<2.0.0,>=1.1.1-8->assume-framework) (0.3.7)\n",
      "Requirement already satisfied: msgspec>=0.14.2 in c:\\users\\khm\\anaconda3\\envs\\assume\\lib\\site-packages (from mango-agents-assume<2.0.0,>=1.1.1-8->assume-framework) (0.18.4)\n",
      "Requirement already satisfied: paho-mqtt<2.0.0,>=1.5.1 in c:\\users\\khm\\anaconda3\\envs\\assume\\lib\\site-packages (from mango-agents-assume<2.0.0,>=1.1.1-8->assume-framework) (1.5.1)\n",
      "Requirement already satisfied: protobuf<4.0.0,>=3.20.3 in c:\\users\\khm\\anaconda3\\envs\\assume\\lib\\site-packages (from mango-agents-assume<2.0.0,>=1.1.1-8->assume-framework) (3.20.3)\n",
      "Requirement already satisfied: numpy<2,>=1.26.0 in c:\\users\\khm\\anaconda3\\envs\\assume\\lib\\site-packages (from pandas<3.0.0,>=2.0.0->assume-framework) (1.26.2)\n",
      "Requirement already satisfied: pytz>=2020.1 in c:\\users\\khm\\anaconda3\\envs\\assume\\lib\\site-packages (from pandas<3.0.0,>=2.0.0->assume-framework) (2023.3.post1)\n",
      "Requirement already satisfied: tzdata>=2022.7 in c:\\users\\khm\\anaconda3\\envs\\assume\\lib\\site-packages (from pandas<3.0.0,>=2.0.0->assume-framework) (2023.3)\n",
      "Requirement already satisfied: six>=1.5 in c:\\users\\khm\\anaconda3\\envs\\assume\\lib\\site-packages (from python-dateutil<3.0.0,>=2.8.2->assume-framework) (1.16.0)\n",
      "Requirement already satisfied: typing-extensions>=4.2.0 in c:\\users\\khm\\anaconda3\\envs\\assume\\lib\\site-packages (from sqlalchemy<3.0.0,>=2.0.9->assume-framework) (4.9.0)\n",
      "Requirement already satisfied: greenlet!=0.4.17 in c:\\users\\khm\\anaconda3\\envs\\assume\\lib\\site-packages (from sqlalchemy<3.0.0,>=2.0.9->assume-framework) (3.0.2)\n",
      "Requirement already satisfied: colorama in c:\\users\\khm\\anaconda3\\envs\\assume\\lib\\site-packages (from tqdm<5.0.0,>=4.64.1->assume-framework) (0.4.6)\n"
     ]
    },
    {
     "name": "stderr",
     "output_type": "stream",
     "text": [
      "fatal: destination path 'assume' already exists and is not an empty directory.\n"
     ]
    }
   ],
   "source": [
    "!pip install assume-framework\n",
    "!git clone https://github.com/assume-framework/assume.git"
   ]
  },
  {
   "cell_type": "markdown",
   "metadata": {},
   "source": [
    "## Setting Up the Simulation Environment\n",
    "\n",
    "In this notebook, we will walk through the process of setting up and simulating a **Steel Plant** using the ASSUME framework. This steel plant will connect components such as an **Electrolyser**, **DRI Plant**, and an **Electric Arc Furnace (EAF)** to optimize electricity usage.\n",
    "\n",
    "### Objective:\n",
    "Our goal is to create a steel plant model that minimizes the cost of electricity usage by simulating the demand and integrating flexibility using load-shifting techniques.\n",
    "\n",
    "---"
   ]
  },
  {
   "cell_type": "markdown",
   "metadata": {},
   "source": [
    "## Step 2: Setting Up the Steel Plant\n",
    "\n",
    "Once the ASSUME framework is installed, we will now set up the **Steel Plant** by defining its components and their properties. The steel plant consists of three primary components:\n",
    "\n",
    "- **Electrolyser**: Used to produce hydrogen for steel production.\n",
    "- **DRI Plant**: Directly reduces iron ore using hydrogen.\n",
    "- **Electric Arc Furnace (EAF)**: Converts the reduced iron into steel.\n",
    "\n",
    "The objective of this step is to define these components, along with their operational constraints (such as power, efficiency, ramp rates), and then create an instance of the **Steel Plant**.\n",
    "\n"
   ]
  },
  {
   "cell_type": "code",
   "execution_count": 9,
   "metadata": {
    "vscode": {
     "languageId": "shellscript"
    }
   },
   "outputs": [
    {
     "ename": "AttributeError",
     "evalue": "'collections.defaultdict' object has no attribute 'get_price'",
     "output_type": "error",
     "traceback": [
      "\u001b[1;31m---------------------------------------------------------------------------\u001b[0m",
      "\u001b[1;31mAttributeError\u001b[0m                            Traceback (most recent call last)",
      "Cell \u001b[1;32mIn[9], line 52\u001b[0m\n\u001b[0;32m     15\u001b[0m components \u001b[38;5;241m=\u001b[39m {\n\u001b[0;32m     16\u001b[0m     \u001b[38;5;124m'\u001b[39m\u001b[38;5;124melectrolyser\u001b[39m\u001b[38;5;124m'\u001b[39m: {\n\u001b[0;32m     17\u001b[0m         \u001b[38;5;124m'\u001b[39m\u001b[38;5;124mrated_power\u001b[39m\u001b[38;5;124m'\u001b[39m: \u001b[38;5;241m50\u001b[39m,  \u001b[38;5;66;03m# MW\u001b[39;00m\n\u001b[1;32m   (...)\u001b[0m\n\u001b[0;32m     48\u001b[0m     }\n\u001b[0;32m     49\u001b[0m }\n\u001b[0;32m     51\u001b[0m \u001b[38;5;66;03m# Create a Steel Plant instance\u001b[39;00m\n\u001b[1;32m---> 52\u001b[0m steel_plant \u001b[38;5;241m=\u001b[39m \u001b[43mSteelPlant\u001b[49m\u001b[43m(\u001b[49m\n\u001b[0;32m     53\u001b[0m \u001b[43m    \u001b[49m\u001b[38;5;28;43mid\u001b[39;49m\u001b[38;5;241;43m=\u001b[39;49m\u001b[38;5;124;43m'\u001b[39;49m\u001b[38;5;124;43msteel_plant_001\u001b[39;49m\u001b[38;5;124;43m'\u001b[39;49m\u001b[43m,\u001b[49m\n\u001b[0;32m     54\u001b[0m \u001b[43m    \u001b[49m\u001b[43munit_operator\u001b[49m\u001b[38;5;241;43m=\u001b[39;49m\u001b[38;5;124;43m'\u001b[39;49m\u001b[38;5;124;43mSteelCo\u001b[39;49m\u001b[38;5;124;43m'\u001b[39;49m\u001b[43m,\u001b[49m\n\u001b[0;32m     55\u001b[0m \u001b[43m    \u001b[49m\u001b[43mbidding_strategies\u001b[49m\u001b[38;5;241;43m=\u001b[39;49m\u001b[43m{\u001b[49m\u001b[38;5;124;43m'\u001b[39;49m\u001b[38;5;124;43mEOM\u001b[39;49m\u001b[38;5;124;43m'\u001b[39;49m\u001b[43m:\u001b[49m\u001b[43m \u001b[49m\u001b[38;5;124;43m'\u001b[39;49m\u001b[38;5;124;43mNaiveDASteelplantStrategy\u001b[39;49m\u001b[38;5;124;43m'\u001b[39;49m\u001b[43m}\u001b[49m\u001b[43m,\u001b[49m\n\u001b[0;32m     56\u001b[0m \u001b[43m    \u001b[49m\u001b[43mcomponents\u001b[49m\u001b[38;5;241;43m=\u001b[39;49m\u001b[43mcomponents\u001b[49m\u001b[43m,\u001b[49m\n\u001b[0;32m     57\u001b[0m \u001b[43m    \u001b[49m\u001b[43mobjective\u001b[49m\u001b[38;5;241;43m=\u001b[39;49m\u001b[38;5;124;43m'\u001b[39;49m\u001b[38;5;124;43mmin_variable_cost\u001b[39;49m\u001b[38;5;124;43m'\u001b[39;49m\u001b[43m,\u001b[49m\n\u001b[0;32m     58\u001b[0m \u001b[43m    \u001b[49m\u001b[43mdemand\u001b[49m\u001b[38;5;241;43m=\u001b[39;49m\u001b[38;5;241;43m1000\u001b[39;49m\u001b[43m,\u001b[49m\u001b[43m  \u001b[49m\u001b[38;5;66;43;03m# tons of steel to produce\u001b[39;49;00m\n\u001b[0;32m     59\u001b[0m \u001b[43m    \u001b[49m\u001b[43mcost_tolerance\u001b[49m\u001b[38;5;241;43m=\u001b[39;49m\u001b[38;5;241;43m15\u001b[39;49m\u001b[43m,\u001b[49m\u001b[43m  \u001b[49m\u001b[38;5;66;43;03m# flexibility cost tolerance\u001b[39;49;00m\n\u001b[0;32m     60\u001b[0m \u001b[43m    \u001b[49m\u001b[43miron_ore_price\u001b[49m\u001b[38;5;241;43m=\u001b[39;49m\u001b[38;5;241;43m120\u001b[39;49m\u001b[43m,\u001b[49m\n\u001b[0;32m     61\u001b[0m \u001b[43m    \u001b[49m\u001b[43mindex\u001b[49m\u001b[38;5;241;43m=\u001b[39;49m\u001b[43mtime_steps\u001b[49m\n\u001b[0;32m     62\u001b[0m \u001b[43m)\u001b[49m\n",
      "File \u001b[1;32mC:\\Manish_REPO\\ASSUME\\assume\\units\\steel_plant.py:91\u001b[0m, in \u001b[0;36mSteelPlant.__init__\u001b[1;34m(self, id, unit_operator, bidding_strategies, technology, node, index, location, components, objective, flexibility_measure, demand, cost_tolerance, **kwargs)\u001b[0m\n\u001b[0;32m     89\u001b[0m \u001b[38;5;28mself\u001b[39m\u001b[38;5;241m.\u001b[39mnatural_gas_price \u001b[38;5;241m=\u001b[39m \u001b[38;5;28mself\u001b[39m\u001b[38;5;241m.\u001b[39mforecaster[\u001b[38;5;124m\"\u001b[39m\u001b[38;5;124mfuel_price_natural_gas\u001b[39m\u001b[38;5;124m\"\u001b[39m]\n\u001b[0;32m     90\u001b[0m \u001b[38;5;28mself\u001b[39m\u001b[38;5;241m.\u001b[39melectricity_price \u001b[38;5;241m=\u001b[39m \u001b[38;5;28mself\u001b[39m\u001b[38;5;241m.\u001b[39mforecaster[\u001b[38;5;124m\"\u001b[39m\u001b[38;5;124mprice_EOM\u001b[39m\u001b[38;5;124m\"\u001b[39m]\n\u001b[1;32m---> 91\u001b[0m \u001b[38;5;28mself\u001b[39m\u001b[38;5;241m.\u001b[39miron_ore_price \u001b[38;5;241m=\u001b[39m \u001b[38;5;28;43mself\u001b[39;49m\u001b[38;5;241;43m.\u001b[39;49m\u001b[43mforecaster\u001b[49m\u001b[38;5;241;43m.\u001b[39;49m\u001b[43mget_price\u001b[49m(\u001b[38;5;124m\"\u001b[39m\u001b[38;5;124miron_ore\u001b[39m\u001b[38;5;124m\"\u001b[39m)\n\u001b[0;32m     92\u001b[0m \u001b[38;5;28mself\u001b[39m\u001b[38;5;241m.\u001b[39msteel_demand \u001b[38;5;241m=\u001b[39m demand\n\u001b[0;32m     93\u001b[0m \u001b[38;5;28mself\u001b[39m\u001b[38;5;241m.\u001b[39msteel_price \u001b[38;5;241m=\u001b[39m \u001b[38;5;28mself\u001b[39m\u001b[38;5;241m.\u001b[39mforecaster\u001b[38;5;241m.\u001b[39mget_price(\u001b[38;5;124m\"\u001b[39m\u001b[38;5;124msteel\u001b[39m\u001b[38;5;124m\"\u001b[39m)\n",
      "\u001b[1;31mAttributeError\u001b[0m: 'collections.defaultdict' object has no attribute 'get_price'"
     ]
    }
   ],
   "source": [
    "from assume.units.dst_components import (\n",
    "    create_driplant,\n",
    "    create_dristorage,\n",
    "    create_electric_arc_furnance,\n",
    "    create_electrolyser,\n",
    "    create_hydrogen_storage,\n",
    ")\n",
    "from assume.units.steel_plant import SteelPlant\n",
    "import pandas as pd\n",
    "\n",
    "# Define time steps for the simulation\n",
    "time_steps = pd.date_range(start='2023-01-01', periods=24, freq='h')\n",
    "\n",
    "# Define components for the steel plant\n",
    "components = {\n",
    "    'electrolyser': {\n",
    "        'rated_power': 50,  # MW\n",
    "        'min_power': 10,    # MW\n",
    "        'ramp_up': 5,       # MW/hr\n",
    "        'ramp_down': 5,     # MW/hr\n",
    "        'min_operating_time': 1,  # hr\n",
    "        'min_down_time': 1,  # hr\n",
    "        'efficiency': 0.7,   # fraction\n",
    "    },\n",
    "    'dri_plant': {\n",
    "        'specific_hydrogen_consumption': 0.01,  # MWh per ton of DRI\n",
    "        'specific_natural_gas_consumption': 0.1, # MWh per ton of DRI\n",
    "        'specific_electricity_consumption': 0.05, # MWh per ton of DRI\n",
    "        'specific_iron_ore_consumption': 1,  # ton per ton of DRI\n",
    "        'rated_power': 100,  # MW\n",
    "        'min_power': 30,     # MW\n",
    "        'fuel_type': 'both', \n",
    "        'ramp_up': 10,       # MW/hr\n",
    "        'ramp_down': 10,     # MW/hr\n",
    "        'min_operating_time': 2,  # hr\n",
    "        'min_down_time': 2,   # hr\n",
    "    },\n",
    "    'eaf': {\n",
    "        'rated_power': 120,  # MW\n",
    "        'min_power': 40,     # MW\n",
    "        'specific_electricity_consumption': 0.12, # MWh per ton of steel\n",
    "        'specific_dri_demand': 1,  # ton per ton of steel\n",
    "        'specific_lime_demand': 0.1, # ton per ton of steel\n",
    "        'ramp_up': 8,        # MW/hr\n",
    "        'ramp_down': 8,      # MW/hr\n",
    "        'min_operating_time': 3,  # hr\n",
    "        'min_down_time': 2,   # hr\n",
    "    }\n",
    "}\n",
    "\n",
    "# Create a Steel Plant instance\n",
    "steel_plant = SteelPlant(\n",
    "    id='steel_plant_001',\n",
    "    unit_operator='SteelCo',\n",
    "    bidding_strategies={'EOM': 'NaiveDASteelplantStrategy'},\n",
    "    components=components,\n",
    "    objective='min_variable_cost',\n",
    "    demand=1000,  # tons of steel to produce\n",
    "    cost_tolerance=15,  # flexibility cost tolerance\n",
    "    index=time_steps\n",
    ")\n"
   ]
  },
  {
   "cell_type": "markdown",
   "metadata": {},
   "source": [
    "## Step 3: Connecting the Components\n",
    "\n",
    "After setting up the steel plant components, we will connect them to create a process flow for steel production. The **Electrolyser** produces hydrogen, which is consumed by the **DRI Plant**. The DRI produced by the DRI Plant is then processed by the **Electric Arc Furnace (EAF)**.\n",
    "\n",
    "In this step, we will call the `initialize_process_sequence()` function, which links these components together.\n"
   ]
  },
  {
   "cell_type": "code",
   "execution_count": null,
   "metadata": {
    "vscode": {
     "languageId": "shellscript"
    }
   },
   "outputs": [],
   "source": [
    "# Initialize the process sequence for the steel plant\n",
    "steel_plant.initialize_process_sequence()"
   ]
  },
  {
   "cell_type": "markdown",
   "metadata": {},
   "source": [
    "## Step 4: Simulating Steel Plant Operation\n",
    "\n",
    "The steel plant has an **objective function** that aims to minimize its **total variable costs** related to electricity consumption. This function takes into account:\n",
    "\n",
    "- The energy demand for producing a given amount of steel.\n",
    "- The operational costs of each component (e.g., Electrolyser, DRI Plant, Electric Arc Furnace).\n",
    "- Constraints such as ramp-up and ramp-down rates, minimum and maximum power levels, and operating efficiency.\n",
    "\n",
    "The goal of the optimization is to meet the steel demand at the lowest possible cost, given these constraints.\n",
    "\n",
    "We will now simulate the plant's operation using the `determine_optimal_operation_without_flex()` method. This method calculates the optimal operation **without flexibility** (i.e., without load-shifting).\n"
   ]
  },
  {
   "cell_type": "code",
   "execution_count": null,
   "metadata": {
    "vscode": {
     "languageId": "shellscript"
    }
   },
   "outputs": [],
   "source": [
    "# Simulate steel plant operation to minimize costs\n",
    "steel_plant.determine_optimal_operation_without_flex()\n",
    "\n",
    "# Get the optimal power requirement and total cost\n",
    "optimal_power = steel_plant.opt_power_requirement\n",
    "total_cost = steel_plant.total_cost\n",
    "\n",
    "print(\"Optimal Power Requirement (MW):\")\n",
    "print(optimal_power)\n",
    "\n",
    "print(\"Total Cost of Operation:\")\n",
    "print(total_cost)"
   ]
  },
  {
   "cell_type": "markdown",
   "metadata": {
    "vscode": {
     "languageId": "shellscript"
    }
   },
   "source": [
    "## Step 5: Integrating DSM Load Shifting\n",
    "\n",
    "The next step is to integrate **load-shifting** capabilities using the **DSM Load Shift** module. This allows the steel plant to adjust its power consumption based on market conditions, maximizing flexibility.\n",
    "\n",
    "We will now switch to `flexibility_measure = 'max_load_shift'` and recalculate the optimal operation with flexibility."
   ]
  },
  {
   "cell_type": "code",
   "execution_count": null,
   "metadata": {
    "vscode": {
     "languageId": "shellscript"
    }
   },
   "outputs": [],
   "source": [
    "# Enable DSM load shifting by adjusting the flexibility measure\n",
    "steel_plant.flexibility_measure = 'max_load_shift'\n",
    "\n",
    "# Simulate the steel plant with load-shifting flexibility\n",
    "steel_plant.determine_optimal_operation_with_flex()\n",
    "\n",
    "# Get the adjusted power requirement after load shifting\n",
    "flex_power = steel_plant.flex_power_requirement\n",
    "\n",
    "print(\"Power Requirement After Load Shifting (MW):\")\n",
    "print(flex_power)\n",
    "\n",
    "# Show total operational cost after flexibility is applied\n",
    "print(\"Total Cost After Load Shifting:\")\n",
    "print(steel_plant.total_cost)"
   ]
  },
  {
   "cell_type": "markdown",
   "metadata": {},
   "source": [
    "## Step 6: Visualizing the Results\n",
    "\n",
    "Finally, we can visualize the difference in power consumption before and after load-shifting. This helps us understand the impact of flexibility on electricity usage and cost."
   ]
  },
  {
   "cell_type": "code",
   "execution_count": null,
   "metadata": {
    "vscode": {
     "languageId": "shellscript"
    }
   },
   "outputs": [],
   "source": [
    "import matplotlib.pyplot as plt\n",
    "\n",
    "# Plot power requirement before and after load shifting\n",
    "plt.plot(optimal_power, label=\"Optimal Power (No Flex)\")\n",
    "plt.plot(flex_power, label=\"Power with Load Shift\", linestyle=\"--\")\n",
    "plt.title(\"Steel Plant Power Requirement with and without Flexibility\")\n",
    "plt.xlabel(\"Time\")\n",
    "plt.ylabel(\"Power (MW)\")\n",
    "plt.legend()\n",
    "plt.show()"
   ]
  },
  {
   "cell_type": "markdown",
   "metadata": {},
   "source": [
    "## Conclusion\n",
    "\n",
    "In this notebook, we demonstrated the setup and simulation of a **Steel Plant** using the ASSUME framework. We created components, connected them, and simulated the plant’s operation both with and without load-shifting flexibility.\n",
    "\n",
    "Key takeaways:\n",
    "- The steel plant can minimize electricity costs by optimizing its power consumption.\n",
    "- Integrating DSM Load Shifting allows the plant to respond to market conditions and increase its operational flexibility.\n",
    "\n",
    "This tutorial provides a foundation for simulating and optimizing energy usage in industrial processes."
   ]
  }
 ],
 "metadata": {
  "kernelspec": {
   "display_name": ".venv",
   "language": "python",
   "name": "python3"
  },
  "language_info": {
   "codemirror_mode": {
    "name": "ipython",
    "version": 3
   },
   "file_extension": ".py",
   "mimetype": "text/x-python",
   "name": "python",
   "nbconvert_exporter": "python",
   "pygments_lexer": "ipython3",
   "version": "3.12.0"
  }
 },
 "nbformat": 4,
 "nbformat_minor": 2
}
