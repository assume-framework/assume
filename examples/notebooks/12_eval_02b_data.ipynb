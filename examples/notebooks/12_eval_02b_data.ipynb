{
 "cells": [
  {
   "cell_type": "markdown",
   "metadata": {},
   "source": [
    "# Obtaining data for MA-DPG evaluation form example 02b\n"
   ]
  },
  {
   "cell_type": "code",
   "execution_count": 169,
   "metadata": {},
   "outputs": [],
   "source": [
    "# Module imports\n",
    "import os\n",
    "\n",
    "import matplotlib.pyplot as plt\n",
    "import numpy as np\n",
    "import pandas as pd\n",
    "import yaml\n",
    "from sklearn.manifold import TSNE\n",
    "from sklearn.preprocessing import StandardScaler\n",
    "from sqlalchemy import create_engine\n",
    "\n",
    "# assume module imports\n",
    "import examples.examples as examples\n",
    "from assume import World\n",
    "from assume.scenario.loader_csv import load_file, load_scenario_folder, run_learning"
   ]
  },
  {
   "cell_type": "markdown",
   "metadata": {},
   "source": [
    "## 1. Running example 02b"
   ]
  },
  {
   "cell_type": "code",
   "execution_count": 150,
   "metadata": {},
   "outputs": [],
   "source": [
    "example = \"small_learning_2\"\n",
    "db_uri = \"sqlite:///../local_db/assume_db.db\"\n",
    "inputs_dir = \"../inputs\"\n",
    "scenario = examples.available_examples[example][\"scenario\"]\n",
    "study_case = examples.available_examples[example][\"study_case\"]"
   ]
  },
  {
   "cell_type": "code",
   "execution_count": null,
   "metadata": {},
   "outputs": [],
   "source": [
    "# Run example 02b\n",
    "world = World(database_uri=db_uri, export_csv_path=\"../\" + examples.csv_path)\n",
    "load_scenario_folder(world, inputs_dir, scenario, study_case)\n",
    "run_learning(\n",
    "    world,\n",
    "    inputs_dir,\n",
    "    scenario,\n",
    "    study_case,\n",
    ")\n",
    "world.run()"
   ]
  },
  {
   "cell_type": "markdown",
   "metadata": {},
   "source": [
    "## 2. Retrieving the actions of the actors from the best run"
   ]
  },
  {
   "cell_type": "code",
   "execution_count": null,
   "metadata": {},
   "outputs": [],
   "source": [
    "# Best actors directory\n",
    "best_actors_dir = os.path.join(\n",
    "    inputs_dir,\n",
    "    scenario,\n",
    "    \"learned_strategies\",\n",
    "    study_case,\n",
    "    \"avg_reward_eval_policies/actors/\",\n",
    ")\n",
    "actors = os.listdir(best_actors_dir)\n",
    "actors"
   ]
  },
  {
   "cell_type": "markdown",
   "metadata": {},
   "source": [
    "### 2.1 Option 1: Retrieving the actions from the database:"
   ]
  },
  {
   "cell_type": "code",
   "execution_count": 153,
   "metadata": {},
   "outputs": [],
   "source": [
    "# Get the config file\n",
    "config_path = os.path.join(inputs_dir, scenario, \"config.yaml\")\n",
    "\n",
    "# Read the number of validation episodes from the config file\n",
    "with open(config_path) as file:\n",
    "    config = yaml.safe_load(file)[study_case]\n",
    "learning_config = config[\"learning_config\"]\n",
    "no_of_val_episodes = (\n",
    "    learning_config[\"training_episodes\"]\n",
    "    - learning_config[\"episodes_collecting_initial_experience\"]\n",
    ") // learning_config.get(\"validation_episodes_interval\", 5)"
   ]
  },
  {
   "cell_type": "code",
   "execution_count": null,
   "metadata": {},
   "outputs": [],
   "source": [
    "# Set up the database connection\n",
    "db = create_engine(db_uri)\n",
    "simulation = f\"{scenario}_{study_case}_eval\"\n",
    "\n",
    "# Get the average reward for each episode in order to determine the best episode.\n",
    "reward_df = pd.DataFrame(columns=[\"avg_reward\"], index=range(1, no_of_val_episodes + 1))\n",
    "for episode in range(1, no_of_val_episodes + 1):\n",
    "    query = f\"SELECT AVG(reward) as avg_reward FROM rl_params where simulation = '{simulation}_{episode}'\"\n",
    "    reward_df.at[episode, \"avg_reward\"] = pd.read_sql(query, db).values[0][0]\n",
    "reward_df.head()"
   ]
  },
  {
   "cell_type": "code",
   "execution_count": null,
   "metadata": {},
   "outputs": [],
   "source": [
    "episode = reward_df[\"avg_reward\"].idxmax()\n",
    "query = f\"SELECT datetime as dt, unit, actions_0, actions_1 FROM rl_params where simulation = '{simulation}_{episode}'\"\n",
    "actions_df = pd.read_sql(query, db)\n",
    "actions_df.index = pd.to_datetime(actions_df[\"dt\"])\n",
    "actions_df.drop(columns=[\"dt\"], inplace=True)\n",
    "actions_df"
   ]
  },
  {
   "cell_type": "markdown",
   "metadata": {},
   "source": [
    "## 3. Getting the demand dataframe"
   ]
  },
  {
   "cell_type": "code",
   "execution_count": null,
   "metadata": {},
   "outputs": [],
   "source": [
    "start = pd.Timestamp(config[\"start_date\"])\n",
    "end = pd.Timestamp(config[\"end_date\"])\n",
    "\n",
    "index = pd.date_range(\n",
    "    start=start,\n",
    "    end=end,\n",
    "    freq=config[\"time_step\"],\n",
    ")\n",
    "\n",
    "demand_df = load_file(\n",
    "    os.path.join(inputs_dir, scenario), config, file_name=\"demand_df\", index=index\n",
    ")\n",
    "demand_df"
   ]
  },
  {
   "cell_type": "code",
   "execution_count": null,
   "metadata": {},
   "outputs": [],
   "source": [
    "pp_units = pd.read_csv(\n",
    "    os.path.join(inputs_dir, scenario, \"powerplant_units.csv\"), index_col=0\n",
    ")\n",
    "pp_units"
   ]
  },
  {
   "cell_type": "code",
   "execution_count": null,
   "metadata": {},
   "outputs": [],
   "source": [
    "df = pd.merge(demand_df, actions_df, left_index=True, right_on=\"dt\")\n",
    "df = df.set_index(\"unit\", append=True)\n",
    "df"
   ]
  },
  {
   "cell_type": "code",
   "execution_count": null,
   "metadata": {},
   "outputs": [],
   "source": [
    "# sample 10% of the datetime indices\n",
    "dates = df.index.get_level_values(\"dt\").unique()\n",
    "sampled_dates = pd.Index(dates).to_series().sample(frac=0.1, random_state=42)\n",
    "sample_df = df.loc[df.index.get_level_values(\"dt\").isin(sampled_dates)]\n",
    "rest_df = df.loc[~df.index.get_level_values(\"dt\").isin(sampled_dates)]\n",
    "sample_df"
   ]
  },
  {
   "cell_type": "code",
   "execution_count": null,
   "metadata": {},
   "outputs": [],
   "source": [
    "colors = list([\"green\"] * len(rest_df)) + list([\"blue\"] * len(sample_df))\n",
    "\n",
    "# Scatter matrix\n",
    "fig = pd.plotting.scatter_matrix(\n",
    "    pd.concat([rest_df, sample_df], sort=False),\n",
    "    c=colors,\n",
    "    figsize=(7, 7),\n",
    "    range_padding=0.2,\n",
    "    hist_kwds={\"bins\": 20},  # Generic histogram configuration\n",
    "    s=30,\n",
    "    alpha=0.5,\n",
    ")\n",
    "\n",
    "# Customize histogram colors for each diagonal\n",
    "hist_colors = [\"green\", \"blue\"]\n",
    "for i, ax in enumerate(fig.diagonal()):\n",
    "    data_combined = pd.concat([rest_df.iloc[:, i], sample_df.iloc[:, i]])\n",
    "    ax.hist(\n",
    "        [rest_df.iloc[:, i], sample_df.iloc[:, i]],\n",
    "        bins=20,\n",
    "        color=hist_colors,\n",
    "        stacked=True,\n",
    "        alpha=0.7,\n",
    "    )\n",
    "\n",
    "# Show plot\n",
    "plt.show()"
   ]
  },
  {
   "cell_type": "code",
   "execution_count": 161,
   "metadata": {},
   "outputs": [],
   "source": [
    "demand_df_all_year = pd.read_csv(\n",
    "    os.path.join(inputs_dir, scenario, \"demand_df.csv\"), index_col=0\n",
    ")\n",
    "demand_df_all_year.index = pd.to_datetime(demand_df_all_year.index)"
   ]
  },
  {
   "cell_type": "code",
   "execution_count": null,
   "metadata": {},
   "outputs": [],
   "source": [
    "# Add a 'season' column\n",
    "def get_season(month):\n",
    "    if month in [12, 1, 2]:\n",
    "        return \"Winter\"\n",
    "    elif month in [3, 4, 5]:\n",
    "        return \"Spring\"\n",
    "    elif month in [6, 7, 8]:\n",
    "        return \"Summer\"\n",
    "    else:\n",
    "        return \"Fall\"\n",
    "\n",
    "\n",
    "demand_df_all_year[\"season\"] = demand_df_all_year.index.get_level_values(\n",
    "    \"datetime\"\n",
    ").month.map(get_season)\n",
    "demand_df = demand_df_all_year\n",
    "# demand_df['season'] = demand_df.index.get_level_values('dt').month.map(get_season)\n",
    "\n",
    "# Group data by season\n",
    "seasons = [\"Winter\", \"Spring\", \"Summer\", \"Fall\"]\n",
    "season_colors = {\"Winter\": \"blue\", \"Spring\": \"green\", \"Summer\": \"orange\", \"Fall\": \"red\"}\n",
    "season_data = {\n",
    "    season: demand_df[demand_df[\"season\"] == season][\"demand_EOM\"] for season in seasons\n",
    "}\n",
    "\n",
    "# Plot histogram with different colors for each season\n",
    "plt.figure(figsize=(10, 6))\n",
    "plt.hist(\n",
    "    [season_data[season] for season in seasons],\n",
    "    bins=20,\n",
    "    stacked=True,\n",
    "    color=[season_colors[season] for season in seasons],\n",
    "    label=seasons,\n",
    "    alpha=0.7,\n",
    ")\n",
    "plt.xlabel(\"Demand (EOM)\")\n",
    "plt.ylabel(\"Frequency\")\n",
    "plt.title(\"Histogram of Demand EOM by Season\")\n",
    "plt.legend(title=\"Season\")\n",
    "plt.show()"
   ]
  },
  {
   "cell_type": "markdown",
   "metadata": {},
   "source": [
    "Leichter demand shift zum Winter hin, zu erklären durch Heizwärmebedarf"
   ]
  },
  {
   "cell_type": "code",
   "execution_count": null,
   "metadata": {},
   "outputs": [],
   "source": [
    "scaler = StandardScaler()\n",
    "scaled_rest = scaler.fit_transform(rest_df)\n",
    "scaled_sample = scaler.transform(sample_df)\n",
    "\n",
    "# Apply t-SNE\n",
    "tsne = TSNE(n_components=2, random_state=42, perplexity=30, n_iter=1000)\n",
    "tsne_results = tsne.fit_transform(np.append(scaled_rest, scaled_sample, axis=0))\n",
    "\n",
    "# Plot the results\n",
    "plt.figure(figsize=(10, 6))\n",
    "plt.scatter(tsne_results[:, 0], tsne_results[:, 1], c=colors, alpha=0.7)\n",
    "plt.title(\"t-SNE Dimensionality Reduction\")\n",
    "plt.xlabel(\"tSNE-1\")\n",
    "plt.ylabel(\"tSNE-2\")\n",
    "plt.show()"
   ]
  },
  {
   "cell_type": "code",
   "execution_count": null,
   "metadata": {},
   "outputs": [],
   "source": []
  }
 ],
 "metadata": {
  "kernelspec": {
   "display_name": "assume",
   "language": "python",
   "name": "python3"
  },
  "language_info": {
   "codemirror_mode": {
    "name": "ipython",
    "version": 3
   },
   "file_extension": ".py",
   "mimetype": "text/x-python",
   "name": "python",
   "nbconvert_exporter": "python",
   "pygments_lexer": "ipython3",
   "version": "3.12.8"
  }
 },
 "nbformat": 4,
 "nbformat_minor": 2
}
