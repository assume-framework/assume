{
 "cells": [
  {
   "cell_type": "markdown",
   "metadata": {},
   "source": [
    "# 1. Minimal manual tutorial\n",
    "In this notebook, we will walk through a minimal example of how to use the ASSUME framework. We will first initialize the world instance, next we will create a single market and its operator, afterwards we wll add a generation and a demand agents, and finally start the simulation."
   ]
  },
  {
   "cell_type": "markdown",
   "metadata": {},
   "source": [
    "## Setting Up the Simulation Environment"
   ]
  },
  {
   "cell_type": "markdown",
   "metadata": {},
   "source": [
    "Here we just install the ASSUME core package via pip. The instructions for an installation can be found here: https://assume.readthedocs.io/en/latest/installation.html.\n",
    "\n",
    "This step is only required if you are working with this notebook in collab. If you are working locally and you have installed the assume package, you can skip this step."
   ]
  },
  {
   "cell_type": "code",
   "execution_count": null,
   "metadata": {
    "vscode": {
     "languageId": "shellscript"
    }
   },
   "outputs": [],
   "source": [
    "!pip install assume-framework"
   ]
  },
  {
   "cell_type": "markdown",
   "metadata": {},
   "source": [
    "First, let's set up the necessary environment and import the required libraries."
   ]
  },
  {
   "cell_type": "code",
   "execution_count": null,
   "metadata": {},
   "outputs": [],
   "source": [
    "import logging\n",
    "import os\n",
    "from datetime import datetime, timedelta\n",
    "\n",
    "import pandas as pd\n",
    "from dateutil import rrule as rr\n",
    "\n",
    "from assume import World\n",
    "from assume.common.forecasts import NaiveForecast\n",
    "from assume.common.market_objects import MarketConfig, MarketProduct\n",
    "\n",
    "log = logging.getLogger(__name__)\n",
    "\n",
    "os.makedirs(\"local_db\", exist_ok=True)\n",
    "\n",
    "db_uri = \"sqlite:///local_db/assume_db.db\"\n",
    "\n",
    "world = World(database_uri=db_uri)\n",
    "\n",
    "start = datetime(2023, 10, 4)\n",
    "end = datetime(2023, 12, 5)\n",
    "index = pd.date_range(\n",
    "    start=start,\n",
    "    end=end + timedelta(hours=24),\n",
    "    freq=\"h\",\n",
    ")\n",
    "sim_id = \"world_script_simulation\""
   ]
  },
  {
   "cell_type": "markdown",
   "metadata": {},
   "source": [
    "In this section, we begin by importing the necessary libraries and modules. Additionally, we define the database URI. For this instance, we will utilize a local SQLite database to store our results. In subsequent notebooks, we will transition to using a timescaledb database to store the results, which can then be visualized using the included Grafana dashboards. \n",
    "\n",
    "Subsequently, we instantiate the `World` class, the primary class responsible for managing the simulation. We also establish the simulation's start and end dates, define the simulation index and step size, and assign a simulation ID. This unique identifier is crucial for referencing the simulation in the database."
   ]
  },
  {
   "cell_type": "markdown",
   "metadata": {},
   "source": [
    "## Initializing the Simulation\n",
    "Next, we initialize the simulation by executing the setup function. The setup function sets up the environment for the simulation. It initializes various parameters and components required for the simulation run, including the clock, learning configuration, forecaster, container, connection type, and output agents."
   ]
  },
  {
   "cell_type": "code",
   "execution_count": null,
   "metadata": {},
   "outputs": [],
   "source": [
    "await world.setup(\n",
    "    start=start,\n",
    "    end=end,\n",
    "    save_frequency_hours=48,\n",
    "    simulation_id=sim_id,\n",
    "    index=index,\n",
    ")"
   ]
  },
  {
   "cell_type": "markdown",
   "metadata": {},
   "source": [
    "## Configuring market\n",
    "Here, we define a market configuration, set up a market operator, and add the configured market to the simulation world."
   ]
  },
  {
   "cell_type": "code",
   "execution_count": null,
   "metadata": {},
   "outputs": [],
   "source": [
    "marketdesign = [\n",
    "    MarketConfig(\n",
    "        market_id=\"EOM\",\n",
    "        opening_hours=rr.rrule(rr.HOURLY, interval=24, dtstart=start, until=end),\n",
    "        opening_duration=timedelta(hours=1),\n",
    "        market_mechanism=\"pay_as_clear\",\n",
    "        market_products=[MarketProduct(timedelta(hours=1), 24, timedelta(hours=1))],\n",
    "        additional_fields=[\"block_id\", \"link\", \"exclusive_id\"],\n",
    "    )\n",
    "]"
   ]
  },
  {
   "cell_type": "markdown",
   "metadata": {},
   "source": [
    "This code segment sets up a market configuration named \"EOM\" with specific opening hours, market mechanism, products, and additional fields, providing the foundation for simulating and analyzing the behavior of this particular electricity market.\n",
    "\n",
    "In this code:\n",
    "- `marketdesign` is a list containing a single market configuration.\n",
    "\n",
    "- `MarketConfig(...)` defines the configuration for a specific market. In this case, it's named \"EOM\" (End of Month).\n",
    "\n",
    "  - `name=\"EOM\"` - Specifies the name of the market configuration as \"EOM\".\n",
    "\n",
    "  - `opening_hours=rr.rrule(rr.HOURLY, interval=24, dtstart=start, until=end)` - Defines the opening hours for the market using a rule that repeats hourly with a 24-hour interval, starting at `start` and ending at `end`. This indicates that the market operates on a daily basis.\n",
    "\n",
    "  - `opening_duration=timedelta(hours=1)` - Specifies the duration of each market opening as 1 hour.\n",
    "\n",
    "  - `market_mechanism=\"pay_as_clear\"` - Indicates the market mechanism used, in this case, \"pay as clear\", which is a common mechanism in electricity markets where all accepted bids are paid the market-clearing price.\n",
    "\n",
    "  - `market_products=[MarketProduct(timedelta(hours=1), 24, timedelta(hours=1))]` - Defines the market products available. In this case, it seems to be a single product with a duration of 1 hour, 24 periods, and a period duration of 1 hour.\n",
    "\n",
    "  - `additional_fields=[\"block_id\", \"link\", \"exclusive_id\"]` - Specifies additional fields associated with this market configuration, such as \"block_id\", \"link\", and \"exclusive_id\"."
   ]
  },
  {
   "cell_type": "code",
   "execution_count": null,
   "metadata": {},
   "outputs": [],
   "source": [
    "mo_id = \"market_operator\"\n",
    "world.add_market_operator(id=mo_id)\n",
    "\n",
    "for market_config in marketdesign:\n",
    "    world.add_market(market_operator_id=mo_id, market_config=market_config)"
   ]
  },
  {
   "cell_type": "markdown",
   "metadata": {},
   "source": [
    "In this section, we add a market operator to the simulation world and create a market with previously defined configuration.\n",
    "\n",
    "In this code:\n",
    "- `mo_id = \"market_operator\"` assigns the identifier \"market_operator\" to the market operator.\n",
    "\n",
    "- `world.add_market_operator(id=mo_id)` adds a market operator to the simulation world with the specified identifier \"market_operator\". A market operator in this context represents an entity responsible for operating and managing one or more markets within the simulation.\n",
    "\n",
    "- The loop `for market_config in marketdesign:` iterates over the market configurations defined in the `marketdesign` list.\n",
    "\n",
    "  - `world.add_market(market_operator_id=mo_id, market_config=market_config)` associates each market configuration with the market operator identified by \"market_operator\". This effectively adds the specified market configuration to the simulation world under the management of the market operator."
   ]
  },
  {
   "cell_type": "markdown",
   "metadata": {},
   "source": [
    "## Adding Unit Operators and Units\n",
    "\n",
    "After initializing the simulation, and creating a market, we add unit operators and units to the simulation world."
   ]
  },
  {
   "cell_type": "code",
   "execution_count": null,
   "metadata": {},
   "outputs": [],
   "source": [
    "world.add_unit_operator(\"demand_operator\")\n",
    "\n",
    "demand_forecast = NaiveForecast(index, demand=100)\n",
    "\n",
    "world.add_unit(\n",
    "    id=\"demand_unit\",\n",
    "    unit_type=\"demand\",\n",
    "    unit_operator_id=\"demand_operator\",\n",
    "    unit_params={\n",
    "        \"min_power\": 0,\n",
    "        \"max_power\": 1000,\n",
    "        \"bidding_strategies\": {\"EOM\": \"naive_eom\"},\n",
    "        \"technology\": \"demand\",\n",
    "    },\n",
    "    forecaster=demand_forecast,\n",
    ")"
   ]
  },
  {
   "cell_type": "markdown",
   "metadata": {},
   "source": [
    "This code segment sets up a demand unit managed by the \"my_demand\" unit operator, equipped with a naive demand forecast, and establishes its operational parameters within the electricity market simulation framework.\n",
    "\n",
    "In this code:\n",
    "- `world.add_unit_operator(\"demand_operator\")` adds a unit operator with the identifier \"my_demand\" to the simulation world. A unit operator manages a group of similar units within the simulation.\n",
    "\n",
    "- `demand_forecast = NaiveForecast(index, demand=100)` creates a naive demand forecast object named `demand_forecast`. This forecast is initialized with an index and a constant demand value of 100.\n",
    "\n",
    "- `world.add_unit(...)` adds a demand unit to the simulation world with the following specifications:\n",
    "\n",
    "  - `id=\"demand_unit\"` assigns the identifier \"demand1\" to the demand unit.\n",
    "\n",
    "  - `unit_type=\"demand\"` specifies that this unit is of type \"demand\", indicating that it represents a consumer of electricity.\n",
    "\n",
    "  - `unit_operator_id=\"demand_operator\"` associates the unit with the unit operator identified as \"my_demand\".\n",
    "\n",
    "  - `unit_params` provides various parameters for the demand unit, including minimum and maximum power, bidding strategies, and technology type.\n",
    "\n",
    "  - `forecaster=demand_forecast` associates the demand forecast (`demand_forecast`) with the demand unit, allowing the unit to utilize this forecast for its behavior within the simulation."
   ]
  },
  {
   "cell_type": "code",
   "execution_count": null,
   "metadata": {},
   "outputs": [],
   "source": [
    "world.add_unit_operator(\"unit_operator\")\n",
    "\n",
    "nuclear_forecast = NaiveForecast(index, availability=1, fuel_price=3, co2_price=0.1)\n",
    "\n",
    "world.add_unit(\n",
    "    id=\"nuclear_unit\",\n",
    "    unit_type=\"power_plant\",\n",
    "    unit_operator_id=\"unit_operator\",\n",
    "    unit_params={\n",
    "        \"min_power\": 200,\n",
    "        \"max_power\": 1000,\n",
    "        \"bidding_strategies\": {\"EOM\": \"naive_eom\"},\n",
    "        \"technology\": \"nuclear\",\n",
    "    },\n",
    "    forecaster=nuclear_forecast,\n",
    ")"
   ]
  },
  {
   "cell_type": "markdown",
   "metadata": {},
   "source": [
    "This code segment sets up a nuclear power plant unit managed by the \"unit_operator\" unit operator, equipped with a naive availability and cost forecast, and establishes its operational parameters within the electricity market simulation framework.\n",
    "\n",
    "In this code:\n",
    "- `world.add_unit_operator(\"unit_operator\")` adds a unit operator with the identifier \"unit_operator\" to the simulation world. This unit operator will manage a group of similar units within the simulation.\n",
    "\n",
    "- `nuclear_forecast = NaiveForecast(index, availability=1, fuel_price=3, co2_price=0.1)` creates a naive forecast for the nuclear power plant. This forecast is initialized with an index, a constant availability of 1, a fuel price of 3, and a CO2 price of 0.1.\n",
    "\n",
    "- `world.add_unit(...)` adds a nuclear power plant unit to the simulation world with the following specifications:\n",
    "\n",
    "  - `id=\"nuclear_unit\"` assigns the identifier \"nuclear_unit\" to the nuclear power plant unit.\n",
    "\n",
    "  - `unit_type=\"power_plant\"` specifies that this unit is of type \"power_plant\", indicating that it represents a power generation facility.\n",
    "\n",
    "  - `unit_operator_id=\"unit_operator\"` associates the unit with the unit operator identified as \"unit_operator\".\n",
    "\n",
    "  - `unit_params` provides various parameters for the nuclear power plant unit, including minimum and maximum power, bidding strategies, and technology type.\n",
    "\n",
    "  - `forecaster=nuclear_forecast` associates the nuclear forecast (`nuclear_forecast`) with the nuclear power plant unit, allowing the unit to utilize this forecast for its behavior within the simulation."
   ]
  },
  {
   "cell_type": "markdown",
   "metadata": {},
   "source": [
    "## Running the Simulation\n",
    "\n",
    "Finally, we run the simulation to observe the market behaviors and outcomes."
   ]
  },
  {
   "cell_type": "code",
   "execution_count": null,
   "metadata": {},
   "outputs": [],
   "source": [
    "world.run()"
   ]
  },
  {
   "cell_type": "markdown",
   "metadata": {},
   "source": [
    "## Conclusion\n",
    "\n",
    "In this notebook, we have demonstrated the basic steps involved in setting up and running a simulation using the ASSUME framework for simulating electricity markets. This example is intended to provide a detailed overview of internal workings of the framework and its components. This approach can be used for small simulations with a few agents and markets. In the next notebook we will explore how this process is automated for large scale simulation using input files."
   ]
  },
  {
   "cell_type": "markdown",
   "metadata": {},
   "source": [
    "## The whole code as a single cell\n"
   ]
  },
  {
   "cell_type": "code",
   "execution_count": 1,
   "metadata": {},
   "outputs": [
    {
     "name": "stdout",
     "output_type": "stream",
     "text": [
      "INFO:assume.world:connected to db\n"
     ]
    },
    {
     "name": "stderr",
     "output_type": "stream",
     "text": [
      "world_script_simulation 2023-03-31 00:00:00: : 7689601.0it [00:02, 2611673.02it/s]                           \n"
     ]
    }
   ],
   "source": [
    "import logging\n",
    "from datetime import datetime, timedelta\n",
    "\n",
    "import pandas as pd\n",
    "from dateutil import rrule as rr\n",
    "\n",
    "from assume import World\n",
    "from assume.common.forecasts import NaiveForecast\n",
    "from assume.common.market_objects import MarketConfig, MarketProduct\n",
    "\n",
    "log = logging.getLogger(__name__)\n",
    "\n",
    "db_uri = \"sqlite:///local_db/assume_db.db\"\n",
    "\n",
    "\n",
    "# here we pack the prevoius code into a function\n",
    "# since the await keyword can only be used in an async function\n",
    "# and we want to use the await keyword to call the setup method\n",
    "# this is needed only for this manual example,\n",
    "# in the following notebooks we will not need this\n",
    "async def init(world):\n",
    "    start = datetime(2023, 1, 1)\n",
    "    end = datetime(2023, 3, 31)\n",
    "    index = pd.date_range(\n",
    "        start=start,\n",
    "        end=end + timedelta(hours=24),\n",
    "        freq=\"h\",\n",
    "    )\n",
    "    sim_id = \"world_script_simulation\"\n",
    "\n",
    "    await world.setup(\n",
    "        start=start,\n",
    "        end=end,\n",
    "        save_frequency_hours=48,\n",
    "        simulation_id=sim_id,\n",
    "        index=index,\n",
    "    )\n",
    "\n",
    "    marketdesign = [\n",
    "        MarketConfig(\n",
    "            market_id=\"EOM\",\n",
    "            opening_hours=rr.rrule(rr.HOURLY, interval=24, dtstart=start, until=end),\n",
    "            opening_duration=timedelta(hours=1),\n",
    "            market_mechanism=\"pay_as_clear\",\n",
    "            market_products=[MarketProduct(timedelta(hours=1), 24, timedelta(hours=1))],\n",
    "            additional_fields=[\"block_id\", \"link\", \"exclusive_id\"],\n",
    "        )\n",
    "    ]\n",
    "\n",
    "    mo_id = \"market_operator\"\n",
    "    world.add_market_operator(id=mo_id)\n",
    "\n",
    "    for market_config in marketdesign:\n",
    "        world.add_market(market_operator_id=mo_id, market_config=market_config)\n",
    "\n",
    "    world.add_unit_operator(\"demand_operator\")\n",
    "\n",
    "    demand_forecast = NaiveForecast(index, demand=100)\n",
    "\n",
    "    world.add_unit(\n",
    "        id=\"demand_unit\",\n",
    "        unit_type=\"demand\",\n",
    "        unit_operator_id=\"demand_operator\",\n",
    "        unit_params={\n",
    "            \"min_power\": 0,\n",
    "            \"max_power\": 1000,\n",
    "            \"bidding_strategies\": {\"EOM\": \"naive_eom\"},\n",
    "            \"technology\": \"demand\",\n",
    "        },\n",
    "        forecaster=demand_forecast,\n",
    "    )\n",
    "\n",
    "    world.add_unit_operator(\"unit_operator\")\n",
    "\n",
    "    nuclear_forecast = NaiveForecast(index, availability=1, fuel_price=3, co2_price=0.1)\n",
    "\n",
    "    world.add_unit(\n",
    "        id=\"nuclear_unit\",\n",
    "        unit_type=\"power_plant\",\n",
    "        unit_operator_id=\"unit_operator\",\n",
    "        unit_params={\n",
    "            \"min_power\": 200,\n",
    "            \"max_power\": 1000,\n",
    "            \"bidding_strategies\": {\"EOM\": \"naive_eom\"},\n",
    "            \"technology\": \"nuclear\",\n",
    "        },\n",
    "        forecaster=nuclear_forecast,\n",
    "    )\n",
    "\n",
    "\n",
    "if __name__ == \"__main__\":\n",
    "    world = World(database_uri=db_uri)\n",
    "    world.loop.run_until_complete(init(world))\n",
    "    world.run()"
   ]
  }
 ],
 "metadata": {
  "colab": {
   "include_colab_link": true,
   "provenance": [],
   "toc_visible": true
  },
  "kernelspec": {
   "display_name": "assume-framework",
   "language": "python",
   "name": "python3"
  },
  "language_info": {
   "codemirror_mode": {
    "name": "ipython",
    "version": 3
   },
   "file_extension": ".py",
   "mimetype": "text/x-python",
   "name": "python",
   "nbconvert_exporter": "python",
   "pygments_lexer": "ipython3",
   "version": "3.11.7"
  },
  "nbsphinx": {
   "execute": "never"
  }
 },
 "nbformat": 4,
 "nbformat_minor": 2
}
