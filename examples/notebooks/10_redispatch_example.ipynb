{
 "cells": [
  {
   "cell_type": "markdown",
   "metadata": {},
   "source": [
    "## Redispatch modelling using PyPSA\n",
    "\n",
    "This tutorial demonstrates modelling and simulation of redispatch mechanism using PyPSA as a plug and play module in ASSUME-framework. The model will be created mainly taking grid constraints into consideration to identify grid bottlenecks with dispatches from EOM and resolve them using the redispatch algorithm.\n",
    "\n",
    "### Concept of Redispatch:\n",
    "\n",
    "The locational mismatch in demand and generation of electricity needs transmission of electricity from low demand regions to high demand regions. The transmission capacity limits the maximum amounts of electricity which can be transmitted at any point in time. If there is no enough capacity to transmit the required amount of electricity then there is a need of ramping down of generation at the locations of low demand and ramping up of generation at the locations of higher demand. This is typically called as Redispatch. Apart from spot markets there is redispatch mechanism to regulate this grid flows to avoid congestion issues. It is operated and controlled by the System operators (SO).\n",
    "\n",
    "### Objective: \n",
    "The aim of redispatch is to reduce the overall cost of Redispatch(starting up, shuting down, ramping up, ramping down).\n",
    "\n",
    "### Structure in Redispatch model:\n",
    "- The redispatch has following structure:\n",
    "    1. **Ramping up of reserved powerplants**:\n",
    "    2. **Ramping up of market powerplants**\n",
    "    2. **Ramping down of market powerplants**:\n",
    "    3. **Ramping up/down of other flexibilites**:"
   ]
  },
  {
   "cell_type": "markdown",
   "metadata": {},
   "source": [
    "---\n",
    "### Objective of This Tutorial:\n",
    "In this tutorial, we will:\n",
    "1. Set up a **2-node** example of redispatch.\n",
    "2. Connect hypothetical **generators**,**loads** and **transmission lines** to illustrate flow of energy.\n",
    "3. Add **demand_side_units** to analyse their impact on overall redispatch.\n",
    "4. Simulate and visualize the results.\n",
    "---"
   ]
  },
  {
   "cell_type": "markdown",
   "metadata": {},
   "source": [
    "## Setting Up the Simulation Environment"
   ]
  },
  {
   "cell_type": "markdown",
   "metadata": {},
   "source": [
    "### A) Loads csv files from the given path and returns a dataframe"
   ]
  },
  {
   "cell_type": "code",
   "execution_count": null,
   "metadata": {
    "vscode": {
     "languageId": "shellscript"
    }
   },
   "outputs": [],
   "source": [
    "# Simplified function to add read required CSV files\n",
    "def read_grid(network_path: str | Path) -> dict[str, pd.DataFrame]:\n",
    "    network_path = Path(network_path)\n",
    "    buses = pd.read_csv(network_path / \"buses.csv\", index_col=0)\n",
    "    lines = pd.read_csv(network_path / \"lines.csv\", index_col=0)\n",
    "    generators = pd.read_csv(network_path / \"powerplant_units.csv\", index_col=0)\n",
    "    loads = pd.read_csv(network_path / \"demand_units.csv\", index_col=0)\n",
    "\n",
    "    return {\n",
    "        \"buses\": buses,\n",
    "        \"lines\": lines,\n",
    "        \"generators\": generators,\n",
    "        \"loads\": loads,\n",
    "    }"
   ]
  },
  {
   "cell_type": "markdown",
   "metadata": {},
   "source": [
    "### B) Simplified function to add generators to the grid network"
   ]
  },
  {
   "cell_type": "code",
   "execution_count": 12,
   "metadata": {
    "vscode": {
     "languageId": "shellscript"
    }
   },
   "outputs": [],
   "source": [
    "# Simplified function to add generators to the grid network\n",
    "def add_generators(\n",
    "    network: pypsa.Network,\n",
    "    generators: pd.DataFrame,\n",
    ") -> None:\n",
    "    \"\"\"\n",
    "    Add generators normally to the grid\n",
    "\n",
    "    Args:\n",
    "        network (pypsa.Network): the pypsa network to which the generators are\n",
    "        generators (pandas.DataFrame): the generators dataframe\n",
    "    \"\"\"\n",
    "    p_set = pd.DataFrame(\n",
    "        np.zeros((len(network.snapshots), len(generators.index))),\n",
    "        index=network.snapshots,\n",
    "        columns=generators.index,\n",
    "    )\n",
    "    # add generators\n",
    "    network.madd(\n",
    "        \"Generator\",\n",
    "        names=generators.index,\n",
    "        bus=generators[\"node\"],  # bus to which the generator is connected to\n",
    "        p_nom=generators[\"max_power\"],  # Nominal capacity of the powerplant/generator\n",
    "        p_min_pu=p_set,\n",
    "        p_max_pu=p_set + 1,\n",
    "        marginal_cost=p_set,\n",
    "        **generators,\n",
    "    )"
   ]
  },
  {
   "cell_type": "markdown",
   "metadata": {},
   "source": [
    "### C) Simplified function to add loads to the grid network"
   ]
  },
  {
   "cell_type": "code",
   "execution_count": null,
   "metadata": {
    "vscode": {
     "languageId": "shellscript"
    }
   },
   "outputs": [],
   "source": [
    "# Simplified function to add loads to the grid network\n",
    "def add_loads(\n",
    "    network: pypsa.Network,\n",
    "    loads: pd.DataFrame,\n",
    ") -> None:\n",
    "    \"\"\"\n",
    "    Add loads normally to the grid\n",
    "\n",
    "    Args:\n",
    "        network (pypsa.Network): the pypsa network to which the loads are\n",
    "        loads (pandas.DataFrame): the loads dataframe\n",
    "    \"\"\"\n",
    "\n",
    "    # add loads\n",
    "    network.madd(\n",
    "        \"Load\",\n",
    "        names=loads.index,\n",
    "        bus=loads[\"node\"],  # bus to which the generator is connected to\n",
    "        **loads,\n",
    "    )\n",
    "\n",
    "    if \"p_set\" not in loads.columns:\n",
    "        network.loads_t[\"p_set\"] = pd.DataFrame(\n",
    "            np.zeros((len(network.snapshots), len(loads.index))),\n",
    "            index=network.snapshots,\n",
    "            columns=loads.index,\n",
    "        )"
   ]
  },
  {
   "cell_type": "markdown",
   "metadata": {},
   "source": [
    "### D) Simplified function to add loads to the redispatch network"
   ]
  },
  {
   "cell_type": "code",
   "execution_count": null,
   "metadata": {
    "vscode": {
     "languageId": "shellscript"
    }
   },
   "outputs": [],
   "source": [
    "# Simplified function to add loads to the redispatch network\n",
    "def add_redispatch_loads(\n",
    "    network: pypsa.Network,\n",
    "    loads: pd.DataFrame,\n",
    ") -> None:\n",
    "    \"\"\"\n",
    "    This adds loads to the redispatch PyPSA network with respective bus data to which they are connected\n",
    "    \"\"\"\n",
    "    loads_c = loads.copy()\n",
    "    if \"sign\" in loads_c.columns:\n",
    "        del loads_c[\"sign\"]\n",
    "\n",
    "    # add loads with opposite sign (default for loads is -1). This is needed to properly model the redispatch\n",
    "    network.madd(\n",
    "        \"Load\",\n",
    "        names=loads.index,\n",
    "        bus=loads[\"node\"],  # bus to which the generator is connected to\n",
    "        sign=1,\n",
    "        **loads_c,\n",
    "    )\n",
    "\n",
    "    if \"p_set\" not in loads.columns:\n",
    "        network.loads_t[\"p_set\"] = pd.DataFrame(\n",
    "            np.zeros((len(network.snapshots), len(loads.index))),\n",
    "            index=network.snapshots,\n",
    "            columns=loads.index,\n",
    "        )"
   ]
  },
  {
   "cell_type": "code",
   "execution_count": null,
   "metadata": {
    "vscode": {
     "languageId": "shellscript"
    }
   },
   "outputs": [],
   "source": [
    "# Simplified function to add grid buses and lines to the redispatch network\n",
    "def read_pypsa_grid(\n",
    "    network: pypsa.Network,\n",
    "    grid_dict: dict[str, pd.DataFrame],\n",
    "):\n",
    "    \"\"\"\n",
    "    Generates the pypsa grid from a grid dictionary.\n",
    "    Does not add the generators, as they are added in different ways, depending on wether redispatch is used.\n",
    "\n",
    "    Args:\n",
    "        network (pypsa.Network): the pypsa network to which the components will be added\n",
    "        grid_dict (dict[str, pd.DataFrame]): the dictionary containing dataframes for generators, loads, buses and links\n",
    "    \"\"\"\n",
    "\n",
    "    def add_buses(network: pypsa.Network, buses: pd.DataFrame) -> None:\n",
    "        network.import_components_from_dataframe(buses, \"Bus\")\n",
    "\n",
    "    def add_lines(network: pypsa.Network, lines: pd.DataFrame) -> None:\n",
    "        network.import_components_from_dataframe(lines, \"Line\")\n",
    "\n",
    "    # setup the network\n",
    "    add_buses(network, grid_dict[\"buses\"])\n",
    "    add_lines(network, grid_dict[\"lines\"])\n",
    "    return network"
   ]
  },
  {
   "cell_type": "code",
   "execution_count": null,
   "metadata": {
    "vscode": {
     "languageId": "shellscript"
    }
   },
   "outputs": [],
   "source": []
  },
  {
   "cell_type": "markdown",
   "metadata": {},
   "source": [
    "## Step 1: Setting up grid network with infrastructure\n",
    "\n",
    "The grid infrastructure includes mainly three components:\n",
    "\n",
    "- **Generators**: Used to produce hydrogen for steel production.\n",
    "- **Loads**: Directly reduces iron ore using hydrogen.\n",
    "- **Transmission grid**: Converts the reduced iron into steel.\n",
    "\n",
    "\n",
    "Here the components are defined with their operational constraints (such as power, efficiency, ramp rates etc.)"
   ]
  },
  {
   "cell_type": "code",
   "execution_count": null,
   "metadata": {
    "vscode": {
     "languageId": "shellscript"
    }
   },
   "outputs": [],
   "source": [
    "import pypsa\n",
    "import numpy as np\n",
    "import pandas as pd"
   ]
  },
  {
   "cell_type": "markdown",
   "metadata": {},
   "source": [
    "## Step 2: Create a network and set Snapshots"
   ]
  },
  {
   "cell_type": "code",
   "execution_count": null,
   "metadata": {
    "vscode": {
     "languageId": "shellscript"
    }
   },
   "outputs": [],
   "source": [
    "# Create a new PyPSA network\n",
    "network = pypsa.Network()\n",
    "network.set_snapshots(range(1))  # Solve for a year 365*24\n",
    "solver='glpk'"
   ]
  },
  {
   "cell_type": "markdown",
   "metadata": {},
   "source": [
    "### A) Define Nodes (here in PyPSA terminoloy Bus) "
   ]
  },
  {
   "cell_type": "code",
   "execution_count": null,
   "metadata": {
    "vscode": {
     "languageId": "shellscript"
    }
   },
   "outputs": [],
   "source": [
    "buses = pd.DataFrame(\n",
    "    {\n",
    "        \"name\": [\"north_1\", \"north_2\", \"south\"],\n",
    "        \"v_nom\": [380.0, 380.0, 380.0],\n",
    "        \"zone_id\": [\"DE_1\", \"DE_1\", \"DE_2\"],\n",
    "        \"x\": [10.0, 9.5, 11.6],\n",
    "        \"y\": [54.0, 53.5, 48.1],\n",
    "    }\n",
    ")\n",
    "\n",
    "# Display the buses DataFrame\n",
    "print(\"Buses DataFrame:\")\n",
    "display(buses)"
   ]
  },
  {
   "cell_type": "code",
   "execution_count": null,
   "metadata": {
    "vscode": {
     "languageId": "shellscript"
    }
   },
   "outputs": [],
   "source": [
    "network.madd(\n",
    "\"Bus\",\n",
    "names\n",
    "**buses\n",
    ") "
   ]
  },
  {
   "cell_type": "markdown",
   "metadata": {},
   "source": [
    "### B) Define Powerplants (Generators in PyPSA)"
   ]
  },
  {
   "cell_type": "code",
   "execution_count": null,
   "metadata": {
    "vscode": {
     "languageId": "shellscript"
    }
   },
   "outputs": [],
   "source": [
    "powerplant_units = pd.DataFrame(\n",
    "    {\n",
    "        \"name\": names,\n",
    "        \"technology\": technology,\n",
    "        \"fuel_type\": fuel_type,\n",
    "        \"emission_factor\": emission_factor,\n",
    "        \"max_power\": max_power,\n",
    "        \"min_power\": min_power,\n",
    "        \"efficiency\": efficiency,\n",
    "        \"additional_cost\": additional_cost,\n",
    "        \"node\": node,\n",
    "        \"unit_operator\": unit_operator,\n",
    "    }\n",
    ")\n",
    "display(powerplant_units.head())"
   ]
  },
  {
   "cell_type": "code",
   "execution_count": null,
   "metadata": {
    "vscode": {
     "languageId": "shellscript"
    }
   },
   "outputs": [],
   "source": [
    "network.madd(\n",
    "\"Generator\",\n",
    "\n",
    ")"
   ]
  },
  {
   "cell_type": "markdown",
   "metadata": {},
   "source": [
    "### C) Define the demand units (Loads in PyPSA)"
   ]
  },
  {
   "cell_type": "code",
   "execution_count": null,
   "metadata": {
    "vscode": {
     "languageId": "shellscript"
    }
   },
   "outputs": [],
   "source": [
    "demand_units = pd.DataFrame(\n",
    "    {\n",
    "        \"name\": [\"demand_north_1\", \"demand_north_2\", \"demand_south\"],\n",
    "        \"technology\": [\"inflex_demand\"] * 3,\n",
    "        \"bidding_zonal\": [\"naive_eom\"] * 3,\n",
    "        \"max_power\": [100000, 100000, 100000],\n",
    "        \"min_power\": [0, 0, 0],\n",
    "        \"unit_operator\": [\"eom_de\"] * 3,\n",
    "        \"node\": [\"north_1\", \"north_2\", \"south\"],\n",
    "    }\n",
    ")\n",
    "\n",
    "display(demand_units)"
   ]
  },
  {
   "cell_type": "code",
   "execution_count": null,
   "metadata": {
    "vscode": {
     "languageId": "shellscript"
    }
   },
   "outputs": [],
   "source": [
    "network.madd(\n",
    "\"Load\",\n",
    "\n",
    ")"
   ]
  },
  {
   "cell_type": "markdown",
   "metadata": {},
   "source": [
    "### D) Define Lines"
   ]
  },
  {
   "cell_type": "code",
   "execution_count": null,
   "metadata": {
    "vscode": {
     "languageId": "shellscript"
    }
   },
   "outputs": [],
   "source": [
    "lines = pd.DataFrame(\n",
    "    {\n",
    "        \"name\": [\"Line_N1_S\", \"Line_N2_S\", \"Line_N1_N2\"],\n",
    "        \"bus0\": [\"north_1\", \"north_2\", \"north_1\"],\n",
    "        \"bus1\": [\"south\", \"south\", \"north_2\"],\n",
    "        \"s_nom\": [5000.0, 5000.0, 5000.0],\n",
    "        \"x\": [0.01, 0.01, 0.01],\n",
    "        \"r\": [0.001, 0.001, 0.001],\n",
    "    }\n",
    ")\n",
    "display(lines)"
   ]
  },
  {
   "cell_type": "code",
   "execution_count": null,
   "metadata": {
    "vscode": {
     "languageId": "shellscript"
    }
   },
   "outputs": [],
   "source": [
    "network.madd(\n",
    "\"Line\",\n",
    "\n",
    ")"
   ]
  },
  {
   "cell_type": "markdown",
   "metadata": {},
   "source": [
    "## Step 3: Solving to identify Network Congestion"
   ]
  },
  {
   "cell_type": "code",
   "execution_count": null,
   "metadata": {
    "vscode": {
     "languageId": "shellscript"
    }
   },
   "outputs": [],
   "source": [
    "network.pf()\n",
    "for i, (line_loading, s_nom_value) in enumerate(zip(round(network.lines_t.p0).values, network.lines.s_nom.values)):\n",
    "    line_name = f\"Line {i + 1}\"\n",
    "    if line_loading <= s_nom_value:\n",
    "        congestion_status = False\n",
    "        overloading = 0\n",
    "        print(\"There is no congestion\")\n",
    "    else:\n",
    "        congestion_status = True\n",
    "        overloading = line_loading - s_nom_value\n",
    "        print(\"The network is congested\")"
   ]
  },
  {
   "cell_type": "markdown",
   "metadata": {},
   "source": [
    "## Step 4: Redispatch Modelling"
   ]
  },
  {
   "cell_type": "markdown",
   "metadata": {},
   "source": []
  }
 ],
 "metadata": {
  "kernelspec": {
   "display_name": ".venv",
   "language": "python",
   "name": "python3"
  },
  "language_info": {
   "codemirror_mode": {
    "name": "ipython",
    "version": 3
   },
   "file_extension": ".py",
   "mimetype": "text/x-python",
   "name": "python",
   "nbconvert_exporter": "python",
   "pygments_lexer": "ipython3",
   "version": "3.12.6"
  }
 },
 "nbformat": 4,
 "nbformat_minor": 2
}
