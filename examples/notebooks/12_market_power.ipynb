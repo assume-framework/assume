{
 "cells": [
  {
   "cell_type": "markdown",
   "id": "4af3ff32",
   "metadata": {},
   "source": [
    "## 1. Get ASSUME Running\n",
    "\n",
    "This chapter walks you through setting up the ASSUME framework in your environment and preparing the required input files. At the end, you will confirm that the installation was successful and ready for use.\n",
    "\n",
    "\n",
    "### 1.1 Installation"
   ]
  },
  {
   "cell_type": "code",
   "execution_count": 2,
   "id": "8edeb759",
   "metadata": {},
   "outputs": [],
   "source": [
    "# Only run this cell if you are using Google Colab\n",
    "import importlib.util\n",
    "\n",
    "IN_COLAB = importlib.util.find_spec(\"google.colab\") is not None\n",
    "\n",
    "if IN_COLAB:\n",
    "    %pip install assume-framework"
   ]
  },
  {
   "cell_type": "markdown",
   "id": "5bc6ae9e",
   "metadata": {},
   "source": [
    "> **Note**: After installation, **Colab may prompt you to restart the session** due to dependency changes.\n",
    "> To do so, click **\"Runtime\" → \"Restart session...\"** in the menu bar, then re-run the cells above.\n"
   ]
  },
  {
   "cell_type": "markdown",
   "id": "a42ad298",
   "metadata": {},
   "source": [
    "#### On Your Local Machine\n",
    "\n",
    "To install ASSUME with all learning-related dependencies, run the following in your terminal:\n",
    "\n",
    "```bash\n",
    "pip install 'assume-framework[learning]'\n",
    "```\n",
    "\n",
    "This will install the simulation framework and the packages required for RL.\n",
    "\n"
   ]
  },
  {
   "cell_type": "markdown",
   "id": "8584747b",
   "metadata": {},
   "source": [
    "### 1.2 Repository Setup\n",
    "\n",
    "To access predefined simulation scenarios, clone the ASSUME repository (Colab only):"
   ]
  },
  {
   "cell_type": "code",
   "execution_count": 3,
   "id": "f3318eda",
   "metadata": {},
   "outputs": [],
   "source": [
    "# Only run this cell if you are using Google Colab\n",
    "if IN_COLAB:\n",
    "    !git clone --depth=1 https://github.com/assume-framework/assume.git assume-repo"
   ]
  },
  {
   "cell_type": "markdown",
   "id": "82c64651",
   "metadata": {},
   "source": [
    "> Local users may skip this step if input files are already available in the project directory.\n"
   ]
  },
  {
   "cell_type": "markdown",
   "id": "d7689ec3",
   "metadata": {},
   "source": [
    "### 1.3 Input Path Configuration\n",
    "\n",
    "We define the path to input files depending on whether you're in Colab or working locally. This variable will be used to load configuration and scenario files throughout the tutorial."
   ]
  },
  {
   "cell_type": "code",
   "execution_count": 3,
   "id": "45eeea55",
   "metadata": {},
   "outputs": [],
   "source": [
    "colab_inputs_path = \"assume-repo/examples/inputs\"\n",
    "local_inputs_path = \"../inputs\"\n",
    "\n",
    "inputs_path = colab_inputs_path if IN_COLAB else local_inputs_path"
   ]
  },
  {
   "cell_type": "markdown",
   "id": "5fc2b57d",
   "metadata": {},
   "source": [
    "### 1.4 Installation Check\n",
    "\n",
    "Use the following cell to ensure the installation was successful and that essential components are available. This test ensures that the simulation engine and RL strategy base class are accessible before continuing."
   ]
  },
  {
   "cell_type": "code",
   "execution_count": 7,
   "id": "c4da790f",
   "metadata": {},
   "outputs": [
    {
     "name": "stdout",
     "output_type": "stream",
     "text": [
      "✅ ASSUME framework is installed and functional.\n"
     ]
    }
   ],
   "source": [
    "import os, sys\n",
    "sys.path.append(os.path.abspath(\"../../\"))\n",
    "\n",
    "try:\n",
    "    from assume import World\n",
    "    from assume.strategies.learning_strategies import BaseLearningStrategy\n",
    "\n",
    "    print(\"✅ ASSUME framework is installed and functional.\")\n",
    "\n",
    "except ImportError as e:\n",
    "    print(\"❌ Failed to import essential components:\", e)\n",
    "    print(\n",
    "        \"Please review the installation instructions and ensure all dependencies are installed.\"\n",
    "    )"
   ]
  },
  {
   "cell_type": "markdown",
   "id": "105aebb6",
   "metadata": {},
   "source": [
    "### 1.5 Limitations in Colab\n",
    "\n",
    "Colab does not support Docker, so dashboard visualizations included in some ASSUME workflows will not be available. However, simulation runs and RL training can still be fully executed.\n",
    "\n",
    "* In **Colab**: Training and basic plotting are supported.\n",
    "* In **Local environments with Docker**: Full access, including dashboards.\n"
   ]
  },
  {
   "cell_type": "markdown",
   "id": "e9e4e5c0",
   "metadata": {},
   "source": [
    "### 1.6 Core Imports\n",
    "\n",
    "In this section, we import the core modules that will be used throughout the tutorial. Each import is explained to clarify its role."
   ]
  },
  {
   "cell_type": "markdown",
   "id": "739baa05",
   "metadata": {},
   "source": [
    "# 2. Simulation"
   ]
  },
  {
   "cell_type": "markdown",
   "id": "e2d1aa7b",
   "metadata": {},
   "source": [
    "# Testing Cournot strategy"
   ]
  },
  {
   "cell_type": "code",
   "execution_count": 18,
   "id": "4ec8868c",
   "metadata": {},
   "outputs": [
    {
     "name": "stdout",
     "output_type": "stream",
     "text": [
      "The autoreload extension is already loaded. To reload it, use:\n",
      "  %reload_ext autoreload\n",
      "INFO:assume.scenario.loader_csv:Input files path: ../inputs/example_01i\n",
      "INFO:assume.scenario.loader_csv:Study case: False\n",
      "INFO:assume.scenario.loader_csv:Simulation ID: example_01i_base\n",
      "INFO:assume.scenario.loader_csv:storage_units not found. Returning None\n",
      "INFO:assume.scenario.loader_csv:industrial_dsm_units not found. Returning None\n",
      "INFO:assume.scenario.loader_csv:residential_dsm_units not found. Returning None\n",
      "INFO:assume.scenario.loader_csv:forecasts_df not found. Returning None\n",
      "WARNING:assume.scenario.loader_csv:Resolution of demand_df (<15 * Minutes>) is higher than the simulation (<Hour>). Resampling using mean(). Make sure this is what you want.\n",
      "INFO:assume.scenario.loader_csv:Downsampling demand_df successful.\n",
      "WARNING:assume.scenario.loader_csv:Resolution of exchanges_df (<15 * Minutes>) is higher than the simulation (<Hour>). Resampling using mean(). Make sure this is what you want.\n",
      "INFO:assume.scenario.loader_csv:Downsampling exchanges_df successful.\n",
      "INFO:assume.scenario.loader_csv:availability_df not found. Returning None\n",
      "INFO:assume.scenario.loader_csv:buses not found. Returning None\n",
      "INFO:assume.scenario.loader_csv:lines not found. Returning None\n",
      "INFO:assume.scenario.loader_csv:save_frequency_hours is disabled due to CSV export being enabled. Data will be stored in the CSV files at the end of the simulation.\n",
      "INFO:assume.scenario.loader_csv:Adding markets\n",
      "INFO:assume.scenario.loader_csv:Read units from file\n",
      "INFO:assume.scenario.loader_csv:Adding power_plant units\n",
      "INFO:assume.scenario.loader_csv:Adding demand units\n",
      "INFO:assume.scenario.loader_csv:Adding unit operators and units\n"
     ]
    }
   ],
   "source": [
    "import os, sys\n",
    "sys.path.append(os.path.abspath(\"../../\"))\n",
    "from assume import World\n",
    "from assume.scenario.loader_csv import load_scenario_folder\n",
    "from assume.strategies.portfolio_strategies import CournotStrategy\n",
    "from assume.strategies.naive_strategies import NaiveSingleBidStrategy\n",
    "from assume.strategies.iterative_strategies import ErevRothStrategy\n",
    "%load_ext autoreload\n",
    "%autoreload 2\n",
    "\n",
    "world = World(export_csv_path=f\"outputs/12_market_power\")\n",
    "load_scenario_folder(\n",
    "    world,\n",
    "    inputs_path=inputs_path,\n",
    "    scenario=\"example_01i\",\n",
    "    study_case=False,\n",
    ")\n",
    "\n",
    "\n",
    "# # # # for markup in [0, 0.1, 0.5, 1, 10]:\n",
    "# # # #     world = World(export_csv_path=f\"outputs/12_market_power/markup_{markup}\")\n",
    "\n",
    "\n",
    "\n",
    "# # # #     for operator_id, units_operator in world.unit_operators.items():\n",
    "# # # #         for unit_id, unit in units_operator.units.items():\n",
    "# # # #             for market_id, market_strategy in unit.bidding_strategies.items():\n",
    "# # # #             if not(isinstance(market_strategy, NaiveSingleBidStrategy) \n",
    "# # # #                 or unit_id.startswith(\"demand\")):\n",
    "# # # #                     world.unit_operators[operator_id].use_portfolio_opt = True #have to manually activate this\n",
    "# # # #                     world.unit_operators[operator_id].portfolio_strategy = CournotStrategy(markup=markup)\n",
    "# # # #                     world.unit_operators[operator_id].portfolio_strategy = CournotStrategy(markup=markup)\n",
    "\n",
    "# # # #                 print(\n",
    "# # # #                     f\"Operator: {operator_id}, Unit: {unit_id}, Market: {market_id} uses {market_strategy}\"\n",
    "# # # #                 )\n",
    "\n",
    "# # # #     world.run()"
   ]
  },
  {
   "cell_type": "code",
   "execution_count": 20,
   "id": "cc76c9cd",
   "metadata": {},
   "outputs": [
    {
     "data": {
      "text/plain": [
       "{}"
      ]
     },
     "execution_count": 20,
     "metadata": {},
     "output_type": "execute_result"
    }
   ],
   "source": [
    "world.unit_operators['Operator 1'].portfolio_strategies"
   ]
  },
  {
   "cell_type": "markdown",
   "id": "b330d847",
   "metadata": {},
   "source": [
    "## Testing Erev Roth strategy"
   ]
  },
  {
   "cell_type": "code",
   "execution_count": 9,
   "id": "e0082436",
   "metadata": {},
   "outputs": [
    {
     "name": "stdout",
     "output_type": "stream",
     "text": [
      "The autoreload extension is already loaded. To reload it, use:\n",
      "  %reload_ext autoreload\n",
      "INFO:assume.scenario.loader_csv:Input files path: ../inputs/example_01b\n",
      "INFO:assume.scenario.loader_csv:Study case: False\n",
      "INFO:assume.scenario.loader_csv:Simulation ID: example_01b_base\n",
      "INFO:assume.scenario.loader_csv:storage_units not found. Returning None\n",
      "INFO:assume.scenario.loader_csv:exchange_units not found. Returning None\n",
      "INFO:assume.scenario.loader_csv:industrial_dsm_units not found. Returning None\n",
      "INFO:assume.scenario.loader_csv:residential_dsm_units not found. Returning None\n",
      "INFO:assume.scenario.loader_csv:forecasts_df not found. Returning None\n",
      "WARNING:assume.scenario.loader_csv:Resolution of demand_df (<15 * Minutes>) is higher than the simulation (<Hour>). Resampling using mean(). Make sure this is what you want.\n",
      "INFO:assume.scenario.loader_csv:Downsampling demand_df successful.\n",
      "INFO:assume.scenario.loader_csv:exchanges_df not found. Returning None\n",
      "WARNING:assume.scenario.loader_csv:Resolution of availability_df (<15 * Minutes>) is higher than the simulation (<Hour>). Resampling using mean(). Make sure this is what you want.\n",
      "INFO:assume.scenario.loader_csv:Downsampling availability_df successful.\n",
      "INFO:assume.scenario.loader_csv:buses not found. Returning None\n",
      "INFO:assume.scenario.loader_csv:lines not found. Returning None\n",
      "INFO:assume.scenario.loader_csv:save_frequency_hours is disabled due to CSV export being enabled. Data will be stored in the CSV files at the end of the simulation.\n",
      "INFO:assume.scenario.loader_csv:Adding markets\n",
      "INFO:assume.scenario.loader_csv:Read units from file\n",
      "INFO:assume.scenario.loader_csv:Adding power_plant units\n",
      "INFO:assume.scenario.loader_csv:Adding demand units\n",
      "INFO:assume.scenario.loader_csv:Adding unit operators and units\n"
     ]
    },
    {
     "name": "stderr",
     "output_type": "stream",
     "text": [
      "  0%|          | 0/2678400 [00:00<?, ?it/s]"
     ]
    },
    {
     "name": "stdout",
     "output_type": "stream",
     "text": [
      "OFC the reward is calculated\n",
      "OFC the reward is calculated\n",
      "OFC the reward is calculated\n",
      "OFC the reward is calculated\n",
      "OFC the reward is calculated\n",
      "OFC the reward is calculated\n",
      "OFC the reward is calculated\n",
      "OFC the reward is calculated\n"
     ]
    },
    {
     "name": "stderr",
     "output_type": "stream",
     "text": [
      "example_01b_base 2019-01-01 01:00:00:   0%|          | 7201/2678400 [00:00<00:38, 69525.95it/s]"
     ]
    },
    {
     "name": "stdout",
     "output_type": "stream",
     "text": [
      "OFC the reward is calculated\n",
      "OFC the reward is calculated\n",
      "OFC the reward is calculated\n",
      "OFC the reward is calculated\n",
      "OFC the reward is calculated\n",
      "OFC the reward is calculated\n",
      "OFC the reward is calculated\n",
      "OFC the reward is calculated\n",
      "OFC the reward is calculated\n",
      "OFC the reward is calculated\n",
      "OFC the reward is calculated\n",
      "OFC the reward is calculated\n"
     ]
    },
    {
     "name": "stderr",
     "output_type": "stream",
     "text": [
      "example_01b_base 2019-01-01 06:00:00:   1%|          | 25201/2678400 [00:00<00:22, 116309.33it/s]"
     ]
    },
    {
     "name": "stdout",
     "output_type": "stream",
     "text": [
      "OFC the reward is calculated\n",
      "OFC the reward is calculated\n",
      "OFC the reward is calculated\n",
      "OFC the reward is calculated\n",
      "OFC the reward is calculated\n",
      "OFC the reward is calculated\n",
      "OFC the reward is calculated\n",
      "OFC the reward is calculated\n",
      "OFC the reward is calculated\n",
      "OFC the reward is calculated\n",
      "OFC the reward is calculated\n",
      "OFC the reward is calculated\n",
      "OFC the reward is calculated\n",
      "OFC the reward is calculated\n",
      "OFC the reward is calculated\n",
      "OFC the reward is calculated\n",
      "OFC the reward is calculated"
     ]
    },
    {
     "name": "stderr",
     "output_type": "stream",
     "text": [
      "example_01b_base 2019-01-01 10:00:00:   1%|▏         | 39601/2678400 [00:00<00:23, 113796.04it/s]"
     ]
    },
    {
     "name": "stdout",
     "output_type": "stream",
     "text": [
      "\n",
      "OFC the reward is calculated\n",
      "OFC the reward is calculated\n",
      "OFC the reward is calculated\n",
      "OFC the reward is calculated\n",
      "OFC the reward is calculated\n",
      "OFC the reward is calculated\n",
      "OFC the reward is calculated\n"
     ]
    },
    {
     "name": "stderr",
     "output_type": "stream",
     "text": [
      "example_01b_base 2019-01-01 14:00:00:   2%|▏         | 54001/2678400 [00:00<00:22, 114304.04it/s]"
     ]
    },
    {
     "name": "stdout",
     "output_type": "stream",
     "text": [
      "OFC the reward is calculated\n",
      "OFC the reward is calculated\n",
      "OFC the reward is calculated\n",
      "OFC the reward is calculated\n",
      "OFC the reward is calculated\n",
      "OFC the reward is calculated\n",
      "OFC the reward is calculated\n",
      "OFC the reward is calculated\n",
      "OFC the reward is calculated\n",
      "OFC the reward is calculated\n",
      "OFC the reward is calculated\n",
      "OFC the reward is calculated\n",
      "OFC the reward is calculated\n",
      "OFC the reward is calculated\n",
      "OFC the reward is calculated\n",
      "OFC the reward is calculated\n",
      "OFC the reward is calculated\n",
      "OFC the reward is calculated\n",
      "OFC the reward is calculated\n",
      "OFC the reward is calculated\n",
      "OFC the reward is calculated\n",
      "OFC the reward is calculated\n",
      "OFC the reward is calculated\n",
      "OFC the reward is calculated\n"
     ]
    },
    {
     "name": "stderr",
     "output_type": "stream",
     "text": [
      "example_01b_base 2019-01-01 18:00:00:   3%|▎         | 68401/2678400 [00:00<00:23, 111841.94it/s]"
     ]
    },
    {
     "name": "stdout",
     "output_type": "stream",
     "text": [
      "OFC the reward is calculated\n",
      "OFC the reward is calculated\n",
      "OFC the reward is calculated\n",
      "OFC the reward is calculated\n",
      "OFC the reward is calculated\n",
      "OFC the reward is calculated\n",
      "OFC the reward is calculated\n",
      "OFC the reward is calculated\n",
      "OFC the reward is calculated\n",
      "OFC the reward is calculated\n",
      "OFC the reward is calculated\n",
      "OFC the reward is calculated\n",
      "OFC the reward is calculated\n",
      "OFC the reward is calculated\n",
      "OFC the reward is calculated\n",
      "OFC the reward is calculated\n",
      "OFC the reward is calculated\n",
      "OFC the reward is calculated\n",
      "OFC the reward is calculated\n",
      "OFC the reward is calculated\n",
      "OFC the reward is calculated\n",
      "OFC the reward is calculated\n",
      "OFC the reward is calculated\n",
      "OFC the reward is calculated\n"
     ]
    },
    {
     "name": "stderr",
     "output_type": "stream",
     "text": [
      "example_01b_base 2019-01-02 04:00:00:   4%|▍         | 104401/2678400 [00:00<00:25, 101783.20it/s]"
     ]
    },
    {
     "name": "stdout",
     "output_type": "stream",
     "text": [
      "OFC the reward is calculated\n",
      "OFC the reward is calculated\n",
      "OFC the reward is calculated\n",
      "OFC the reward is calculated\n",
      "OFC the reward is calculated\n",
      "OFC the reward is calculated\n",
      "OFC the reward is calculated\n",
      "OFC the reward is calculated\n",
      "OFC the reward is calculated\n",
      "OFC the reward is calculated\n",
      "OFC the reward is calculated\n",
      "OFC the reward is calculated\n",
      "OFC the reward is calculated\n",
      "OFC the reward is calculated\n",
      "OFC the reward is calculated\n",
      "OFC the reward is calculated\n",
      "OFC the reward is calculated\n",
      "OFC the reward is calculated\n",
      "OFC the reward is calculated\n",
      "OFC the reward is calculated\n",
      "OFC the reward is calculated\n",
      "OFC the reward is calculated\n",
      "OFC the reward is calculated\n",
      "OFC the reward is calculated\n",
      "OFC the reward is calculated\n",
      "OFC the reward is calculated\n",
      "OFC the reward is calculated\n",
      "OFC the reward is calculated\n",
      "OFC the reward is calculated\n",
      "OFC the reward is calculated\n",
      "OFC the reward is calculated\n",
      "OFC the reward is calculated\n"
     ]
    },
    {
     "name": "stderr",
     "output_type": "stream",
     "text": [
      "example_01b_base 2019-01-02 07:00:00:   4%|▍         | 115201/2678400 [00:01<00:26, 96251.68it/s] "
     ]
    },
    {
     "name": "stdout",
     "output_type": "stream",
     "text": [
      "OFC the reward is calculated\n",
      "OFC the reward is calculated\n",
      "OFC the reward is calculated\n",
      "OFC the reward is calculated\n",
      "OFC the reward is calculated\n",
      "OFC the reward is calculated\n",
      "OFC the reward is calculated\n",
      "OFC the reward is calculated\n",
      "OFC the reward is calculated\n",
      "OFC the reward is calculated\n",
      "OFC the reward is calculated\n",
      "OFC the reward is calculated\n",
      "OFC the reward is calculated\n",
      "OFC the reward is calculated\n",
      "OFC the reward is calculated\n",
      "OFC the reward is calculated\n"
     ]
    },
    {
     "name": "stderr",
     "output_type": "stream",
     "text": [
      "example_01b_base 2019-01-02 13:00:00:   5%|▌         | 136801/2678400 [00:01<00:32, 77906.58it/s]"
     ]
    },
    {
     "name": "stdout",
     "output_type": "stream",
     "text": [
      "OFC the reward is calculated\n",
      "OFC the reward is calculated\n",
      "OFC the reward is calculated\n",
      "OFC the reward is calculated\n",
      "OFC the reward is calculated\n",
      "OFC the reward is calculated\n",
      "OFC the reward is calculated\n",
      "OFC the reward is calculated\n",
      "OFC the reward is calculated\n",
      "OFC the reward is calculated\n",
      "OFC the reward is calculated\n",
      "OFC the reward is calculated\n",
      "OFC the reward is calculated\n",
      "OFC the reward is calculated\n",
      "OFC the reward is calculated\n",
      "OFC the reward is calculated\n"
     ]
    },
    {
     "name": "stderr",
     "output_type": "stream",
     "text": [
      "example_01b_base 2019-01-02 16:00:00:   6%|▌         | 147601/2678400 [00:01<00:33, 76681.74it/s]"
     ]
    },
    {
     "name": "stdout",
     "output_type": "stream",
     "text": [
      "OFC the reward is calculated\n",
      "OFC the reward is calculated\n",
      "OFC the reward is calculated\n",
      "OFC the reward is calculated\n",
      "OFC the reward is calculated\n",
      "OFC the reward is calculated\n",
      "OFC the reward is calculated\n",
      "OFC the reward is calculated\n",
      "OFC the reward is calculated\n",
      "OFC the reward is calculated\n",
      "OFC the reward is calculated\n",
      "OFC the reward is calculated\n",
      "OFC the reward is calculated\n",
      "OFC the reward is calculated\n",
      "OFC the reward is calculated\n",
      "OFC the reward is calculated\n",
      "OFC the reward is calculated\n",
      "OFC the reward is calculated\n",
      "OFC the reward is calculated\n"
     ]
    },
    {
     "name": "stderr",
     "output_type": "stream",
     "text": [
      "example_01b_base 2019-01-02 22:00:00:   6%|▋         | 169201/2678400 [00:01<00:32, 76319.34it/s]"
     ]
    },
    {
     "name": "stdout",
     "output_type": "stream",
     "text": [
      "OFC the reward is calculated\n",
      "OFC the reward is calculated\n",
      "OFC the reward is calculated\n",
      "OFC the reward is calculated\n",
      "OFC the reward is calculated\n",
      "OFC the reward is calculated\n",
      "OFC the reward is calculated\n",
      "OFC the reward is calculated\n",
      "OFC the reward is calculated\n",
      "OFC the reward is calculated\n",
      "OFC the reward is calculated\n",
      "OFC the reward is calculated\n",
      "OFC the reward is calculated\n",
      "OFC the reward is calculated\n",
      "OFC the reward is calculated\n",
      "OFC the reward is calculated\n",
      "OFC the reward is calculated\n",
      "OFC the reward is calculated\n",
      "OFC the reward is calculated\n",
      "OFC the reward is calculated\n",
      "OFC the reward is calculated\n"
     ]
    },
    {
     "name": "stderr",
     "output_type": "stream",
     "text": [
      "example_01b_base 2019-01-03 01:00:00:   7%|▋         | 180001/2678400 [00:02<00:33, 75515.60it/s]"
     ]
    },
    {
     "name": "stdout",
     "output_type": "stream",
     "text": [
      "OFC the reward is calculated\n",
      "OFC the reward is calculated\n",
      "OFC the reward is calculated\n",
      "OFC the reward is calculated\n",
      "OFC the reward is calculated\n",
      "OFC the reward is calculated\n",
      "OFC the reward is calculated\n",
      "OFC the reward is calculated\n",
      "OFC the reward is calculated\n",
      "OFC the reward is calculated\n",
      "OFC the reward is calculated\n",
      "OFC the reward is calculated\n",
      "OFC the reward is calculated\n",
      "OFC the reward is calculated\n",
      "OFC the reward is calculated\n",
      "OFC the reward is calculated\n"
     ]
    },
    {
     "name": "stderr",
     "output_type": "stream",
     "text": [
      "example_01b_base 2019-01-03 07:00:00:   8%|▊         | 201601/2678400 [00:02<00:33, 72944.96it/s]"
     ]
    },
    {
     "name": "stdout",
     "output_type": "stream",
     "text": [
      "OFC the reward is calculated\n",
      "OFC the reward is calculated\n",
      "OFC the reward is calculated\n",
      "OFC the reward is calculated\n",
      "OFC the reward is calculated\n",
      "OFC the reward is calculated\n",
      "OFC the reward is calculated\n",
      "OFC the reward is calculated\n",
      "OFC the reward is calculated\n",
      "OFC the reward is calculated\n",
      "OFC the reward is calculated\n",
      "OFC the reward is calculated\n",
      "OFC the reward is calculated\n",
      "OFC the reward is calculated\n",
      "OFC the reward is calculated\n",
      "OFC the reward is calculated\n",
      "OFC the reward is calculated\n",
      "OFC the reward is calculated\n",
      "OFC the reward is calculated\n",
      "OFC the reward is calculated\n"
     ]
    },
    {
     "name": "stderr",
     "output_type": "stream",
     "text": [
      "example_01b_base 2019-01-03 10:00:00:   8%|▊         | 212401/2678400 [00:02<00:32, 75453.62it/s]"
     ]
    },
    {
     "name": "stdout",
     "output_type": "stream",
     "text": [
      "OFC the reward is calculated\n",
      "OFC the reward is calculated\n",
      "OFC the reward is calculated\n",
      "OFC the reward is calculated\n",
      "OFC the reward is calculated\n",
      "OFC the reward is calculated\n",
      "OFC the reward is calculated\n",
      "OFC the reward is calculated\n",
      "OFC the reward is calculated\n",
      "OFC the reward is calculated\n",
      "OFC the reward is calculated\n",
      "OFC the reward is calculated\n",
      "OFC the reward is calculated\n",
      "OFC the reward is calculated\n",
      "OFC the reward is calculated\n",
      "OFC the reward is calculated\n"
     ]
    },
    {
     "name": "stderr",
     "output_type": "stream",
     "text": [
      "example_01b_base 2019-01-03 16:00:00:   9%|▊         | 234001/2678400 [00:02<00:33, 73175.95it/s]"
     ]
    },
    {
     "name": "stdout",
     "output_type": "stream",
     "text": [
      "OFC the reward is calculated\n",
      "OFC the reward is calculated\n",
      "OFC the reward is calculated\n",
      "OFC the reward is calculated\n",
      "OFC the reward is calculated\n",
      "OFC the reward is calculated\n",
      "OFC the reward is calculated\n",
      "OFC the reward is calculated\n",
      "OFC the reward is calculated\n",
      "OFC the reward is calculated\n",
      "OFC the reward is calculated\n",
      "OFC the reward is calculated\n",
      "OFC the reward is calculated\n",
      "OFC the reward is calculated\n",
      "OFC the reward is calculated\n",
      "OFC the reward is calculated\n",
      "OFC the reward is calculated\n",
      "OFC the reward is calculated\n",
      "OFC the reward is calculated\n",
      "OFC the reward is calculated\n"
     ]
    },
    {
     "name": "stderr",
     "output_type": "stream",
     "text": [
      "example_01b_base 2019-01-03 22:00:00:  10%|▉         | 255601/2678400 [00:03<00:32, 73750.55it/s]"
     ]
    },
    {
     "name": "stdout",
     "output_type": "stream",
     "text": [
      "OFC the reward is calculated\n",
      "OFC the reward is calculated\n",
      "OFC the reward is calculated\n",
      "OFC the reward is calculated\n",
      "OFC the reward is calculated\n",
      "OFC the reward is calculated\n",
      "OFC the reward is calculated\n",
      "OFC the reward is calculated\n",
      "OFC the reward is calculated\n",
      "OFC the reward is calculated\n",
      "OFC the reward is calculated\n",
      "OFC the reward is calculated\n",
      "OFC the reward is calculated\n",
      "OFC the reward is calculated\n",
      "OFC the reward is calculated\n",
      "OFC the reward is calculated\n",
      "OFC the reward is calculated\n",
      "OFC the reward is calculated\n",
      "OFC the reward is calculated\n",
      "OFC the reward is calculated\n"
     ]
    },
    {
     "name": "stderr",
     "output_type": "stream",
     "text": [
      "example_01b_base 2019-01-04 01:00:00:  10%|▉         | 266401/2678400 [00:03<00:30, 78111.11it/s]"
     ]
    },
    {
     "name": "stdout",
     "output_type": "stream",
     "text": [
      "OFC the reward is calculated\n",
      "OFC the reward is calculated\n",
      "OFC the reward is calculated\n",
      "OFC the reward is calculated\n",
      "OFC the reward is calculated\n",
      "OFC the reward is calculated\n",
      "OFC the reward is calculated\n",
      "OFC the reward is calculated\n",
      "OFC the reward is calculated\n",
      "OFC the reward is calculated\n",
      "OFC the reward is calculated\n",
      "OFC the reward is calculated\n",
      "OFC the reward is calculated\n",
      "OFC the reward is calculated\n",
      "OFC the reward is calculated\n",
      "OFC the reward is calculated\n",
      "OFC the reward is calculated\n",
      "OFC the reward is calculated\n",
      "OFC the reward is calculated\n",
      "OFC the reward is calculated\n"
     ]
    },
    {
     "name": "stderr",
     "output_type": "stream",
     "text": [
      "example_01b_base 2019-01-04 07:00:00:  11%|█         | 288001/2678400 [00:03<00:30, 78717.71it/s]"
     ]
    },
    {
     "name": "stdout",
     "output_type": "stream",
     "text": [
      "OFC the reward is calculated\n",
      "OFC the reward is calculated\n",
      "OFC the reward is calculated\n",
      "OFC the reward is calculated\n",
      "OFC the reward is calculated\n",
      "OFC the reward is calculated\n",
      "OFC the reward is calculated\n",
      "OFC the reward is calculated\n",
      "OFC the reward is calculated\n",
      "OFC the reward is calculated\n",
      "OFC the reward is calculated\n",
      "OFC the reward is calculated\n",
      "OFC the reward is calculated\n",
      "OFC the reward is calculated\n",
      "OFC the reward is calculated\n",
      "OFC the reward is calculated\n",
      "OFC the reward is calculated\n",
      "OFC the reward is calculated\n",
      "OFC the reward is calculated\n",
      "OFC the reward is calculated\n"
     ]
    },
    {
     "name": "stderr",
     "output_type": "stream",
     "text": [
      "example_01b_base 2019-01-04 13:00:00:  12%|█▏        | 309601/2678400 [00:03<00:29, 80270.63it/s]"
     ]
    },
    {
     "name": "stdout",
     "output_type": "stream",
     "text": [
      "OFC the reward is calculated\n",
      "OFC the reward is calculated\n",
      "OFC the reward is calculated\n",
      "OFC the reward is calculated\n",
      "OFC the reward is calculated\n",
      "OFC the reward is calculated\n",
      "OFC the reward is calculated\n",
      "OFC the reward is calculated\n",
      "OFC the reward is calculated\n",
      "OFC the reward is calculated\n",
      "OFC the reward is calculated\n",
      "OFC the reward is calculated\n",
      "OFC the reward is calculated\n",
      "OFC the reward is calculated\n",
      "OFC the reward is calculated\n",
      "OFC the reward is calculated\n",
      "OFC the reward is calculated\n",
      "OFC the reward is calculated\n",
      "OFC the reward is calculated\n",
      "OFC the reward is calculated\n",
      "OFC the reward is calculated\n"
     ]
    },
    {
     "name": "stderr",
     "output_type": "stream",
     "text": [
      "example_01b_base 2019-01-04 16:00:00:  12%|█▏        | 320401/2678400 [00:03<00:34, 67531.15it/s]"
     ]
    },
    {
     "name": "stdout",
     "output_type": "stream",
     "text": [
      "OFC the reward is calculated\n",
      "OFC the reward is calculated\n",
      "OFC the reward is calculated\n",
      "OFC the reward is calculated\n",
      "OFC the reward is calculated\n",
      "OFC the reward is calculated\n",
      "OFC the reward is calculated\n",
      "OFC the reward is calculated\n",
      "OFC the reward is calculated\n",
      "OFC the reward is calculated\n",
      "OFC the reward is calculated\n"
     ]
    },
    {
     "name": "stderr",
     "output_type": "stream",
     "text": [
      "example_01b_base 2019-01-04 18:00:00:  12%|█▏        | 327601/2678400 [00:04<00:37, 62505.24it/s]"
     ]
    },
    {
     "name": "stdout",
     "output_type": "stream",
     "text": [
      "OFC the reward is calculated\n",
      "OFC the reward is calculated\n",
      "OFC the reward is calculated\n",
      "OFC the reward is calculated\n",
      "OFC the reward is calculated\n",
      "OFC the reward is calculated\n",
      "OFC the reward is calculated\n",
      "OFC the reward is calculated\n"
     ]
    },
    {
     "name": "stderr",
     "output_type": "stream",
     "text": [
      "example_01b_base 2019-01-04 22:00:00:  13%|█▎        | 342001/2678400 [00:04<00:40, 58031.09it/s]"
     ]
    },
    {
     "name": "stdout",
     "output_type": "stream",
     "text": [
      "OFC the reward is calculated\n",
      "OFC the reward is calculated\n",
      "OFC the reward is calculated\n",
      "OFC the reward is calculated\n",
      "OFC the reward is calculated\n",
      "OFC the reward is calculated\n",
      "OFC the reward is calculated\n",
      "OFC the reward is calculated\n",
      "OFC the reward is calculated\n",
      "OFC the reward is calculated\n",
      "OFC the reward is calculated\n",
      "OFC the reward is calculated\n",
      "OFC the reward is calculated\n",
      "OFC the reward is calculated\n",
      "OFC the reward is calculated\n",
      "OFC the reward is calculated\n",
      "OFC the reward is calculated\n",
      "OFC the reward is calculated\n",
      "OFC the reward is calculated\n",
      "OFC the reward is calculated\n"
     ]
    },
    {
     "name": "stderr",
     "output_type": "stream",
     "text": [
      "example_01b_base 2019-01-05 04:00:00:  14%|█▎        | 363601/2678400 [00:04<00:31, 73104.92it/s]"
     ]
    },
    {
     "name": "stdout",
     "output_type": "stream",
     "text": [
      "OFC the reward is calculated\n",
      "OFC the reward is calculated\n",
      "OFC the reward is calculated\n",
      "OFC the reward is calculated\n",
      "OFC the reward is calculated\n",
      "OFC the reward is calculated\n",
      "OFC the reward is calculated\n",
      "OFC the reward is calculated\n",
      "OFC the reward is calculated\n",
      "OFC the reward is calculated\n",
      "OFC the reward is calculated\n",
      "OFC the reward is calculated\n",
      "OFC the reward is calculated\n",
      "OFC the reward is calculated\n",
      "OFC the reward is calculated\n",
      "OFC the reward is calculated\n",
      "OFC the reward is calculated\n",
      "OFC the reward is calculated\n",
      "OFC the reward is calculated\n",
      "OFC the reward is calculated\n",
      "OFC the reward is calculated\n",
      "OFC the reward is calculated\n",
      "OFC the reward is calculated\n",
      "OFC the reward is calculated\n"
     ]
    },
    {
     "name": "stderr",
     "output_type": "stream",
     "text": [
      "example_01b_base 2019-01-05 10:00:00:  14%|█▍        | 385201/2678400 [00:04<00:29, 77790.08it/s]"
     ]
    },
    {
     "name": "stdout",
     "output_type": "stream",
     "text": [
      "OFC the reward is calculated\n",
      "OFC the reward is calculated\n",
      "OFC the reward is calculated\n",
      "OFC the reward is calculated\n",
      "OFC the reward is calculated\n",
      "OFC the reward is calculated\n",
      "OFC the reward is calculated\n",
      "OFC the reward is calculated\n",
      "OFC the reward is calculated\n",
      "OFC the reward is calculated\n",
      "OFC the reward is calculated\n",
      "OFC the reward is calculated\n",
      "OFC the reward is calculated\n",
      "OFC the reward is calculated\n",
      "OFC the reward is calculated\n",
      "OFC the reward is calculated\n",
      "OFC the reward is calculated\n",
      "OFC the reward is calculated\n",
      "OFC the reward is calculated\n",
      "OFC the reward is calculated\n",
      "OFC the reward is calculated\n",
      "OFC the reward is calculated\n",
      "OFC the reward is calculated\n",
      "OFC the reward is calculated\n"
     ]
    },
    {
     "name": "stderr",
     "output_type": "stream",
     "text": [
      "example_01b_base 2019-01-05 17:00:00:  15%|█▌        | 410401/2678400 [00:05<00:26, 86835.71it/s]"
     ]
    },
    {
     "name": "stdout",
     "output_type": "stream",
     "text": [
      "OFC the reward is calculated\n",
      "OFC the reward is calculated\n",
      "OFC the reward is calculated\n",
      "OFC the reward is calculated\n",
      "OFC the reward is calculated\n",
      "OFC the reward is calculated\n",
      "OFC the reward is calculated\n",
      "OFC the reward is calculated\n",
      "OFC the reward is calculated\n",
      "OFC the reward is calculated\n",
      "OFC the reward is calculated\n",
      "OFC the reward is calculated\n",
      "OFC the reward is calculated\n",
      "OFC the reward is calculated\n",
      "OFC the reward is calculated\n",
      "OFC the reward is calculated\n",
      "OFC the reward is calculated\n",
      "OFC the reward is calculated\n",
      "OFC the reward is calculated\n",
      "OFC the reward is calculated\n",
      "OFC the reward is calculated\n",
      "OFC the reward is calculated\n",
      "OFC the reward is calculated\n",
      "OFC the reward is calculated\n",
      "OFC the reward is calculated\n",
      "OFC the reward is calculated\n",
      "OFC the reward is calculated\n",
      "OFC the reward is calculated\n"
     ]
    },
    {
     "name": "stderr",
     "output_type": "stream",
     "text": [
      "example_01b_base 2019-01-06 01:00:00:  16%|█▋        | 439201/2678400 [00:05<00:22, 100036.97it/s]"
     ]
    },
    {
     "name": "stdout",
     "output_type": "stream",
     "text": [
      "OFC the reward is calculated\n",
      "OFC the reward is calculated\n",
      "OFC the reward is calculated\n",
      "OFC the reward is calculated\n",
      "OFC the reward is calculated\n",
      "OFC the reward is calculated\n",
      "OFC the reward is calculated\n",
      "OFC the reward is calculated\n",
      "OFC the reward is calculated\n",
      "OFC the reward is calculated\n",
      "OFC the reward is calculated\n",
      "OFC the reward is calculated\n",
      "OFC the reward is calculated\n",
      "OFC the reward is calculated\n",
      "OFC the reward is calculated\n",
      "OFC the reward is calculated\n",
      "OFC the reward is calculated\n",
      "OFC the reward is calculated\n",
      "OFC the reward is calculated\n",
      "OFC the reward is calculated\n",
      "OFC the reward is calculated\n",
      "OFC the reward is calculated\n",
      "OFC the reward is calculated\n",
      "OFC the reward is calculated\n",
      "OFC the reward is calculated\n",
      "OFC the reward is calculated\n",
      "OFC the reward is calculated\n",
      "OFC the reward is calculated\n",
      "OFC the reward is calculated\n",
      "OFC the reward is calculated\n",
      "OFC the reward is calculated\n"
     ]
    },
    {
     "name": "stderr",
     "output_type": "stream",
     "text": [
      "example_01b_base 2019-01-06 07:00:00:  17%|█▋        | 460801/2678400 [00:05<00:21, 102464.31it/s]"
     ]
    },
    {
     "name": "stdout",
     "output_type": "stream",
     "text": [
      "OFC the reward is calculated\n",
      "OFC the reward is calculated\n",
      "OFC the reward is calculated\n",
      "OFC the reward is calculated\n",
      "OFC the reward is calculated\n",
      "OFC the reward is calculated\n",
      "OFC the reward is calculated\n",
      "OFC the reward is calculated\n",
      "OFC the reward is calculated\n",
      "OFC the reward is calculated\n",
      "OFC the reward is calculated\n",
      "OFC the reward is calculated\n",
      "OFC the reward is calculated\n",
      "OFC the reward is calculated\n",
      "OFC the reward is calculated\n",
      "OFC the reward is calculated\n",
      "OFC the reward is calculated\n",
      "OFC the reward is calculated\n",
      "OFC the reward is calculated\n",
      "OFC the reward is calculated\n",
      "OFC the reward is calculated\n",
      "OFC the reward is calculated\n",
      "OFC the reward is calculated\n",
      "OFC the reward is calculated\n",
      "OFC the reward is calculated\n"
     ]
    },
    {
     "name": "stderr",
     "output_type": "stream",
     "text": [
      "example_01b_base 2019-01-06 13:00:00:  18%|█▊        | 482401/2678400 [00:05<00:21, 102326.07it/s]"
     ]
    },
    {
     "name": "stdout",
     "output_type": "stream",
     "text": [
      "OFC the reward is calculated\n",
      "OFC the reward is calculated\n",
      "OFC the reward is calculated\n",
      "OFC the reward is calculated\n",
      "OFC the reward is calculated\n",
      "OFC the reward is calculated\n",
      "OFC the reward is calculated\n",
      "OFC the reward is calculated\n",
      "OFC the reward is calculated\n",
      "OFC the reward is calculated\n",
      "OFC the reward is calculated\n",
      "OFC the reward is calculated\n",
      "OFC the reward is calculated\n",
      "OFC the reward is calculated\n",
      "OFC the reward is calculated\n",
      "OFC the reward is calculated\n",
      "OFC the reward is calculated\n",
      "OFC the reward is calculated\n",
      "OFC the reward is calculated\n",
      "OFC the reward is calculated\n"
     ]
    },
    {
     "name": "stderr",
     "output_type": "stream",
     "text": [
      "example_01b_base 2019-01-06 16:00:00:  18%|█▊        | 493201/2678400 [00:05<00:25, 85580.85it/s] "
     ]
    },
    {
     "name": "stdout",
     "output_type": "stream",
     "text": [
      "OFC the reward is calculated\n",
      "OFC the reward is calculated\n",
      "OFC the reward is calculated\n",
      "OFC the reward is calculated\n",
      "OFC the reward is calculated\n",
      "OFC the reward is calculated\n",
      "OFC the reward is calculated\n",
      "OFC the reward is calculated\n",
      "OFC the reward is calculated\n",
      "OFC the reward is calculated\n",
      "OFC the reward is calculated\n",
      "OFC the reward is calculated\n",
      "OFC the reward is calculated\n",
      "OFC the reward is calculated\n",
      "OFC the reward is calculated\n",
      "OFC the reward is calculated\n",
      "OFC the reward is calculated\n",
      "OFC the reward is calculated\n",
      "OFC the reward is calculated\n",
      "OFC the reward is calculated\n"
     ]
    },
    {
     "name": "stderr",
     "output_type": "stream",
     "text": [
      "example_01b_base 2019-01-06 23:00:00:  19%|█▉        | 518401/2678400 [00:06<00:24, 87986.80it/s]"
     ]
    },
    {
     "name": "stdout",
     "output_type": "stream",
     "text": [
      "OFC the reward is calculated\n",
      "OFC the reward is calculated\n",
      "OFC the reward is calculated\n",
      "OFC the reward is calculated\n",
      "OFC the reward is calculated\n",
      "OFC the reward is calculated\n",
      "OFC the reward is calculated\n",
      "OFC the reward is calculated\n",
      "OFC the reward is calculated\n",
      "OFC the reward is calculated\n",
      "OFC the reward is calculated\n",
      "OFC the reward is calculated\n",
      "OFC the reward is calculated\n",
      "OFC the reward is calculated\n",
      "OFC the reward is calculated\n",
      "OFC the reward is calculated\n",
      "OFC the reward is calculated\n",
      "OFC the reward is calculated\n",
      "OFC the reward is calculated\n",
      "OFC the reward is calculated\n",
      "OFC the reward is calculated\n",
      "OFC the reward is calculated\n",
      "OFC the reward is calculated\n",
      "OFC the reward is calculated\n",
      "OFC the reward is calculated\n",
      "OFC the reward is calculated\n",
      "OFC the reward is calculated\n",
      "OFC the reward is calculated\n",
      "OFC the reward is calculated\n",
      "OFC the reward is calculated\n",
      "OFC the reward is calculated\n",
      "OFC the reward is calculated\n"
     ]
    },
    {
     "name": "stderr",
     "output_type": "stream",
     "text": [
      "example_01b_base 2019-01-07 06:00:00:  20%|██        | 543601/2678400 [00:06<00:21, 99157.36it/s]"
     ]
    },
    {
     "name": "stdout",
     "output_type": "stream",
     "text": [
      "OFC the reward is calculated\n",
      "OFC the reward is calculated\n",
      "OFC the reward is calculated\n",
      "OFC the reward is calculated\n",
      "OFC the reward is calculated\n",
      "OFC the reward is calculated\n",
      "OFC the reward is calculated\n",
      "OFC the reward is calculated\n",
      "OFC the reward is calculated\n",
      "OFC the reward is calculated\n",
      "OFC the reward is calculated\n",
      "OFC the reward is calculated\n",
      "OFC the reward is calculated\n",
      "OFC the reward is calculated\n",
      "OFC the reward is calculated\n",
      "OFC the reward is calculated\n",
      "OFC the reward is calculated\n",
      "OFC the reward is calculated\n",
      "OFC the reward is calculated\n",
      "OFC the reward is calculated\n",
      "OFC the reward is calculated\n",
      "OFC the reward is calculated\n",
      "OFC the reward is calculated\n",
      "OFC the reward is calculated\n",
      "OFC the reward is calculated\n",
      "OFC the reward is calculated\n",
      "OFC the reward is calculated\n",
      "OFC the reward is calculated\n"
     ]
    },
    {
     "name": "stderr",
     "output_type": "stream",
     "text": [
      "example_01b_base 2019-01-07 13:00:00:  21%|██        | 568801/2678400 [00:06<00:20, 102340.14it/s]"
     ]
    },
    {
     "name": "stdout",
     "output_type": "stream",
     "text": [
      "OFC the reward is calculated\n",
      "OFC the reward is calculated\n",
      "OFC the reward is calculated\n",
      "OFC the reward is calculated\n",
      "OFC the reward is calculated\n",
      "OFC the reward is calculated\n",
      "OFC the reward is calculated\n",
      "OFC the reward is calculated\n",
      "OFC the reward is calculated\n",
      "OFC the reward is calculated\n",
      "OFC the reward is calculated\n",
      "OFC the reward is calculated\n",
      "OFC the reward is calculated\n",
      "OFC the reward is calculated\n",
      "OFC the reward is calculated\n",
      "OFC the reward is calculated\n",
      "OFC the reward is calculated\n",
      "OFC the reward is calculated\n",
      "OFC the reward is calculated\n",
      "OFC the reward is calculated\n",
      "OFC the reward is calculated\n",
      "OFC the reward is calculated\n",
      "OFC the reward is calculated\n",
      "OFC the reward is calculated\n"
     ]
    },
    {
     "name": "stderr",
     "output_type": "stream",
     "text": [
      "example_01b_base 2019-01-07 20:00:00:  22%|██▏       | 594001/2678400 [00:06<00:19, 106985.43it/s]"
     ]
    },
    {
     "name": "stdout",
     "output_type": "stream",
     "text": [
      "OFC the reward is calculated\n",
      "OFC the reward is calculated\n",
      "OFC the reward is calculated\n",
      "OFC the reward is calculated\n",
      "OFC the reward is calculated\n",
      "OFC the reward is calculated\n",
      "OFC the reward is calculated\n",
      "OFC the reward is calculated\n",
      "OFC the reward is calculated\n",
      "OFC the reward is calculated\n",
      "OFC the reward is calculated\n",
      "OFC the reward is calculated\n",
      "OFC the reward is calculated\n",
      "OFC the reward is calculated\n",
      "OFC the reward is calculated\n",
      "OFC the reward is calculated\n",
      "OFC the reward is calculated\n",
      "OFC the reward is calculated\n",
      "OFC the reward is calculated\n",
      "OFC the reward is calculated\n",
      "OFC the reward is calculated\n",
      "OFC the reward is calculated\n",
      "OFC the reward is calculated\n",
      "OFC the reward is calculated\n",
      "OFC the reward is calculated\n",
      "OFC the reward is calculated\n",
      "OFC the reward is calculated\n",
      "OFC the reward is calculated\n"
     ]
    },
    {
     "name": "stderr",
     "output_type": "stream",
     "text": [
      "example_01b_base 2019-01-08 06:00:00:  24%|██▎       | 630001/2678400 [00:07<00:17, 114571.73it/s]"
     ]
    },
    {
     "name": "stdout",
     "output_type": "stream",
     "text": [
      "OFC the reward is calculated\n",
      "OFC the reward is calculated\n",
      "OFC the reward is calculated\n",
      "OFC the reward is calculated\n",
      "OFC the reward is calculated\n",
      "OFC the reward is calculated\n",
      "OFC the reward is calculated\n",
      "OFC the reward is calculated\n",
      "OFC the reward is calculated\n",
      "OFC the reward is calculated\n",
      "OFC the reward is calculated\n",
      "OFC the reward is calculated\n",
      "OFC the reward is calculated\n",
      "OFC the reward is calculated\n",
      "OFC the reward is calculated\n",
      "OFC the reward is calculated\n",
      "OFC the reward is calculated\n",
      "OFC the reward is calculated\n",
      "OFC the reward is calculated\n",
      "OFC the reward is calculated\n",
      "OFC the reward is calculated\n",
      "OFC the reward is calculated\n",
      "OFC the reward is calculated\n",
      "OFC the reward is calculated\n",
      "OFC the reward is calculated\n",
      "OFC the reward is calculated\n",
      "OFC the reward is calculated\n",
      "OFC the reward is calculated\n"
     ]
    },
    {
     "name": "stderr",
     "output_type": "stream",
     "text": [
      "example_01b_base 2019-01-08 10:00:00:  24%|██▍       | 644401/2678400 [00:07<00:17, 114123.63it/s]"
     ]
    },
    {
     "name": "stdout",
     "output_type": "stream",
     "text": [
      "OFC the reward is calculated\n",
      "OFC the reward is calculated\n",
      "OFC the reward is calculated\n",
      "OFC the reward is calculated\n",
      "OFC the reward is calculated\n",
      "OFC the reward is calculated\n",
      "OFC the reward is calculated\n",
      "OFC the reward is calculated\n",
      "OFC the reward is calculated\n",
      "OFC the reward is calculated\n",
      "OFC the reward is calculated\n",
      "OFC the reward is calculated\n",
      "OFC the reward is calculated\n",
      "OFC the reward is calculated\n",
      "OFC the reward is calculated\n",
      "OFC the reward is calculated\n",
      "OFC the reward is calculated\n",
      "OFC the reward is calculated\n",
      "OFC the reward is calculated\n",
      "OFC the reward is calculated\n",
      "OFC the reward is calculated\n",
      "OFC the reward is calculated\n",
      "OFC the reward is calculated\n",
      "OFC the reward is calculated\n",
      "OFC the reward is calculated\n",
      "OFC the reward is calculated\n",
      "OFC the reward is calculated\n",
      "OFC the reward is calculated\n"
     ]
    },
    {
     "name": "stderr",
     "output_type": "stream",
     "text": [
      "example_01b_base 2019-01-08 18:00:00:  25%|██▌       | 673201/2678400 [00:07<00:17, 111961.54it/s]"
     ]
    },
    {
     "name": "stdout",
     "output_type": "stream",
     "text": [
      "OFC the reward is calculated\n",
      "OFC the reward is calculated\n",
      "OFC the reward is calculated\n",
      "OFC the reward is calculated\n",
      "OFC the reward is calculated\n",
      "OFC the reward is calculated\n",
      "OFC the reward is calculated\n",
      "OFC the reward is calculated\n",
      "OFC the reward is calculated\n",
      "OFC the reward is calculated\n",
      "OFC the reward is calculated\n",
      "OFC the reward is calculated\n",
      "OFC the reward is calculated\n",
      "OFC the reward is calculated\n",
      "OFC the reward is calculated\n",
      "OFC the reward is calculated\n",
      "OFC the reward is calculated\n",
      "OFC the reward is calculated\n",
      "OFC the reward is calculated\n",
      "OFC the reward is calculated\n",
      "OFC the reward is calculated\n",
      "OFC the reward is calculated\n",
      "OFC the reward is calculated\n",
      "OFC the reward is calculated\n"
     ]
    },
    {
     "name": "stderr",
     "output_type": "stream",
     "text": [
      "example_01b_base 2019-01-08 22:00:00:  26%|██▌       | 687601/2678400 [00:07<00:18, 107920.02it/s]"
     ]
    },
    {
     "name": "stdout",
     "output_type": "stream",
     "text": [
      "OFC the reward is calculated\n",
      "OFC the reward is calculated\n",
      "OFC the reward is calculated\n",
      "OFC the reward is calculated\n",
      "OFC the reward is calculated\n",
      "OFC the reward is calculated\n",
      "OFC the reward is calculated\n",
      "OFC the reward is calculated\n",
      "OFC the reward is calculated\n",
      "OFC the reward is calculated\n",
      "OFC the reward is calculated\n",
      "OFC the reward is calculated\n",
      "OFC the reward is calculated\n",
      "OFC the reward is calculated\n",
      "OFC the reward is calculated\n",
      "OFC the reward is calculated\n",
      "OFC the reward is calculated\n",
      "OFC the reward is calculated\n",
      "OFC the reward is calculated\n",
      "OFC the reward is calculated\n",
      "OFC the reward is calculated\n",
      "OFC the reward is calculated\n",
      "OFC the reward is calculated\n",
      "OFC the reward is calculated\n",
      "OFC the reward is calculated\n",
      "OFC the reward is calculated\n",
      "OFC the reward is calculated\n",
      "OFC the reward is calculated\n"
     ]
    },
    {
     "name": "stderr",
     "output_type": "stream",
     "text": [
      "example_01b_base 2019-01-09 05:00:00:  27%|██▋       | 712801/2678400 [00:08<00:19, 103119.46it/s]"
     ]
    },
    {
     "name": "stdout",
     "output_type": "stream",
     "text": [
      "OFC the reward is calculated\n",
      "OFC the reward is calculated\n",
      "OFC the reward is calculated\n",
      "OFC the reward is calculated\n",
      "OFC the reward is calculated\n",
      "OFC the reward is calculated\n",
      "OFC the reward is calculated\n",
      "OFC the reward is calculated\n",
      "OFC the reward is calculated\n",
      "OFC the reward is calculated\n",
      "OFC the reward is calculated\n",
      "OFC the reward is calculated\n",
      "OFC the reward is calculated\n",
      "OFC the reward is calculated\n",
      "OFC the reward is calculated\n",
      "OFC the reward is calculated\n",
      "OFC the reward is calculated\n",
      "OFC the reward is calculated\n",
      "OFC the reward is calculated\n",
      "OFC the reward is calculated\n"
     ]
    },
    {
     "name": "stderr",
     "output_type": "stream",
     "text": [
      "example_01b_base 2019-01-09 08:00:00:  27%|██▋       | 723601/2678400 [00:08<00:21, 92839.26it/s] "
     ]
    },
    {
     "name": "stdout",
     "output_type": "stream",
     "text": [
      "OFC the reward is calculated\n",
      "OFC the reward is calculated\n",
      "OFC the reward is calculated\n",
      "OFC the reward is calculated\n",
      "OFC the reward is calculated\n",
      "OFC the reward is calculated\n",
      "OFC the reward is calculated\n",
      "OFC the reward is calculated\n",
      "OFC the reward is calculated\n",
      "OFC the reward is calculated\n",
      "OFC the reward is calculated\n",
      "OFC the reward is calculated\n",
      "OFC the reward is calculated\n",
      "OFC the reward is calculated\n",
      "OFC the reward is calculated\n",
      "OFC the reward is calculated\n"
     ]
    },
    {
     "name": "stderr",
     "output_type": "stream",
     "text": [
      "example_01b_base 2019-01-09 14:00:00:  28%|██▊       | 745201/2678400 [00:08<00:23, 82551.24it/s]"
     ]
    },
    {
     "name": "stdout",
     "output_type": "stream",
     "text": [
      "OFC the reward is calculated\n",
      "OFC the reward is calculated\n",
      "OFC the reward is calculated\n",
      "OFC the reward is calculated\n",
      "OFC the reward is calculated\n",
      "OFC the reward is calculated\n",
      "OFC the reward is calculated\n",
      "OFC the reward is calculated\n",
      "OFC the reward is calculated\n",
      "OFC the reward is calculated\n",
      "OFC the reward is calculated\n",
      "OFC the reward is calculated\n",
      "OFC the reward is calculated\n",
      "OFC the reward is calculated\n",
      "OFC the reward is calculated\n",
      "OFC the reward is calculated\n",
      "OFC the reward is calculated\n",
      "OFC the reward is calculated\n",
      "OFC the reward is calculated\n",
      "OFC the reward is calculated\n",
      "OFC the reward is calculated\n",
      "OFC the reward is calculated\n",
      "OFC the reward is calculated\n",
      "OFC the reward is calculated\n",
      "OFC the reward is calculated\n",
      "OFC the reward is calculated\n",
      "OFC the reward is calculated\n",
      "OFC the reward is calculated\n"
     ]
    },
    {
     "name": "stderr",
     "output_type": "stream",
     "text": [
      "example_01b_base 2019-01-09 22:00:00:  29%|██▉       | 774001/2678400 [00:08<00:18, 100485.49it/s]"
     ]
    },
    {
     "name": "stdout",
     "output_type": "stream",
     "text": [
      "OFC the reward is calculated\n",
      "OFC the reward is calculated\n",
      "OFC the reward is calculated\n",
      "OFC the reward is calculated\n",
      "OFC the reward is calculated\n",
      "OFC the reward is calculated\n",
      "OFC the reward is calculated\n",
      "OFC the reward is calculated\n",
      "OFC the reward is calculated\n",
      "OFC the reward is calculated\n",
      "OFC the reward is calculated\n",
      "OFC the reward is calculated\n",
      "OFC the reward is calculated\n",
      "OFC the reward is calculated\n",
      "OFC the reward is calculated\n",
      "OFC the reward is calculated\n",
      "OFC the reward is calculated\n",
      "OFC the reward is calculated\n",
      "OFC the reward is calculated\n",
      "OFC the reward is calculated\n",
      "OFC the reward is calculated\n",
      "OFC the reward is calculated\n",
      "OFC the reward is calculated\n",
      "OFC the reward is calculated\n",
      "OFC the reward is calculated\n",
      "OFC the reward is calculated\n",
      "OFC the reward is calculated\n",
      "OFC the reward is calculated\n",
      "OFC the reward is calculated\n",
      "OFC the reward is calculated\n",
      "OFC the reward is calculated\n",
      "OFC the reward is calculated\n",
      "OFC the reward is calculated\n",
      "OFC the reward is calculated\n",
      "OFC the reward is calculated\n",
      "OFC the reward is calculated\n"
     ]
    },
    {
     "name": "stderr",
     "output_type": "stream",
     "text": [
      "example_01b_base 2019-01-10 09:00:00:  30%|███       | 813601/2678400 [00:08<00:13, 137933.72it/s]"
     ]
    },
    {
     "name": "stdout",
     "output_type": "stream",
     "text": [
      "OFC the reward is calculated\n",
      "OFC the reward is calculated\n",
      "OFC the reward is calculated\n",
      "OFC the reward is calculated\n",
      "OFC the reward is calculated\n",
      "OFC the reward is calculated\n",
      "OFC the reward is calculated\n",
      "OFC the reward is calculated\n",
      "OFC the reward is calculated\n",
      "OFC the reward is calculated\n",
      "OFC the reward is calculated\n",
      "OFC the reward is calculated\n",
      "OFC the reward is calculated\n",
      "OFC the reward is calculated\n",
      "OFC the reward is calculated\n",
      "OFC the reward is calculated\n",
      "OFC the reward is calculated\n",
      "OFC the reward is calculated\n",
      "OFC the reward is calculated\n",
      "OFC the reward is calculated\n",
      "OFC the reward is calculated\n",
      "OFC the reward is calculated\n",
      "OFC the reward is calculated\n",
      "OFC the reward is calculated\n",
      "OFC the reward is calculated\n",
      "OFC the reward is calculated\n",
      "OFC the reward is calculated\n",
      "OFC the reward is calculated\n",
      "OFC the reward is calculated\n",
      "OFC the reward is calculated\n",
      "OFC the reward is calculated\n",
      "OFC the reward is calculated\n",
      "OFC the reward is calculated\n",
      "OFC the reward is calculated\n",
      "OFC the reward is calculated\n",
      "OFC the reward is calculated\n",
      "OFC the reward is calculated\n",
      "OFC the reward is calculated\n",
      "OFC the reward is calculated\n",
      "OFC the reward is calculated\n",
      "OFC the reward is calculated\n",
      "OFC the reward is calculated\n",
      "OFC the reward is calculated\n",
      "OFC the reward is calculated\n",
      "OFC the reward is calculated\n",
      "OFC the reward is calculated\n",
      "OFC the reward is calculated\n",
      "OFC the reward is calculated\n"
     ]
    },
    {
     "name": "stderr",
     "output_type": "stream",
     "text": [
      "example_01b_base 2019-01-11 03:00:00:  33%|███▎      | 878401/2678400 [00:09<00:09, 186498.28it/s]"
     ]
    },
    {
     "name": "stdout",
     "output_type": "stream",
     "text": [
      "OFC the reward is calculated\n",
      "OFC the reward is calculated\n",
      "OFC the reward is calculated\n",
      "OFC the reward is calculated\n",
      "OFC the reward is calculated\n",
      "OFC the reward is calculated\n",
      "OFC the reward is calculated\n",
      "OFC the reward is calculated\n",
      "OFC the reward is calculated\n",
      "OFC the reward is calculated\n",
      "OFC the reward is calculated\n",
      "OFC the reward is calculated\n",
      "OFC the reward is calculated\n",
      "OFC the reward is calculated\n",
      "OFC the reward is calculated\n",
      "OFC the reward is calculated\n",
      "OFC the reward is calculated\n",
      "OFC the reward is calculated\n",
      "OFC the reward is calculated\n",
      "OFC the reward is calculated\n",
      "OFC the reward is calculated\n",
      "OFC the reward is calculated\n",
      "OFC the reward is calculated\n",
      "OFC the reward is calculated\n",
      "OFC the reward is calculated\n",
      "OFC the reward is calculated\n",
      "OFC the reward is calculated\n",
      "OFC the reward is calculated\n",
      "OFC the reward is calculated\n",
      "OFC the reward is calculated\n",
      "OFC the reward is calculated\n",
      "OFC the reward is calculated\n",
      "OFC the reward is calculated\n",
      "OFC the reward is calculated\n",
      "OFC the reward is calculated\n",
      "OFC the reward is calculated\n",
      "OFC the reward is calculated\n",
      "OFC the reward is calculated\n",
      "OFC the reward is calculated\n",
      "OFC the reward is calculated\n",
      "OFC the reward is calculated\n",
      "OFC the reward is calculated\n",
      "OFC the reward is calculated\n",
      "OFC the reward is calculated\n",
      "OFC the reward is calculated\n",
      "OFC the reward is calculated\n",
      "OFC the reward is calculated\n",
      "OFC the reward is calculated\n"
     ]
    },
    {
     "name": "stderr",
     "output_type": "stream",
     "text": [
      "example_01b_base 2019-01-11 10:00:00:  34%|███▎      | 903601/2678400 [00:09<00:08, 199866.07it/s]"
     ]
    },
    {
     "name": "stdout",
     "output_type": "stream",
     "text": [
      "OFC the reward is calculated\n",
      "OFC the reward is calculated\n",
      "OFC the reward is calculated\n",
      "OFC the reward is calculated\n",
      "OFC the reward is calculated\n",
      "OFC the reward is calculated\n",
      "OFC the reward is calculated\n",
      "OFC the reward is calculated\n",
      "OFC the reward is calculated\n",
      "OFC the reward is calculated\n",
      "OFC the reward is calculated\n",
      "OFC the reward is calculated\n",
      "OFC the reward is calculated\n",
      "OFC the reward is calculated\n",
      "OFC the reward is calculated\n",
      "OFC the reward is calculated\n",
      "OFC the reward is calculated\n",
      "OFC the reward is calculated\n",
      "OFC the reward is calculated\n",
      "OFC the reward is calculated\n",
      "OFC the reward is calculated\n",
      "OFC the reward is calculated\n",
      "OFC the reward is calculated\n",
      "OFC the reward is calculated\n",
      "OFC the reward is calculated\n",
      "OFC the reward is calculated\n",
      "OFC the reward is calculated\n",
      "OFC the reward is calculated\n",
      "OFC the reward is calculated\n",
      "OFC the reward is calculated\n",
      "OFC the reward is calculated\n",
      "OFC the reward is calculated\n",
      "OFC the reward is calculated\n",
      "OFC the reward is calculated\n",
      "OFC the reward is calculated\n",
      "OFC the reward is calculated\n",
      "OFC the reward is calculated\n",
      "OFC the reward is calculated\n",
      "OFC the reward is calculated\n",
      "OFC the reward is calculated\n",
      "OFC the reward is calculated\n",
      "OFC the reward is calculated\n",
      "OFC the reward is calculated\n",
      "OFC the reward is calculated\n",
      "OFC the reward is calculated\n",
      "OFC the reward is calculated\n",
      "OFC the reward is calculated\n",
      "OFC the reward is calculated\n",
      "OFC the reward is calculated\n",
      "OFC the reward is calculated\n",
      "OFC the reward is calculated\n",
      "OFC the reward is calculated\n"
     ]
    },
    {
     "name": "stderr",
     "output_type": "stream",
     "text": [
      "example_01b_base 2019-01-11 23:00:00:  35%|███▌      | 950401/2678400 [00:09<00:08, 204848.97it/s]"
     ]
    },
    {
     "name": "stdout",
     "output_type": "stream",
     "text": [
      "OFC the reward is calculated\n",
      "OFC the reward is calculated\n",
      "OFC the reward is calculated\n",
      "OFC the reward is calculated\n",
      "OFC the reward is calculated\n",
      "OFC the reward is calculated\n",
      "OFC the reward is calculated\n",
      "OFC the reward is calculated\n",
      "OFC the reward is calculated\n",
      "OFC the reward is calculated\n",
      "OFC the reward is calculated\n",
      "OFC the reward is calculated\n",
      "OFC the reward is calculated\n",
      "OFC the reward is calculated\n",
      "OFC the reward is calculated\n",
      "OFC the reward is calculated\n",
      "OFC the reward is calculated\n",
      "OFC the reward is calculated\n",
      "OFC the reward is calculated\n",
      "OFC the reward is calculated\n",
      "OFC the reward is calculated\n",
      "OFC the reward is calculated\n",
      "OFC the reward is calculated\n",
      "OFC the reward is calculated\n",
      "OFC the reward is calculated\n",
      "OFC the reward is calculated\n",
      "OFC the reward is calculated\n",
      "OFC the reward is calculated\n",
      "OFC the reward is calculated\n",
      "OFC the reward is calculated\n",
      "OFC the reward is calculated\n",
      "OFC the reward is calculated\n",
      "OFC the reward is calculated\n",
      "OFC the reward is calculated\n",
      "OFC the reward is calculated\n",
      "OFC the reward is calculated\n",
      "OFC the reward is calculated\n",
      "OFC the reward is calculated\n",
      "OFC the reward is calculated\n",
      "OFC the reward is calculated\n",
      "OFC the reward is calculated\n",
      "OFC the reward is calculated\n",
      "OFC the reward is calculated\n",
      "OFC the reward is calculated\n",
      "OFC the reward is calculated\n",
      "OFC the reward is calculated\n",
      "OFC the reward is calculated\n",
      "OFC the reward is calculated\n",
      "OFC the reward is calculated\n",
      "OFC the reward is calculated\n",
      "OFC the reward is calculated\n",
      "OFC the reward is calculated\n"
     ]
    },
    {
     "name": "stderr",
     "output_type": "stream",
     "text": [
      "example_01b_base 2019-01-12 11:00:00:  37%|███▋      | 993601/2678400 [00:09<00:08, 196166.01it/s]"
     ]
    },
    {
     "name": "stdout",
     "output_type": "stream",
     "text": [
      "OFC the reward is calculated\n",
      "OFC the reward is calculated\n",
      "OFC the reward is calculated\n",
      "OFC the reward is calculated\n",
      "OFC the reward is calculated\n",
      "OFC the reward is calculated\n",
      "OFC the reward is calculated\n",
      "OFC the reward is calculated\n",
      "OFC the reward is calculated\n",
      "OFC the reward is calculated\n",
      "OFC the reward is calculated\n",
      "OFC the reward is calculated\n",
      "OFC the reward is calculated\n",
      "OFC the reward is calculated\n",
      "OFC the reward is calculated\n",
      "OFC the reward is calculated\n",
      "OFC the reward is calculated\n",
      "OFC the reward is calculated\n",
      "OFC the reward is calculated\n",
      "OFC the reward is calculated\n",
      "OFC the reward is calculated\n",
      "OFC the reward is calculated\n",
      "OFC the reward is calculated\n",
      "OFC the reward is calculated\n",
      "OFC the reward is calculated\n",
      "OFC the reward is calculated\n",
      "OFC the reward is calculated\n",
      "OFC the reward is calculated\n",
      "OFC the reward is calculated\n",
      "OFC the reward is calculated\n",
      "OFC the reward is calculated\n",
      "OFC the reward is calculated\n"
     ]
    },
    {
     "name": "stderr",
     "output_type": "stream",
     "text": [
      "example_01b_base 2019-01-12 17:00:00:  38%|███▊      | 1015201/2678400 [00:10<00:11, 148759.69it/s]"
     ]
    },
    {
     "name": "stdout",
     "output_type": "stream",
     "text": [
      "OFC the reward is calculated\n",
      "OFC the reward is calculated\n",
      "OFC the reward is calculated\n",
      "OFC the reward is calculated\n",
      "OFC the reward is calculated\n",
      "OFC the reward is calculated\n",
      "OFC the reward is calculated\n",
      "OFC the reward is calculated\n",
      "OFC the reward is calculated\n",
      "OFC the reward is calculated\n",
      "OFC the reward is calculated\n",
      "OFC the reward is calculated\n",
      "OFC the reward is calculated\n",
      "OFC the reward is calculated\n",
      "OFC the reward is calculated\n",
      "OFC the reward is calculated\n",
      "OFC the reward is calculated\n",
      "OFC the reward is calculated\n",
      "OFC the reward is calculated\n",
      "OFC the reward is calculated\n",
      "OFC the reward is calculated\n",
      "OFC the reward is calculated\n",
      "OFC the reward is calculated\n",
      "OFC the reward is calculated\n",
      "OFC the reward is calculated\n",
      "OFC the reward is calculated\n",
      "OFC the reward is calculated\n",
      "OFC the reward is calculated\n"
     ]
    },
    {
     "name": "stderr",
     "output_type": "stream",
     "text": [
      "example_01b_base 2019-01-12 22:00:00:  39%|███▊      | 1033201/2678400 [00:10<00:12, 136420.71it/s]"
     ]
    },
    {
     "name": "stdout",
     "output_type": "stream",
     "text": [
      "OFC the reward is calculated\n",
      "OFC the reward is calculated\n",
      "OFC the reward is calculated\n",
      "OFC the reward is calculated\n",
      "OFC the reward is calculated\n",
      "OFC the reward is calculated\n",
      "OFC the reward is calculated\n",
      "OFC the reward is calculated\n",
      "OFC the reward is calculated\n",
      "OFC the reward is calculated\n",
      "OFC the reward is calculated\n",
      "OFC the reward is calculated\n",
      "OFC the reward is calculated\n",
      "OFC the reward is calculated\n",
      "OFC the reward is calculated\n",
      "OFC the reward is calculated\n",
      "OFC the reward is calculated\n",
      "OFC the reward is calculated\n",
      "OFC the reward is calculated\n",
      "OFC the reward is calculated\n",
      "OFC the reward is calculated\n",
      "OFC the reward is calculated\n",
      "OFC the reward is calculated\n",
      "OFC the reward is calculated\n",
      "OFC the reward is calculated\n",
      "OFC the reward is calculated\n",
      "OFC the reward is calculated\n",
      "OFC the reward is calculated\n"
     ]
    },
    {
     "name": "stderr",
     "output_type": "stream",
     "text": [
      "example_01b_base 2019-01-13 08:00:00:  40%|███▉      | 1069201/2678400 [00:10<00:12, 129275.46it/s]"
     ]
    },
    {
     "name": "stdout",
     "output_type": "stream",
     "text": [
      "OFC the reward is calculated\n",
      "OFC the reward is calculated\n",
      "OFC the reward is calculated\n",
      "OFC the reward is calculated\n",
      "OFC the reward is calculated\n",
      "OFC the reward is calculated\n",
      "OFC the reward is calculated\n",
      "OFC the reward is calculated\n",
      "OFC the reward is calculated\n",
      "OFC the reward is calculated\n",
      "OFC the reward is calculated\n",
      "OFC the reward is calculated\n",
      "OFC the reward is calculated\n",
      "OFC the reward is calculated\n",
      "OFC the reward is calculated\n",
      "OFC the reward is calculated\n",
      "OFC the reward is calculated\n",
      "OFC the reward is calculated\n",
      "OFC the reward is calculated\n",
      "OFC the reward is calculated\n",
      "OFC the reward is calculated\n",
      "OFC the reward is calculated\n",
      "OFC the reward is calculated\n",
      "OFC the reward is calculated\n",
      "OFC the reward is calculated\n",
      "OFC the reward is calculated\n",
      "OFC the reward is calculated\n",
      "OFC the reward is calculated\n",
      "OFC the reward is calculated\n",
      "OFC the reward is calculated\n",
      "OFC the reward is calculated\n",
      "OFC the reward is calculated\n"
     ]
    },
    {
     "name": "stderr",
     "output_type": "stream",
     "text": [
      "example_01b_base 2019-01-13 18:00:00:  41%|████▏     | 1105201/2678400 [00:10<00:10, 145045.12it/s]"
     ]
    },
    {
     "name": "stdout",
     "output_type": "stream",
     "text": [
      "OFC the reward is calculated\n",
      "OFC the reward is calculated\n",
      "OFC the reward is calculated\n",
      "OFC the reward is calculated\n",
      "OFC the reward is calculated\n",
      "OFC the reward is calculated\n",
      "OFC the reward is calculated\n",
      "OFC the reward is calculated\n",
      "OFC the reward is calculated\n",
      "OFC the reward is calculated\n",
      "OFC the reward is calculated\n",
      "OFC the reward is calculated\n",
      "OFC the reward is calculated\n",
      "OFC the reward is calculated\n",
      "OFC the reward is calculated\n",
      "OFC the reward is calculated\n",
      "OFC the reward is calculated\n",
      "OFC the reward is calculated\n",
      "OFC the reward is calculated\n",
      "OFC the reward is calculated\n",
      "OFC the reward is calculated\n",
      "OFC the reward is calculated\n",
      "OFC the reward is calculated\n",
      "OFC the reward is calculated\n",
      "OFC the reward is calculated\n",
      "OFC the reward is calculated\n",
      "OFC the reward is calculated\n",
      "OFC the reward is calculated\n",
      "OFC the reward is calculated\n",
      "OFC the reward is calculated\n",
      "OFC the reward is calculated\n",
      "OFC the reward is calculated\n",
      "OFC the reward is calculated\n",
      "OFC the reward is calculated\n",
      "OFC the reward is calculated\n",
      "OFC the reward is calculated\n",
      "OFC the reward is calculated\n",
      "OFC the reward is calculated\n",
      "OFC the reward is calculated\n",
      "OFC the reward is calculated\n"
     ]
    },
    {
     "name": "stderr",
     "output_type": "stream",
     "text": [
      "example_01b_base 2019-01-14 05:00:00:  43%|████▎     | 1144801/2678400 [00:10<00:09, 153796.59it/s]"
     ]
    },
    {
     "name": "stdout",
     "output_type": "stream",
     "text": [
      "OFC the reward is calculated\n",
      "OFC the reward is calculated\n",
      "OFC the reward is calculated\n",
      "OFC the reward is calculated\n",
      "OFC the reward is calculated\n",
      "OFC the reward is calculated\n",
      "OFC the reward is calculated\n",
      "OFC the reward is calculated\n",
      "OFC the reward is calculated\n",
      "OFC the reward is calculated\n",
      "OFC the reward is calculated\n",
      "OFC the reward is calculated\n",
      "OFC the reward is calculated\n",
      "OFC the reward is calculated\n",
      "OFC the reward is calculated\n",
      "OFC the reward is calculated\n",
      "OFC the reward is calculated\n",
      "OFC the reward is calculated\n",
      "OFC the reward is calculated\n",
      "OFC the reward is calculated\n",
      "OFC the reward is calculated\n",
      "OFC the reward is calculated\n",
      "OFC the reward is calculated\n",
      "OFC the reward is calculated\n",
      "OFC the reward is calculated\n",
      "OFC the reward is calculated\n",
      "OFC the reward is calculated\n",
      "OFC the reward is calculated\n",
      "OFC the reward is calculated\n",
      "OFC the reward is calculated\n",
      "OFC the reward is calculated\n",
      "OFC the reward is calculated\n",
      "OFC the reward is calculated\n",
      "OFC the reward is calculated\n",
      "OFC the reward is calculated\n",
      "OFC the reward is calculated\n",
      "OFC the reward is calculated\n",
      "OFC the reward is calculated\n",
      "OFC the reward is calculated\n",
      "OFC the reward is calculated\n",
      "OFC the reward is calculated\n",
      "OFC the reward is calculated\n",
      "OFC the reward is calculated\n",
      "OFC the reward is calculated\n"
     ]
    },
    {
     "name": "stderr",
     "output_type": "stream",
     "text": [
      "example_01b_base 2019-01-14 15:00:00:  44%|████▍     | 1180801/2678400 [00:11<00:09, 154519.62it/s]"
     ]
    },
    {
     "name": "stdout",
     "output_type": "stream",
     "text": [
      "OFC the reward is calculated\n",
      "OFC the reward is calculated\n",
      "OFC the reward is calculated\n",
      "OFC the reward is calculated\n",
      "OFC the reward is calculated\n",
      "OFC the reward is calculated\n",
      "OFC the reward is calculated\n",
      "OFC the reward is calculated\n",
      "OFC the reward is calculated\n",
      "OFC the reward is calculated\n",
      "OFC the reward is calculated\n",
      "OFC the reward is calculated\n",
      "OFC the reward is calculated\n",
      "OFC the reward is calculated\n",
      "OFC the reward is calculated\n",
      "OFC the reward is calculated\n",
      "OFC the reward is calculated\n",
      "OFC the reward is calculated\n",
      "OFC the reward is calculated\n",
      "OFC the reward is calculated\n",
      "OFC the reward is calculated\n",
      "OFC the reward is calculated\n",
      "OFC the reward is calculated\n",
      "OFC the reward is calculated\n",
      "OFC the reward is calculated\n",
      "OFC the reward is calculated\n",
      "OFC the reward is calculated\n",
      "OFC the reward is calculated\n",
      "OFC the reward is calculated\n",
      "OFC the reward is calculated\n",
      "OFC the reward is calculated\n",
      "OFC the reward is calculated\n",
      "OFC the reward is calculated\n",
      "OFC the reward is calculated\n",
      "OFC the reward is calculated\n",
      "OFC the reward is calculated\n",
      "OFC the reward is calculated\n",
      "OFC the reward is calculated\n",
      "OFC the reward is calculated\n",
      "OFC the reward is calculated\n",
      "OFC the reward is calculated\n",
      "OFC the reward is calculated\n",
      "OFC the reward is calculated\n",
      "OFC the reward is calculated\n"
     ]
    },
    {
     "name": "stderr",
     "output_type": "stream",
     "text": [
      "example_01b_base 2019-01-15 02:00:00:  46%|████▌     | 1220401/2678400 [00:11<00:09, 161691.69it/s]"
     ]
    },
    {
     "name": "stdout",
     "output_type": "stream",
     "text": [
      "OFC the reward is calculated\n",
      "OFC the reward is calculated\n",
      "OFC the reward is calculated\n",
      "OFC the reward is calculated\n",
      "OFC the reward is calculated\n",
      "OFC the reward is calculated\n",
      "OFC the reward is calculated\n",
      "OFC the reward is calculated\n",
      "OFC the reward is calculated\n",
      "OFC the reward is calculated\n",
      "OFC the reward is calculated\n",
      "OFC the reward is calculated\n",
      "OFC the reward is calculated\n",
      "OFC the reward is calculated\n",
      "OFC the reward is calculated\n",
      "OFC the reward is calculated\n",
      "OFC the reward is calculated\n",
      "OFC the reward is calculated\n",
      "OFC the reward is calculated\n",
      "OFC the reward is calculated\n",
      "OFC the reward is calculated\n",
      "OFC the reward is calculated\n",
      "OFC the reward is calculated\n",
      "OFC the reward is calculated\n",
      "OFC the reward is calculated\n",
      "OFC the reward is calculated\n",
      "OFC the reward is calculated\n",
      "OFC the reward is calculated\n",
      "OFC the reward is calculated\n",
      "OFC the reward is calculated\n",
      "OFC the reward is calculated\n",
      "OFC the reward is calculated\n",
      "OFC the reward is calculated\n",
      "OFC the reward is calculated\n",
      "OFC the reward is calculated\n",
      "OFC the reward is calculated\n",
      "OFC the reward is calculated\n",
      "OFC the reward is calculated\n",
      "OFC the reward is calculated\n",
      "OFC the reward is calculated\n"
     ]
    },
    {
     "name": "stderr",
     "output_type": "stream",
     "text": [
      "example_01b_base 2019-01-15 13:00:00:  47%|████▋     | 1260001/2678400 [00:11<00:08, 172245.36it/s]"
     ]
    },
    {
     "name": "stdout",
     "output_type": "stream",
     "text": [
      "OFC the reward is calculated\n",
      "OFC the reward is calculated\n",
      "OFC the reward is calculated\n",
      "OFC the reward is calculated\n",
      "OFC the reward is calculated\n",
      "OFC the reward is calculated\n",
      "OFC the reward is calculated\n",
      "OFC the reward is calculated\n",
      "OFC the reward is calculated\n",
      "OFC the reward is calculated\n",
      "OFC the reward is calculated\n",
      "OFC the reward is calculated\n",
      "OFC the reward is calculated\n",
      "OFC the reward is calculated\n",
      "OFC the reward is calculated\n",
      "OFC the reward is calculated\n",
      "OFC the reward is calculated\n",
      "OFC the reward is calculated\n",
      "OFC the reward is calculated\n",
      "OFC the reward is calculated\n",
      "OFC the reward is calculated\n",
      "OFC the reward is calculated\n",
      "OFC the reward is calculated\n",
      "OFC the reward is calculated\n",
      "OFC the reward is calculated\n",
      "OFC the reward is calculated\n",
      "OFC the reward is calculated\n",
      "OFC the reward is calculated\n",
      "OFC the reward is calculated\n",
      "OFC the reward is calculated\n",
      "OFC the reward is calculated\n",
      "OFC the reward is calculated\n",
      "OFC the reward is calculated\n",
      "OFC the reward is calculated\n",
      "OFC the reward is calculated\n",
      "OFC the reward is calculated\n",
      "OFC the reward is calculated\n",
      "OFC the reward is calculated\n",
      "OFC the reward is calculated\n",
      "OFC the reward is calculated\n",
      "OFC the reward is calculated\n",
      "OFC the reward is calculated\n",
      "OFC the reward is calculated\n",
      "OFC the reward is calculated\n",
      "OFC the reward is calculated\n",
      "OFC the reward is calculated\n",
      "OFC the reward is calculated\n",
      "OFC the reward is calculated\n"
     ]
    },
    {
     "name": "stderr",
     "output_type": "stream",
     "text": [
      "example_01b_base 2019-01-16 02:00:00:  49%|████▉     | 1306801/2678400 [00:11<00:07, 191135.99it/s]"
     ]
    },
    {
     "name": "stdout",
     "output_type": "stream",
     "text": [
      "OFC the reward is calculated\n",
      "OFC the reward is calculated\n",
      "OFC the reward is calculated\n",
      "OFC the reward is calculated\n",
      "OFC the reward is calculated\n",
      "OFC the reward is calculated\n",
      "OFC the reward is calculated\n",
      "OFC the reward is calculated\n",
      "OFC the reward is calculated\n",
      "OFC the reward is calculated\n",
      "OFC the reward is calculated\n",
      "OFC the reward is calculated\n",
      "OFC the reward is calculated\n",
      "OFC the reward is calculated\n",
      "OFC the reward is calculated\n",
      "OFC the reward is calculated\n",
      "OFC the reward is calculated\n",
      "OFC the reward is calculated\n",
      "OFC the reward is calculated\n",
      "OFC the reward is calculated\n",
      "OFC the reward is calculated\n",
      "OFC the reward is calculated\n",
      "OFC the reward is calculated\n",
      "OFC the reward is calculated\n",
      "OFC the reward is calculated\n",
      "OFC the reward is calculated\n",
      "OFC the reward is calculated\n",
      "OFC the reward is calculated\n",
      "OFC the reward is calculated\n",
      "OFC the reward is calculated\n",
      "OFC the reward is calculated\n",
      "OFC the reward is calculated\n",
      "OFC the reward is calculated\n",
      "OFC the reward is calculated\n",
      "OFC the reward is calculated\n",
      "OFC the reward is calculated\n",
      "OFC the reward is calculated\n",
      "OFC the reward is calculated\n",
      "OFC the reward is calculated\n",
      "OFC the reward is calculated\n",
      "OFC the reward is calculated\n",
      "OFC the reward is calculated\n",
      "OFC the reward is calculated\n",
      "OFC the reward is calculated\n",
      "OFC the reward is calculated\n",
      "OFC the reward is calculated\n",
      "OFC the reward is calculated\n",
      "OFC the reward is calculated\n",
      "OFC the reward is calculated\n",
      "OFC the reward is calculated\n",
      "OFC the reward is calculated\n",
      "OFC the reward is calculated\n"
     ]
    },
    {
     "name": "stderr",
     "output_type": "stream",
     "text": [
      "example_01b_base 2019-01-16 15:00:00:  51%|█████     | 1353601/2678400 [00:12<00:06, 190623.74it/s]"
     ]
    },
    {
     "name": "stdout",
     "output_type": "stream",
     "text": [
      "OFC the reward is calculated\n",
      "OFC the reward is calculated\n",
      "OFC the reward is calculated\n",
      "OFC the reward is calculated\n",
      "OFC the reward is calculated\n",
      "OFC the reward is calculated\n",
      "OFC the reward is calculated\n",
      "OFC the reward is calculated\n",
      "OFC the reward is calculated\n",
      "OFC the reward is calculated\n",
      "OFC the reward is calculated\n",
      "OFC the reward is calculated\n",
      "OFC the reward is calculated\n",
      "OFC the reward is calculated\n",
      "OFC the reward is calculated\n",
      "OFC the reward is calculated\n",
      "OFC the reward is calculated\n",
      "OFC the reward is calculated\n",
      "OFC the reward is calculated\n",
      "OFC the reward is calculated\n",
      "OFC the reward is calculated\n",
      "OFC the reward is calculated\n",
      "OFC the reward is calculated\n",
      "OFC the reward is calculated\n",
      "OFC the reward is calculated\n",
      "OFC the reward is calculated\n",
      "OFC the reward is calculated\n",
      "OFC the reward is calculated\n",
      "OFC the reward is calculated\n",
      "OFC the reward is calculated\n",
      "OFC the reward is calculated\n",
      "OFC the reward is calculated\n",
      "OFC the reward is calculated\n",
      "OFC the reward is calculated\n",
      "OFC the reward is calculated\n",
      "OFC the reward is calculated\n",
      "OFC the reward is calculated\n",
      "OFC the reward is calculated\n",
      "OFC the reward is calculated\n",
      "OFC the reward is calculated\n",
      "OFC the reward is calculated\n",
      "OFC the reward is calculated\n",
      "OFC the reward is calculated\n",
      "OFC the reward is calculated\n",
      "OFC the reward is calculated\n",
      "OFC the reward is calculated\n",
      "OFC the reward is calculated\n",
      "OFC the reward is calculated\n"
     ]
    },
    {
     "name": "stderr",
     "output_type": "stream",
     "text": [
      "example_01b_base 2019-01-17 05:00:00:  52%|█████▏    | 1404001/2678400 [00:12<00:05, 213044.47it/s]"
     ]
    },
    {
     "name": "stdout",
     "output_type": "stream",
     "text": [
      "OFC the reward is calculated\n",
      "OFC the reward is calculated\n",
      "OFC the reward is calculated\n",
      "OFC the reward is calculated\n",
      "OFC the reward is calculated\n",
      "OFC the reward is calculated\n",
      "OFC the reward is calculated\n",
      "OFC the reward is calculated\n",
      "OFC the reward is calculated\n",
      "OFC the reward is calculated\n",
      "OFC the reward is calculated\n",
      "OFC the reward is calculated\n",
      "OFC the reward is calculated\n",
      "OFC the reward is calculated\n",
      "OFC the reward is calculated\n",
      "OFC the reward is calculated\n",
      "OFC the reward is calculated\n",
      "OFC the reward is calculated\n",
      "OFC the reward is calculated\n",
      "OFC the reward is calculated\n",
      "OFC the reward is calculated\n",
      "OFC the reward is calculated\n",
      "OFC the reward is calculated\n",
      "OFC the reward is calculated\n",
      "OFC the reward is calculated\n",
      "OFC the reward is calculated\n",
      "OFC the reward is calculated\n",
      "OFC the reward is calculated\n",
      "OFC the reward is calculated\n",
      "OFC the reward is calculated\n",
      "OFC the reward is calculated\n",
      "OFC the reward is calculated\n",
      "OFC the reward is calculated\n",
      "OFC the reward is calculated\n",
      "OFC the reward is calculated\n",
      "OFC the reward is calculated\n",
      "OFC the reward is calculated\n",
      "OFC the reward is calculated\n",
      "OFC the reward is calculated\n",
      "OFC the reward is calculated\n",
      "OFC the reward is calculated\n",
      "OFC the reward is calculated\n",
      "OFC the reward is calculated\n",
      "OFC the reward is calculated\n",
      "OFC the reward is calculated\n",
      "OFC the reward is calculated\n",
      "OFC the reward is calculated\n",
      "OFC the reward is calculated\n",
      "OFC the reward is calculated\n",
      "OFC the reward is calculated\n",
      "OFC the reward is calculated\n",
      "OFC the reward is calculated\n"
     ]
    },
    {
     "name": "stderr",
     "output_type": "stream",
     "text": [
      "example_01b_base 2019-01-17 13:00:00:  53%|█████▎    | 1432801/2678400 [00:12<00:05, 226435.78it/s]"
     ]
    },
    {
     "name": "stdout",
     "output_type": "stream",
     "text": [
      "OFC the reward is calculated\n",
      "OFC the reward is calculated\n",
      "OFC the reward is calculated\n",
      "OFC the reward is calculated\n",
      "OFC the reward is calculated\n",
      "OFC the reward is calculated\n",
      "OFC the reward is calculated\n",
      "OFC the reward is calculated\n",
      "OFC the reward is calculated\n",
      "OFC the reward is calculated\n",
      "OFC the reward is calculated\n",
      "OFC the reward is calculated\n",
      "OFC the reward is calculated\n",
      "OFC the reward is calculated\n",
      "OFC the reward is calculated\n",
      "OFC the reward is calculated\n",
      "OFC the reward is calculated\n",
      "OFC the reward is calculated\n",
      "OFC the reward is calculated\n",
      "OFC the reward is calculated\n",
      "OFC the reward is calculated\n",
      "OFC the reward is calculated\n",
      "OFC the reward is calculated\n",
      "OFC the reward is calculated\n",
      "OFC the reward is calculated\n",
      "OFC the reward is calculated\n",
      "OFC the reward is calculated\n",
      "OFC the reward is calculated\n",
      "OFC the reward is calculated\n",
      "OFC the reward is calculated\n",
      "OFC the reward is calculated\n",
      "OFC the reward is calculated\n",
      "OFC the reward is calculated\n",
      "OFC the reward is calculated\n",
      "OFC the reward is calculated\n",
      "OFC the reward is calculated\n",
      "OFC the reward is calculated\n",
      "OFC the reward is calculated\n",
      "OFC the reward is calculated\n",
      "OFC the reward is calculated\n",
      "OFC the reward is calculated\n",
      "OFC the reward is calculated\n",
      "OFC the reward is calculated\n",
      "OFC the reward is calculated\n",
      "OFC the reward is calculated\n",
      "OFC the reward is calculated\n",
      "OFC the reward is calculated\n",
      "OFC the reward is calculated\n",
      "OFC the reward is calculated\n",
      "OFC the reward is calculated\n",
      "OFC the reward is calculated\n",
      "OFC the reward is calculated\n",
      "OFC the reward is calculated\n",
      "OFC the reward is calculated\n",
      "OFC the reward is calculated\n",
      "OFC the reward is calculated\n"
     ]
    },
    {
     "name": "stderr",
     "output_type": "stream",
     "text": [
      "example_01b_base 2019-01-18 04:00:00:  56%|█████▌    | 1486801/2678400 [00:12<00:05, 214777.30it/s]"
     ]
    },
    {
     "name": "stdout",
     "output_type": "stream",
     "text": [
      "OFC the reward is calculated\n",
      "OFC the reward is calculated\n",
      "OFC the reward is calculated\n",
      "OFC the reward is calculated\n",
      "OFC the reward is calculated\n",
      "OFC the reward is calculated\n",
      "OFC the reward is calculated\n",
      "OFC the reward is calculated\n",
      "OFC the reward is calculated\n",
      "OFC the reward is calculated\n",
      "OFC the reward is calculated\n",
      "OFC the reward is calculated\n",
      "OFC the reward is calculated\n",
      "OFC the reward is calculated\n",
      "OFC the reward is calculated\n",
      "OFC the reward is calculated\n",
      "OFC the reward is calculated\n",
      "OFC the reward is calculated\n",
      "OFC the reward is calculated\n",
      "OFC the reward is calculated\n",
      "OFC the reward is calculated\n",
      "OFC the reward is calculated\n",
      "OFC the reward is calculated\n",
      "OFC the reward is calculated\n",
      "OFC the reward is calculated\n",
      "OFC the reward is calculated\n",
      "OFC the reward is calculated\n",
      "OFC the reward is calculated\n",
      "OFC the reward is calculated\n",
      "OFC the reward is calculated\n",
      "OFC the reward is calculated\n",
      "OFC the reward is calculated\n",
      "OFC the reward is calculated\n",
      "OFC the reward is calculated\n",
      "OFC the reward is calculated\n",
      "OFC the reward is calculated\n",
      "OFC the reward is calculated\n",
      "OFC the reward is calculated\n",
      "OFC the reward is calculated\n",
      "OFC the reward is calculated\n"
     ]
    },
    {
     "name": "stderr",
     "output_type": "stream",
     "text": [
      "example_01b_base 2019-01-18 11:00:00:  56%|█████▋    | 1512001/2678400 [00:12<00:06, 189615.76it/s]"
     ]
    },
    {
     "name": "stdout",
     "output_type": "stream",
     "text": [
      "OFC the reward is calculated\n",
      "OFC the reward is calculated\n",
      "OFC the reward is calculated\n",
      "OFC the reward is calculated\n",
      "OFC the reward is calculated\n",
      "OFC the reward is calculated\n",
      "OFC the reward is calculated\n",
      "OFC the reward is calculated\n",
      "OFC the reward is calculated\n",
      "OFC the reward is calculated\n",
      "OFC the reward is calculated\n",
      "OFC the reward is calculated\n",
      "OFC the reward is calculated\n",
      "OFC the reward is calculated\n",
      "OFC the reward is calculated\n",
      "OFC the reward is calculated\n",
      "OFC the reward is calculated\n",
      "OFC the reward is calculated\n",
      "OFC the reward is calculated\n",
      "OFC the reward is calculated\n",
      "OFC the reward is calculated\n",
      "OFC the reward is calculated\n",
      "OFC the reward is calculated\n",
      "OFC the reward is calculated\n",
      "OFC the reward is calculated\n",
      "OFC the reward is calculated\n",
      "OFC the reward is calculated\n",
      "OFC the reward is calculated\n",
      "OFC the reward is calculated\n",
      "OFC the reward is calculated\n",
      "OFC the reward is calculated\n",
      "OFC the reward is calculated\n"
     ]
    },
    {
     "name": "stderr",
     "output_type": "stream",
     "text": [
      "example_01b_base 2019-01-18 17:00:00:  57%|█████▋    | 1533601/2678400 [00:13<00:07, 155080.53it/s]"
     ]
    },
    {
     "name": "stdout",
     "output_type": "stream",
     "text": [
      "OFC the reward is calculated\n",
      "OFC the reward is calculated\n",
      "OFC the reward is calculated\n",
      "OFC the reward is calculated\n",
      "OFC the reward is calculated\n",
      "OFC the reward is calculated\n",
      "OFC the reward is calculated\n",
      "OFC the reward is calculated\n",
      "OFC the reward is calculated\n",
      "OFC the reward is calculated\n",
      "OFC the reward is calculated\n",
      "OFC the reward is calculated\n",
      "OFC the reward is calculated\n",
      "OFC the reward is calculated\n",
      "OFC the reward is calculated\n",
      "OFC the reward is calculated\n",
      "OFC the reward is calculated\n",
      "OFC the reward is calculated\n",
      "OFC the reward is calculated\n",
      "OFC the reward is calculated\n",
      "OFC the reward is calculated\n",
      "OFC the reward is calculated\n",
      "OFC the reward is calculated\n",
      "OFC the reward is calculated\n"
     ]
    },
    {
     "name": "stderr",
     "output_type": "stream",
     "text": [
      "example_01b_base 2019-01-18 22:00:00:  58%|█████▊    | 1551601/2678400 [00:13<00:09, 119689.96it/s]"
     ]
    },
    {
     "name": "stdout",
     "output_type": "stream",
     "text": [
      "OFC the reward is calculated\n",
      "OFC the reward is calculated\n",
      "OFC the reward is calculated\n",
      "OFC the reward is calculated\n",
      "OFC the reward is calculated\n",
      "OFC the reward is calculated\n",
      "OFC the reward is calculated\n",
      "OFC the reward is calculated\n",
      "OFC the reward is calculated\n",
      "OFC the reward is calculated\n",
      "OFC the reward is calculated\n",
      "OFC the reward is calculated\n",
      "OFC the reward is calculated\n",
      "OFC the reward is calculated\n",
      "OFC the reward is calculated\n",
      "OFC the reward is calculated\n"
     ]
    },
    {
     "name": "stderr",
     "output_type": "stream",
     "text": [
      "example_01b_base 2019-01-19 02:00:00:  58%|█████▊    | 1566001/2678400 [00:13<00:11, 95722.73it/s] "
     ]
    },
    {
     "name": "stdout",
     "output_type": "stream",
     "text": [
      "OFC the reward is calculated\n",
      "OFC the reward is calculated\n",
      "OFC the reward is calculated\n",
      "OFC the reward is calculated\n",
      "OFC the reward is calculated\n",
      "OFC the reward is calculated\n",
      "OFC the reward is calculated\n",
      "OFC the reward is calculated\n",
      "OFC the reward is calculated\n",
      "OFC the reward is calculated\n",
      "OFC the reward is calculated\n",
      "OFC the reward is calculated\n",
      "OFC the reward is calculated\n",
      "OFC the reward is calculated\n",
      "OFC the reward is calculated\n",
      "OFC the reward is calculated\n",
      "OFC the reward is calculated\n",
      "OFC the reward is calculated\n",
      "OFC the reward is calculated\n",
      "OFC the reward is calculated\n"
     ]
    },
    {
     "name": "stderr",
     "output_type": "stream",
     "text": [
      "example_01b_base 2019-01-19 09:00:00:  59%|█████▉    | 1591201/2678400 [00:13<00:12, 85202.54it/s]"
     ]
    },
    {
     "name": "stdout",
     "output_type": "stream",
     "text": [
      "OFC the reward is calculated\n",
      "OFC the reward is calculated\n",
      "OFC the reward is calculated\n",
      "OFC the reward is calculated\n",
      "OFC the reward is calculated\n",
      "OFC the reward is calculated\n",
      "OFC the reward is calculated\n",
      "OFC the reward is calculated\n",
      "OFC the reward is calculated\n",
      "OFC the reward is calculated\n",
      "OFC the reward is calculated\n",
      "OFC the reward is calculated\n",
      "OFC the reward is calculated\n",
      "OFC the reward is calculated\n",
      "OFC the reward is calculated\n",
      "OFC the reward is calculated\n",
      "OFC the reward is calculated\n",
      "OFC the reward is calculated\n",
      "OFC the reward is calculated\n",
      "OFC the reward is calculated\n"
     ]
    },
    {
     "name": "stderr",
     "output_type": "stream",
     "text": [
      "example_01b_base 2019-01-19 12:00:00:  60%|█████▉    | 1602001/2678400 [00:14<00:12, 83895.08it/s]"
     ]
    },
    {
     "name": "stdout",
     "output_type": "stream",
     "text": [
      "OFC the reward is calculated\n",
      "OFC the reward is calculated\n",
      "OFC the reward is calculated\n",
      "OFC the reward is calculated\n",
      "OFC the reward is calculated\n",
      "OFC the reward is calculated\n",
      "OFC the reward is calculated\n",
      "OFC the reward is calculated\n",
      "OFC the reward is calculated\n",
      "OFC the reward is calculated\n",
      "OFC the reward is calculated\n",
      "OFC the reward is calculated\n",
      "OFC the reward is calculated\n",
      "OFC the reward is calculated\n",
      "OFC the reward is calculated\n",
      "OFC the reward is calculated\n"
     ]
    },
    {
     "name": "stderr",
     "output_type": "stream",
     "text": [
      "example_01b_base 2019-01-19 18:00:00:  61%|██████    | 1623601/2678400 [00:14<00:13, 79031.49it/s]"
     ]
    },
    {
     "name": "stdout",
     "output_type": "stream",
     "text": [
      "OFC the reward is calculated\n",
      "OFC the reward is calculated\n",
      "OFC the reward is calculated\n",
      "OFC the reward is calculated\n",
      "OFC the reward is calculated\n",
      "OFC the reward is calculated\n",
      "OFC the reward is calculated\n",
      "OFC the reward is calculated\n",
      "OFC the reward is calculated\n",
      "OFC the reward is calculated\n",
      "OFC the reward is calculated\n",
      "OFC the reward is calculated\n",
      "OFC the reward is calculated\n",
      "OFC the reward is calculated\n",
      "OFC the reward is calculated\n",
      "OFC the reward is calculated\n",
      "OFC the reward is calculated\n",
      "OFC the reward is calculated\n",
      "OFC the reward is calculated\n",
      "OFC the reward is calculated\n"
     ]
    },
    {
     "name": "stderr",
     "output_type": "stream",
     "text": [
      "example_01b_base 2019-01-20 00:00:00:  61%|██████▏   | 1645201/2678400 [00:14<00:11, 86744.28it/s]"
     ]
    },
    {
     "name": "stdout",
     "output_type": "stream",
     "text": [
      "OFC the reward is calculated\n",
      "OFC the reward is calculated\n",
      "OFC the reward is calculated\n",
      "OFC the reward is calculated\n",
      "OFC the reward is calculated\n",
      "OFC the reward is calculated\n",
      "OFC the reward is calculated\n",
      "OFC the reward is calculated\n",
      "OFC the reward is calculated\n",
      "OFC the reward is calculated\n",
      "OFC the reward is calculated\n",
      "OFC the reward is calculated\n",
      "OFC the reward is calculated\n",
      "OFC the reward is calculated\n",
      "OFC the reward is calculated\n",
      "OFC the reward is calculated\n",
      "OFC the reward is calculated\n",
      "OFC the reward is calculated\n",
      "OFC the reward is calculated\n",
      "OFC the reward is calculated\n",
      "OFC the reward is calculated\n",
      "OFC the reward is calculated\n",
      "OFC the reward is calculated\n",
      "OFC the reward is calculated\n"
     ]
    },
    {
     "name": "stderr",
     "output_type": "stream",
     "text": [
      "example_01b_base 2019-01-20 07:00:00:  62%|██████▏   | 1670401/2678400 [00:14<00:11, 91430.42it/s]"
     ]
    },
    {
     "name": "stdout",
     "output_type": "stream",
     "text": [
      "OFC the reward is calculated\n",
      "OFC the reward is calculated\n",
      "OFC the reward is calculated\n",
      "OFC the reward is calculated\n",
      "OFC the reward is calculated\n",
      "OFC the reward is calculated\n",
      "OFC the reward is calculated\n",
      "OFC the reward is calculated\n",
      "OFC the reward is calculated\n",
      "OFC the reward is calculated\n",
      "OFC the reward is calculated\n",
      "OFC the reward is calculated\n",
      "OFC the reward is calculated\n",
      "OFC the reward is calculated\n",
      "OFC the reward is calculated\n",
      "OFC the reward is calculated\n",
      "OFC the reward is calculated\n",
      "OFC the reward is calculated\n",
      "OFC the reward is calculated\n",
      "OFC the reward is calculated\n",
      "OFC the reward is calculated\n",
      "OFC the reward is calculated\n",
      "OFC the reward is calculated\n",
      "OFC the reward is calculated\n"
     ]
    },
    {
     "name": "stderr",
     "output_type": "stream",
     "text": [
      "example_01b_base 2019-01-20 13:00:00:  63%|██████▎   | 1692001/2678400 [00:15<00:11, 88202.29it/s]"
     ]
    },
    {
     "name": "stdout",
     "output_type": "stream",
     "text": [
      "OFC the reward is calculated\n",
      "OFC the reward is calculated\n",
      "OFC the reward is calculated\n",
      "OFC the reward is calculated\n",
      "OFC the reward is calculated\n",
      "OFC the reward is calculated\n",
      "OFC the reward is calculated\n",
      "OFC the reward is calculated\n",
      "OFC the reward is calculated\n",
      "OFC the reward is calculated\n",
      "OFC the reward is calculated\n",
      "OFC the reward is calculated\n",
      "OFC the reward is calculated\n",
      "OFC the reward is calculated\n",
      "OFC the reward is calculated\n",
      "OFC the reward is calculated\n",
      "OFC the reward is calculated\n",
      "OFC the reward is calculated\n",
      "OFC the reward is calculated\n",
      "OFC the reward is calculated\n"
     ]
    },
    {
     "name": "stderr",
     "output_type": "stream",
     "text": [
      "example_01b_base 2019-01-20 16:00:00:  64%|██████▎   | 1702801/2678400 [00:15<00:12, 75433.08it/s]"
     ]
    },
    {
     "name": "stdout",
     "output_type": "stream",
     "text": [
      "OFC the reward is calculated\n",
      "OFC the reward is calculated\n",
      "OFC the reward is calculated\n",
      "OFC the reward is calculated\n",
      "OFC the reward is calculated\n",
      "OFC the reward is calculated\n",
      "OFC the reward is calculated\n",
      "OFC the reward is calculated\n",
      "OFC the reward is calculated\n",
      "OFC the reward is calculated\n",
      "OFC the reward is calculated\n",
      "OFC the reward is calculated\n",
      "OFC the reward is calculated\n",
      "OFC the reward is calculated\n",
      "OFC the reward is calculated\n",
      "OFC the reward is calculated\n",
      "OFC the reward is calculated\n",
      "OFC the reward is calculated\n",
      "OFC the reward is calculated\n",
      "OFC the reward is calculated\n"
     ]
    },
    {
     "name": "stderr",
     "output_type": "stream",
     "text": [
      "example_01b_base 2019-01-20 22:00:00:  64%|██████▍   | 1724401/2678400 [00:15<00:12, 74397.43it/s]"
     ]
    },
    {
     "name": "stdout",
     "output_type": "stream",
     "text": [
      "OFC the reward is calculated\n",
      "OFC the reward is calculated\n",
      "OFC the reward is calculated\n",
      "OFC the reward is calculated\n",
      "OFC the reward is calculated\n",
      "OFC the reward is calculated\n",
      "OFC the reward is calculated\n",
      "OFC the reward is calculated\n",
      "OFC the reward is calculated\n",
      "OFC the reward is calculated\n",
      "OFC the reward is calculated\n",
      "OFC the reward is calculated\n",
      "OFC the reward is calculated\n",
      "OFC the reward is calculated\n",
      "OFC the reward is calculated\n",
      "OFC the reward is calculated\n"
     ]
    },
    {
     "name": "stderr",
     "output_type": "stream",
     "text": [
      "example_01b_base 2019-01-21 01:00:00:  65%|██████▍   | 1735201/2678400 [00:15<00:12, 75412.74it/s]"
     ]
    },
    {
     "name": "stdout",
     "output_type": "stream",
     "text": [
      "OFC the reward is calculated\n",
      "OFC the reward is calculated\n",
      "OFC the reward is calculated\n",
      "OFC the reward is calculated\n",
      "OFC the reward is calculated\n",
      "OFC the reward is calculated\n",
      "OFC the reward is calculated\n",
      "OFC the reward is calculated\n",
      "OFC the reward is calculated\n",
      "OFC the reward is calculated\n",
      "OFC the reward is calculated\n",
      "OFC the reward is calculated\n",
      "OFC the reward is calculated\n",
      "OFC the reward is calculated\n",
      "OFC the reward is calculated\n",
      "OFC the reward is calculated\n"
     ]
    },
    {
     "name": "stderr",
     "output_type": "stream",
     "text": [
      "example_01b_base 2019-01-21 04:00:00:  65%|██████▌   | 1746001/2678400 [00:15<00:12, 72706.22it/s]"
     ]
    },
    {
     "name": "stdout",
     "output_type": "stream",
     "text": [
      "OFC the reward is calculated\n",
      "OFC the reward is calculated\n",
      "OFC the reward is calculated\n",
      "OFC the reward is calculated\n",
      "OFC the reward is calculated\n",
      "OFC the reward is calculated\n",
      "OFC the reward is calculated\n",
      "OFC the reward is calculated\n",
      "OFC the reward is calculated\n",
      "OFC the reward is calculated\n",
      "OFC the reward is calculated\n",
      "OFC the reward is calculated\n",
      "OFC the reward is calculated\n",
      "OFC the reward is calculated\n",
      "OFC the reward is calculated\n",
      "OFC the reward is calculated\n",
      "OFC the reward is calculated\n",
      "OFC the reward is calculated\n",
      "OFC the reward is calculated\n",
      "OFC the reward is calculated\n"
     ]
    },
    {
     "name": "stderr",
     "output_type": "stream",
     "text": [
      "example_01b_base 2019-01-21 10:00:00:  66%|██████▌   | 1767601/2678400 [00:16<00:11, 78024.59it/s]"
     ]
    },
    {
     "name": "stdout",
     "output_type": "stream",
     "text": [
      "OFC the reward is calculated\n",
      "OFC the reward is calculated\n",
      "OFC the reward is calculated\n",
      "OFC the reward is calculated\n",
      "OFC the reward is calculated\n",
      "OFC the reward is calculated\n",
      "OFC the reward is calculated\n",
      "OFC the reward is calculated\n",
      "OFC the reward is calculated\n",
      "OFC the reward is calculated\n",
      "OFC the reward is calculated\n",
      "OFC the reward is calculated\n",
      "OFC the reward is calculated\n",
      "OFC the reward is calculated\n",
      "OFC the reward is calculated\n",
      "OFC the reward is calculated\n",
      "OFC the reward is calculated\n",
      "OFC the reward is calculated\n",
      "OFC the reward is calculated\n",
      "OFC the reward is calculated\n"
     ]
    },
    {
     "name": "stderr",
     "output_type": "stream",
     "text": [
      "example_01b_base 2019-01-21 16:00:00:  67%|██████▋   | 1789201/2678400 [00:16<00:11, 80392.11it/s]"
     ]
    },
    {
     "name": "stdout",
     "output_type": "stream",
     "text": [
      "OFC the reward is calculated\n",
      "OFC the reward is calculated\n",
      "OFC the reward is calculated\n",
      "OFC the reward is calculated\n",
      "OFC the reward is calculated\n",
      "OFC the reward is calculated\n",
      "OFC the reward is calculated\n",
      "OFC the reward is calculated\n",
      "OFC the reward is calculated\n",
      "OFC the reward is calculated\n",
      "OFC the reward is calculated\n",
      "OFC the reward is calculated\n",
      "OFC the reward is calculated\n",
      "OFC the reward is calculated\n",
      "OFC the reward is calculated\n",
      "OFC the reward is calculated\n"
     ]
    },
    {
     "name": "stderr",
     "output_type": "stream",
     "text": [
      "example_01b_base 2019-01-21 19:00:00:  67%|██████▋   | 1800001/2678400 [00:16<00:11, 78249.96it/s]"
     ]
    },
    {
     "name": "stdout",
     "output_type": "stream",
     "text": [
      "OFC the reward is calculated\n",
      "OFC the reward is calculated\n",
      "OFC the reward is calculated\n",
      "OFC the reward is calculated\n",
      "OFC the reward is calculated\n",
      "OFC the reward is calculated\n",
      "OFC the reward is calculated\n",
      "OFC the reward is calculated\n",
      "OFC the reward is calculated\n",
      "OFC the reward is calculated\n",
      "OFC the reward is calculated\n",
      "OFC the reward is calculated\n",
      "OFC the reward is calculated\n",
      "OFC the reward is calculated\n",
      "OFC the reward is calculated\n",
      "OFC the reward is calculated\n",
      "OFC the reward is calculated\n",
      "OFC the reward is calculated\n",
      "OFC the reward is calculated\n",
      "OFC the reward is calculated\n",
      "OFC the reward is calculated\n",
      "OFC the reward is calculated\n",
      "OFC the reward is calculated\n"
     ]
    },
    {
     "name": "stderr",
     "output_type": "stream",
     "text": [
      "example_01b_base 2019-01-22 01:00:00:  68%|██████▊   | 1821601/2678400 [00:16<00:11, 76304.19it/s]"
     ]
    },
    {
     "name": "stdout",
     "output_type": "stream",
     "text": [
      "OFC the reward is calculated\n",
      "OFC the reward is calculated\n",
      "OFC the reward is calculated\n",
      "OFC the reward is calculated\n",
      "OFC the reward is calculated\n",
      "OFC the reward is calculated\n",
      "OFC the reward is calculated\n",
      "OFC the reward is calculated\n",
      "OFC the reward is calculated\n",
      "OFC the reward is calculated\n",
      "OFC the reward is calculated\n",
      "OFC the reward is calculated\n",
      "OFC the reward is calculated\n",
      "OFC the reward is calculated\n",
      "OFC the reward is calculated\n",
      "OFC the reward is calculated\n",
      "OFC the reward is calculated\n"
     ]
    },
    {
     "name": "stderr",
     "output_type": "stream",
     "text": [
      "example_01b_base 2019-01-22 04:00:00:  68%|██████▊   | 1832401/2678400 [00:16<00:11, 75178.63it/s]"
     ]
    },
    {
     "name": "stdout",
     "output_type": "stream",
     "text": [
      "OFC the reward is calculated\n",
      "OFC the reward is calculated\n",
      "OFC the reward is calculated\n",
      "OFC the reward is calculated\n",
      "OFC the reward is calculated\n",
      "OFC the reward is calculated\n",
      "OFC the reward is calculated\n",
      "OFC the reward is calculated\n",
      "OFC the reward is calculated\n",
      "OFC the reward is calculated\n",
      "OFC the reward is calculated\n",
      "OFC the reward is calculated\n",
      "OFC the reward is calculated\n",
      "OFC the reward is calculated\n",
      "OFC the reward is calculated\n",
      "OFC the reward is calculated\n",
      "OFC the reward is calculated\n",
      "OFC the reward is calculated\n",
      "OFC the reward is calculated\n",
      "OFC the reward is calculated\n"
     ]
    },
    {
     "name": "stderr",
     "output_type": "stream",
     "text": [
      "example_01b_base 2019-01-22 10:00:00:  69%|██████▉   | 1854001/2678400 [00:17<00:10, 77135.37it/s]"
     ]
    },
    {
     "name": "stdout",
     "output_type": "stream",
     "text": [
      "OFC the reward is calculated\n",
      "OFC the reward is calculated\n",
      "OFC the reward is calculated\n",
      "OFC the reward is calculated\n",
      "OFC the reward is calculated\n",
      "OFC the reward is calculated\n",
      "OFC the reward is calculated\n",
      "OFC the reward is calculated\n",
      "OFC the reward is calculated\n",
      "OFC the reward is calculated\n",
      "OFC the reward is calculated\n",
      "OFC the reward is calculated\n",
      "OFC the reward is calculated\n",
      "OFC the reward is calculated\n",
      "OFC the reward is calculated\n",
      "OFC the reward is calculated\n",
      "OFC the reward is calculated\n",
      "OFC the reward is calculated\n",
      "OFC the reward is calculated\n",
      "OFC the reward is calculated\n"
     ]
    },
    {
     "name": "stderr",
     "output_type": "stream",
     "text": [
      "example_01b_base 2019-01-22 16:00:00:  70%|███████   | 1875601/2678400 [00:17<00:09, 84834.99it/s]"
     ]
    },
    {
     "name": "stdout",
     "output_type": "stream",
     "text": [
      "OFC the reward is calculated\n",
      "OFC the reward is calculated\n",
      "OFC the reward is calculated\n",
      "OFC the reward is calculated\n",
      "OFC the reward is calculated\n",
      "OFC the reward is calculated\n",
      "OFC the reward is calculated\n",
      "OFC the reward is calculated\n",
      "OFC the reward is calculated\n",
      "OFC the reward is calculated\n",
      "OFC the reward is calculated\n",
      "OFC the reward is calculated\n",
      "OFC the reward is calculated\n",
      "OFC the reward is calculated\n",
      "OFC the reward is calculated\n",
      "OFC the reward is calculated\n",
      "OFC the reward is calculated\n",
      "OFC the reward is calculated\n",
      "OFC the reward is calculated\n",
      "OFC the reward is calculated\n",
      "OFC the reward is calculated\n",
      "OFC the reward is calculated\n",
      "OFC the reward is calculated\n",
      "OFC the reward is calculated\n",
      "OFC the reward is calculated\n",
      "OFC the reward is calculated\n",
      "OFC the reward is calculated\n",
      "OFC the reward is calculated\n"
     ]
    },
    {
     "name": "stderr",
     "output_type": "stream",
     "text": [
      "example_01b_base 2019-01-22 23:00:00:  71%|███████   | 1900801/2678400 [00:17<00:08, 96683.65it/s]"
     ]
    },
    {
     "name": "stdout",
     "output_type": "stream",
     "text": [
      "OFC the reward is calculated\n",
      "OFC the reward is calculated\n",
      "OFC the reward is calculated\n",
      "OFC the reward is calculated\n",
      "OFC the reward is calculated\n",
      "OFC the reward is calculated\n",
      "OFC the reward is calculated\n",
      "OFC the reward is calculated\n",
      "OFC the reward is calculated\n",
      "OFC the reward is calculated\n",
      "OFC the reward is calculated\n",
      "OFC the reward is calculated\n",
      "OFC the reward is calculated\n",
      "OFC the reward is calculated\n",
      "OFC the reward is calculated\n",
      "OFC the reward is calculated\n",
      "OFC the reward is calculated\n",
      "OFC the reward is calculated\n",
      "OFC the reward is calculated\n",
      "OFC the reward is calculated\n",
      "OFC the reward is calculated\n",
      "OFC the reward is calculated\n",
      "OFC the reward is calculated\n",
      "OFC the reward is calculated\n"
     ]
    },
    {
     "name": "stderr",
     "output_type": "stream",
     "text": [
      "example_01b_base 2019-01-23 02:00:00:  71%|███████▏  | 1911601/2678400 [00:17<00:09, 83091.21it/s]"
     ]
    },
    {
     "name": "stdout",
     "output_type": "stream",
     "text": [
      "OFC the reward is calculated\n",
      "OFC the reward is calculated\n",
      "OFC the reward is calculated\n",
      "OFC the reward is calculated\n",
      "OFC the reward is calculated\n",
      "OFC the reward is calculated\n",
      "OFC the reward is calculated\n",
      "OFC the reward is calculated\n",
      "OFC the reward is calculated\n",
      "OFC the reward is calculated\n",
      "OFC the reward is calculated\n",
      "OFC the reward is calculated\n",
      "OFC the reward is calculated\n",
      "OFC the reward is calculated\n",
      "OFC the reward is calculated\n",
      "OFC the reward is calculated\n"
     ]
    },
    {
     "name": "stderr",
     "output_type": "stream",
     "text": [
      "example_01b_base 2019-01-23 13:00:00:  73%|███████▎  | 1951201/2678400 [00:18<00:07, 98940.15it/s]"
     ]
    },
    {
     "name": "stdout",
     "output_type": "stream",
     "text": [
      "OFC the reward is calculated\n",
      "OFC the reward is calculated\n",
      "OFC the reward is calculated\n",
      "OFC the reward is calculated\n",
      "OFC the reward is calculated\n",
      "OFC the reward is calculated\n",
      "OFC the reward is calculated\n",
      "OFC the reward is calculated\n",
      "OFC the reward is calculated\n",
      "OFC the reward is calculated\n",
      "OFC the reward is calculated\n",
      "OFC the reward is calculated\n",
      "OFC the reward is calculated\n",
      "OFC the reward is calculated\n",
      "OFC the reward is calculated\n",
      "OFC the reward is calculated\n",
      "OFC the reward is calculated\n",
      "OFC the reward is calculated\n",
      "OFC the reward is calculated\n",
      "OFC the reward is calculated\n",
      "OFC the reward is calculated\n",
      "OFC the reward is calculated\n",
      "OFC the reward is calculated\n",
      "OFC the reward is calculated\n",
      "OFC the reward is calculated\n",
      "OFC the reward is calculated\n",
      "OFC the reward is calculated\n",
      "OFC the reward is calculated\n",
      "OFC the reward is calculated\n",
      "OFC the reward is calculated\n",
      "OFC the reward is calculated\n",
      "OFC the reward is calculated\n"
     ]
    },
    {
     "name": "stderr",
     "output_type": "stream",
     "text": [
      "example_01b_base 2019-01-23 17:00:00:  73%|███████▎  | 1965601/2678400 [00:18<00:06, 106149.94it/s]"
     ]
    },
    {
     "name": "stdout",
     "output_type": "stream",
     "text": [
      "OFC the reward is calculated\n",
      "OFC the reward is calculated\n",
      "OFC the reward is calculated\n",
      "OFC the reward is calculated\n",
      "OFC the reward is calculated\n",
      "OFC the reward is calculated\n",
      "OFC the reward is calculated\n",
      "OFC the reward is calculated\n",
      "OFC the reward is calculated\n",
      "OFC the reward is calculated\n",
      "OFC the reward is calculated\n",
      "OFC the reward is calculated\n",
      "OFC the reward is calculated\n",
      "OFC the reward is calculated\n",
      "OFC the reward is calculated\n",
      "OFC the reward is calculated\n",
      "OFC the reward is calculated\n",
      "OFC the reward is calculated\n",
      "OFC the reward is calculated\n",
      "OFC the reward is calculated\n",
      "OFC the reward is calculated\n",
      "OFC the reward is calculated\n",
      "OFC the reward is calculated\n",
      "OFC the reward is calculated\n",
      "OFC the reward is calculated\n",
      "OFC the reward is calculated\n",
      "OFC the reward is calculated\n",
      "OFC the reward is calculated\n"
     ]
    },
    {
     "name": "stderr",
     "output_type": "stream",
     "text": [
      "example_01b_base 2019-01-24 01:00:00:  74%|███████▍  | 1994401/2678400 [00:18<00:06, 111888.61it/s]"
     ]
    },
    {
     "name": "stdout",
     "output_type": "stream",
     "text": [
      "OFC the reward is calculated\n",
      "OFC the reward is calculated\n",
      "OFC the reward is calculated\n",
      "OFC the reward is calculated\n",
      "OFC the reward is calculated\n",
      "OFC the reward is calculated\n",
      "OFC the reward is calculated\n",
      "OFC the reward is calculated\n",
      "OFC the reward is calculated\n",
      "OFC the reward is calculated\n",
      "OFC the reward is calculated\n",
      "OFC the reward is calculated\n",
      "OFC the reward is calculated\n",
      "OFC the reward is calculated\n",
      "OFC the reward is calculated\n",
      "OFC the reward is calculated\n",
      "OFC the reward is calculated\n",
      "OFC the reward is calculated\n",
      "OFC the reward is calculated\n",
      "OFC the reward is calculated\n",
      "OFC the reward is calculated\n",
      "OFC the reward is calculated\n",
      "OFC the reward is calculated\n",
      "OFC the reward is calculated\n",
      "OFC the reward is calculated\n",
      "OFC the reward is calculated\n",
      "OFC the reward is calculated\n",
      "OFC the reward is calculated\n",
      "OFC the reward is calculated\n",
      "OFC the reward is calculated\n",
      "OFC the reward is calculated\n",
      "OFC the reward is calculated\n",
      "OFC the reward is calculated\n",
      "OFC the reward is calculated\n",
      "OFC the reward is calculated\n",
      "OFC the reward is calculated\n",
      "OFC the reward is calculated\n",
      "OFC the reward is calculated\n",
      "OFC the reward is calculated\n",
      "OFC the reward is calculated\n"
     ]
    },
    {
     "name": "stderr",
     "output_type": "stream",
     "text": [
      "example_01b_base 2019-01-24 10:00:00:  76%|███████▌  | 2026801/2678400 [00:18<00:04, 130452.71it/s]"
     ]
    },
    {
     "name": "stdout",
     "output_type": "stream",
     "text": [
      "OFC the reward is calculated\n",
      "OFC the reward is calculated\n",
      "OFC the reward is calculated\n",
      "OFC the reward is calculated\n",
      "OFC the reward is calculated\n",
      "OFC the reward is calculated\n",
      "OFC the reward is calculated\n",
      "OFC the reward is calculated\n",
      "OFC the reward is calculated\n",
      "OFC the reward is calculated\n",
      "OFC the reward is calculated\n",
      "OFC the reward is calculated\n",
      "OFC the reward is calculated\n",
      "OFC the reward is calculated\n",
      "OFC the reward is calculated\n",
      "OFC the reward is calculated\n",
      "OFC the reward is calculated\n",
      "OFC the reward is calculated\n",
      "OFC the reward is calculated\n",
      "OFC the reward is calculated\n",
      "OFC the reward is calculated\n",
      "OFC the reward is calculated\n",
      "OFC the reward is calculated\n",
      "OFC the reward is calculated\n",
      "OFC the reward is calculated\n",
      "OFC the reward is calculated\n",
      "OFC the reward is calculated\n",
      "OFC the reward is calculated\n",
      "OFC the reward is calculated\n",
      "OFC the reward is calculated\n",
      "OFC the reward is calculated\n",
      "OFC the reward is calculated\n",
      "OFC the reward is calculated\n",
      "OFC the reward is calculated\n",
      "OFC the reward is calculated\n",
      "OFC the reward is calculated\n"
     ]
    },
    {
     "name": "stderr",
     "output_type": "stream",
     "text": [
      "example_01b_base 2019-01-24 21:00:00:  77%|███████▋  | 2066401/2678400 [00:19<00:04, 140765.95it/s]"
     ]
    },
    {
     "name": "stdout",
     "output_type": "stream",
     "text": [
      "OFC the reward is calculated\n",
      "OFC the reward is calculated\n",
      "OFC the reward is calculated\n",
      "OFC the reward is calculated\n",
      "OFC the reward is calculated\n",
      "OFC the reward is calculated\n",
      "OFC the reward is calculated\n",
      "OFC the reward is calculated\n",
      "OFC the reward is calculated\n",
      "OFC the reward is calculated\n",
      "OFC the reward is calculated\n",
      "OFC the reward is calculated\n",
      "OFC the reward is calculated\n",
      "OFC the reward is calculated\n",
      "OFC the reward is calculated\n",
      "OFC the reward is calculated\n",
      "OFC the reward is calculated\n",
      "OFC the reward is calculated\n",
      "OFC the reward is calculated\n",
      "OFC the reward is calculated\n",
      "OFC the reward is calculated\n",
      "OFC the reward is calculated\n",
      "OFC the reward is calculated\n",
      "OFC the reward is calculated\n",
      "OFC the reward is calculated\n",
      "OFC the reward is calculated\n",
      "OFC the reward is calculated\n",
      "OFC the reward is calculated\n"
     ]
    },
    {
     "name": "stderr",
     "output_type": "stream",
     "text": [
      "example_01b_base 2019-01-25 01:00:00:  78%|███████▊  | 2080801/2678400 [00:19<00:04, 136450.90it/s]"
     ]
    },
    {
     "name": "stdout",
     "output_type": "stream",
     "text": [
      "OFC the reward is calculated\n",
      "OFC the reward is calculated\n",
      "OFC the reward is calculated\n",
      "OFC the reward is calculated\n",
      "OFC the reward is calculated\n",
      "OFC the reward is calculated\n",
      "OFC the reward is calculated\n",
      "OFC the reward is calculated\n",
      "OFC the reward is calculated\n",
      "OFC the reward is calculated\n",
      "OFC the reward is calculated\n",
      "OFC the reward is calculated\n",
      "OFC the reward is calculated\n",
      "OFC the reward is calculated\n",
      "OFC the reward is calculated\n",
      "OFC the reward is calculated\n",
      "OFC the reward is calculated\n",
      "OFC the reward is calculated\n",
      "OFC the reward is calculated\n",
      "OFC the reward is calculated\n",
      "OFC the reward is calculated\n",
      "OFC the reward is calculated\n",
      "OFC the reward is calculated\n",
      "OFC the reward is calculated\n",
      "OFC the reward is calculated\n",
      "OFC the reward is calculated\n",
      "OFC the reward is calculated\n",
      "OFC the reward is calculated\n"
     ]
    },
    {
     "name": "stderr",
     "output_type": "stream",
     "text": [
      "example_01b_base 2019-01-25 09:00:00:  79%|███████▉  | 2109601/2678400 [00:19<00:04, 118659.52it/s]"
     ]
    },
    {
     "name": "stdout",
     "output_type": "stream",
     "text": [
      "OFC the reward is calculated\n",
      "OFC the reward is calculated\n",
      "OFC the reward is calculated\n",
      "OFC the reward is calculated\n",
      "OFC the reward is calculated\n",
      "OFC the reward is calculated\n",
      "OFC the reward is calculated\n",
      "OFC the reward is calculated\n",
      "OFC the reward is calculated\n",
      "OFC the reward is calculated\n",
      "OFC the reward is calculated\n",
      "OFC the reward is calculated\n",
      "OFC the reward is calculated\n",
      "OFC the reward is calculated\n",
      "OFC the reward is calculated\n",
      "OFC the reward is calculated\n",
      "OFC the reward is calculated\n",
      "OFC the reward is calculated\n",
      "OFC the reward is calculated\n",
      "OFC the reward is calculated\n",
      "OFC the reward is calculated\n",
      "OFC the reward is calculated\n",
      "OFC the reward is calculated\n",
      "OFC the reward is calculated\n"
     ]
    },
    {
     "name": "stderr",
     "output_type": "stream",
     "text": [
      "example_01b_base 2019-01-25 13:00:00:  79%|███████▉  | 2124001/2678400 [00:19<00:05, 97529.71it/s] "
     ]
    },
    {
     "name": "stdout",
     "output_type": "stream",
     "text": [
      "OFC the reward is calculated\n",
      "OFC the reward is calculated\n",
      "OFC the reward is calculated\n",
      "OFC the reward is calculated\n",
      "OFC the reward is calculated\n",
      "OFC the reward is calculated\n",
      "OFC the reward is calculated\n",
      "OFC the reward is calculated\n",
      "OFC the reward is calculated\n",
      "OFC the reward is calculated\n",
      "OFC the reward is calculated\n",
      "OFC the reward is calculated\n",
      "OFC the reward is calculated\n",
      "OFC the reward is calculated\n",
      "OFC the reward is calculated\n",
      "OFC the reward is calculated\n",
      "OFC the reward is calculated\n",
      "OFC the reward is calculated\n",
      "OFC the reward is calculated\n",
      "OFC the reward is calculated\n"
     ]
    },
    {
     "name": "stderr",
     "output_type": "stream",
     "text": [
      "example_01b_base 2019-01-25 20:00:00:  80%|████████  | 2149201/2678400 [00:19<00:05, 104717.81it/s]"
     ]
    },
    {
     "name": "stdout",
     "output_type": "stream",
     "text": [
      "OFC the reward is calculated\n",
      "OFC the reward is calculated\n",
      "OFC the reward is calculated\n",
      "OFC the reward is calculated\n",
      "OFC the reward is calculated\n",
      "OFC the reward is calculated\n",
      "OFC the reward is calculated\n",
      "OFC the reward is calculated\n",
      "OFC the reward is calculated\n",
      "OFC the reward is calculated\n",
      "OFC the reward is calculated\n",
      "OFC the reward is calculated\n",
      "OFC the reward is calculated\n",
      "OFC the reward is calculated\n",
      "OFC the reward is calculated\n",
      "OFC the reward is calculated\n",
      "OFC the reward is calculated\n",
      "OFC the reward is calculated\n",
      "OFC the reward is calculated\n",
      "OFC the reward is calculated\n",
      "OFC the reward is calculated\n",
      "OFC the reward is calculated\n",
      "OFC the reward is calculated\n",
      "OFC the reward is calculated\n",
      "OFC the reward is calculated\n",
      "OFC the reward is calculated\n",
      "OFC the reward is calculated\n",
      "OFC the reward is calculated\n"
     ]
    },
    {
     "name": "stderr",
     "output_type": "stream",
     "text": [
      "example_01b_base 2019-01-26 04:00:00:  81%|████████▏ | 2178001/2678400 [00:20<00:04, 107346.59it/s]"
     ]
    },
    {
     "name": "stdout",
     "output_type": "stream",
     "text": [
      "OFC the reward is calculated\n",
      "OFC the reward is calculated\n",
      "OFC the reward is calculated\n",
      "OFC the reward is calculated\n",
      "OFC the reward is calculated\n",
      "OFC the reward is calculated\n",
      "OFC the reward is calculated\n",
      "OFC the reward is calculated\n",
      "OFC the reward is calculated\n",
      "OFC the reward is calculated\n",
      "OFC the reward is calculated\n",
      "OFC the reward is calculated\n",
      "OFC the reward is calculated\n",
      "OFC the reward is calculated\n",
      "OFC the reward is calculated\n",
      "OFC the reward is calculated\n",
      "OFC the reward is calculated\n",
      "OFC the reward is calculated\n",
      "OFC the reward is calculated\n",
      "OFC the reward is calculated\n",
      "OFC the reward is calculated\n",
      "OFC the reward is calculated\n",
      "OFC the reward is calculated\n",
      "OFC the reward is calculated\n",
      "OFC the reward is calculated\n",
      "OFC the reward is calculated\n",
      "OFC the reward is calculated\n",
      "OFC the reward is calculated\n"
     ]
    },
    {
     "name": "stderr",
     "output_type": "stream",
     "text": [
      "example_01b_base 2019-01-26 11:00:00:  82%|████████▏ | 2203201/2678400 [00:20<00:04, 101791.29it/s]"
     ]
    },
    {
     "name": "stdout",
     "output_type": "stream",
     "text": [
      "OFC the reward is calculated\n",
      "OFC the reward is calculated\n",
      "OFC the reward is calculated\n",
      "OFC the reward is calculated\n",
      "OFC the reward is calculated\n",
      "OFC the reward is calculated\n",
      "OFC the reward is calculated\n",
      "OFC the reward is calculated\n",
      "OFC the reward is calculated\n",
      "OFC the reward is calculated\n",
      "OFC the reward is calculated\n",
      "OFC the reward is calculated\n",
      "OFC the reward is calculated\n",
      "OFC the reward is calculated\n",
      "OFC the reward is calculated\n",
      "OFC the reward is calculated\n",
      "OFC the reward is calculated\n",
      "OFC the reward is calculated\n",
      "OFC the reward is calculated\n",
      "OFC the reward is calculated\n",
      "OFC the reward is calculated\n",
      "OFC the reward is calculated\n",
      "OFC the reward is calculated\n",
      "OFC the reward is calculated\n",
      "OFC the reward is calculated\n",
      "OFC the reward is calculated\n",
      "OFC the reward is calculated\n",
      "OFC the reward is calculated\n"
     ]
    },
    {
     "name": "stderr",
     "output_type": "stream",
     "text": [
      "example_01b_base 2019-01-26 19:00:00:  83%|████████▎ | 2232001/2678400 [00:20<00:04, 111288.35it/s]"
     ]
    },
    {
     "name": "stdout",
     "output_type": "stream",
     "text": [
      "OFC the reward is calculated\n",
      "OFC the reward is calculated\n",
      "OFC the reward is calculated\n",
      "OFC the reward is calculated\n",
      "OFC the reward is calculated\n",
      "OFC the reward is calculated\n",
      "OFC the reward is calculated\n",
      "OFC the reward is calculated\n",
      "OFC the reward is calculated\n",
      "OFC the reward is calculated\n",
      "OFC the reward is calculated\n",
      "OFC the reward is calculated\n",
      "OFC the reward is calculated\n",
      "OFC the reward is calculated\n",
      "OFC the reward is calculated\n",
      "OFC the reward is calculated\n",
      "OFC the reward is calculated\n",
      "OFC the reward is calculated\n",
      "OFC the reward is calculated\n",
      "OFC the reward is calculated\n",
      "OFC the reward is calculated\n",
      "OFC the reward is calculated\n",
      "OFC the reward is calculated\n",
      "OFC the reward is calculated\n",
      "OFC the reward is calculated\n",
      "OFC the reward is calculated\n",
      "OFC the reward is calculated\n",
      "OFC the reward is calculated\n"
     ]
    },
    {
     "name": "stderr",
     "output_type": "stream",
     "text": [
      "example_01b_base 2019-01-26 23:00:00:  84%|████████▍ | 2246401/2678400 [00:20<00:04, 101107.30it/s]"
     ]
    },
    {
     "name": "stdout",
     "output_type": "stream",
     "text": [
      "OFC the reward is calculated\n",
      "OFC the reward is calculated\n",
      "OFC the reward is calculated\n",
      "OFC the reward is calculated\n",
      "OFC the reward is calculated\n",
      "OFC the reward is calculated\n",
      "OFC the reward is calculated\n",
      "OFC the reward is calculated\n",
      "OFC the reward is calculated\n",
      "OFC the reward is calculated\n",
      "OFC the reward is calculated\n",
      "OFC the reward is calculated\n",
      "OFC the reward is calculated\n",
      "OFC the reward is calculated\n",
      "OFC the reward is calculated\n",
      "OFC the reward is calculated\n",
      "OFC the reward is calculated\n",
      "OFC the reward is calculated\n",
      "OFC the reward is calculated\n",
      "OFC the reward is calculated\n",
      "OFC the reward is calculated\n",
      "OFC the reward is calculated\n",
      "OFC the reward is calculated\n",
      "OFC the reward is calculated\n"
     ]
    },
    {
     "name": "stderr",
     "output_type": "stream",
     "text": [
      "example_01b_base 2019-01-27 06:00:00:  85%|████████▍ | 2271601/2678400 [00:21<00:03, 109550.48it/s]"
     ]
    },
    {
     "name": "stdout",
     "output_type": "stream",
     "text": [
      "OFC the reward is calculated\n",
      "OFC the reward is calculated\n",
      "OFC the reward is calculated\n",
      "OFC the reward is calculated\n",
      "OFC the reward is calculated\n",
      "OFC the reward is calculated\n",
      "OFC the reward is calculated\n",
      "OFC the reward is calculated\n",
      "OFC the reward is calculated\n",
      "OFC the reward is calculated\n",
      "OFC the reward is calculated\n",
      "OFC the reward is calculated\n",
      "OFC the reward is calculated\n",
      "OFC the reward is calculated\n",
      "OFC the reward is calculated\n",
      "OFC the reward is calculated\n",
      "OFC the reward is calculated\n",
      "OFC the reward is calculated\n",
      "OFC the reward is calculated\n",
      "OFC the reward is calculated\n",
      "OFC the reward is calculated\n",
      "OFC the reward is calculated\n",
      "OFC the reward is calculated\n",
      "OFC the reward is calculated\n",
      "OFC the reward is calculated\n",
      "OFC the reward is calculated\n",
      "OFC the reward is calculated\n",
      "OFC the reward is calculated\n"
     ]
    },
    {
     "name": "stderr",
     "output_type": "stream",
     "text": [
      "example_01b_base 2019-01-27 13:00:00:  86%|████████▌ | 2296801/2678400 [00:21<00:04, 94559.14it/s] "
     ]
    },
    {
     "name": "stdout",
     "output_type": "stream",
     "text": [
      "OFC the reward is calculated\n",
      "OFC the reward is calculated\n",
      "OFC the reward is calculated\n",
      "OFC the reward is calculated\n",
      "OFC the reward is calculated\n",
      "OFC the reward is calculated\n",
      "OFC the reward is calculated\n",
      "OFC the reward is calculated\n",
      "OFC the reward is calculated\n",
      "OFC the reward is calculated\n",
      "OFC the reward is calculated\n",
      "OFC the reward is calculated\n",
      "OFC the reward is calculated\n",
      "OFC the reward is calculated\n",
      "OFC the reward is calculated\n",
      "OFC the reward is calculated\n",
      "OFC the reward is calculated\n",
      "OFC the reward is calculated\n",
      "OFC the reward is calculated\n",
      "OFC the reward is calculated\n",
      "OFC the reward is calculated\n"
     ]
    },
    {
     "name": "stderr",
     "output_type": "stream",
     "text": [
      "example_01b_base 2019-01-27 20:00:00:  87%|████████▋ | 2322001/2678400 [00:21<00:03, 97492.92it/s]"
     ]
    },
    {
     "name": "stdout",
     "output_type": "stream",
     "text": [
      "OFC the reward is calculated\n",
      "OFC the reward is calculated\n",
      "OFC the reward is calculated\n",
      "OFC the reward is calculated\n",
      "OFC the reward is calculated\n",
      "OFC the reward is calculated\n",
      "OFC the reward is calculated\n",
      "OFC the reward is calculated\n",
      "OFC the reward is calculated\n",
      "OFC the reward is calculated\n",
      "OFC the reward is calculated\n",
      "OFC the reward is calculated\n",
      "OFC the reward is calculated\n",
      "OFC the reward is calculated\n",
      "OFC the reward is calculated\n",
      "OFC the reward is calculated\n",
      "OFC the reward is calculated\n",
      "OFC the reward is calculated\n",
      "OFC the reward is calculated\n",
      "OFC the reward is calculated\n",
      "OFC the reward is calculated\n",
      "OFC the reward is calculated\n",
      "OFC the reward is calculated\n",
      "OFC the reward is calculated\n",
      "OFC the reward is calculated\n",
      "OFC the reward is calculated\n",
      "OFC the reward is calculated\n",
      "OFC the reward is calculated\n",
      "OFC the reward is calculated\n",
      "OFC the reward is calculated\n",
      "OFC the reward is calculated\n",
      "OFC the reward is calculated\n",
      "OFC the reward is calculated\n",
      "OFC the reward is calculated\n",
      "OFC the reward is calculated\n"
     ]
    },
    {
     "name": "stderr",
     "output_type": "stream",
     "text": [
      "example_01b_base 2019-01-28 05:00:00:  88%|████████▊ | 2354401/2678400 [00:21<00:02, 112828.52it/s]"
     ]
    },
    {
     "name": "stdout",
     "output_type": "stream",
     "text": [
      "OFC the reward is calculated\n",
      "OFC the reward is calculated\n",
      "OFC the reward is calculated\n",
      "OFC the reward is calculated\n",
      "OFC the reward is calculated\n",
      "OFC the reward is calculated\n",
      "OFC the reward is calculated\n",
      "OFC the reward is calculated\n",
      "OFC the reward is calculated\n",
      "OFC the reward is calculated\n",
      "OFC the reward is calculated\n",
      "OFC the reward is calculated\n",
      "OFC the reward is calculated\n",
      "OFC the reward is calculated\n",
      "OFC the reward is calculated\n",
      "OFC the reward is calculated\n",
      "OFC the reward is calculated\n",
      "OFC the reward is calculated\n",
      "OFC the reward is calculated\n",
      "OFC the reward is calculated\n",
      "OFC the reward is calculated\n",
      "OFC the reward is calculated\n",
      "OFC the reward is calculated\n",
      "OFC the reward is calculated\n",
      "OFC the reward is calculated\n",
      "OFC the reward is calculated\n",
      "OFC the reward is calculated\n",
      "OFC the reward is calculated\n",
      "OFC the reward is calculated\n",
      "OFC the reward is calculated\n",
      "OFC the reward is calculated\n",
      "OFC the reward is calculated\n"
     ]
    },
    {
     "name": "stderr",
     "output_type": "stream",
     "text": [
      "example_01b_base 2019-01-28 14:00:00:  89%|████████▉ | 2386801/2678400 [00:22<00:02, 124977.60it/s]"
     ]
    },
    {
     "name": "stdout",
     "output_type": "stream",
     "text": [
      "OFC the reward is calculated\n",
      "OFC the reward is calculated\n",
      "OFC the reward is calculated\n",
      "OFC the reward is calculated\n",
      "OFC the reward is calculated\n",
      "OFC the reward is calculated\n",
      "OFC the reward is calculated\n",
      "OFC the reward is calculated\n",
      "OFC the reward is calculated\n",
      "OFC the reward is calculated\n",
      "OFC the reward is calculated\n",
      "OFC the reward is calculated\n",
      "OFC the reward is calculated\n",
      "OFC the reward is calculated\n",
      "OFC the reward is calculated\n",
      "OFC the reward is calculated\n",
      "OFC the reward is calculated\n",
      "OFC the reward is calculated\n",
      "OFC the reward is calculated\n",
      "OFC the reward is calculated\n",
      "OFC the reward is calculated\n",
      "OFC the reward is calculated\n",
      "OFC the reward is calculated\n",
      "OFC the reward is calculated\n",
      "OFC the reward is calculated\n",
      "OFC the reward is calculated\n",
      "OFC the reward is calculated\n",
      "OFC the reward is calculated\n",
      "OFC the reward is calculated\n",
      "OFC the reward is calculated\n",
      "OFC the reward is calculated\n",
      "OFC the reward is calculated\n",
      "OFC the reward is calculated\n",
      "OFC the reward is calculated\n",
      "OFC the reward is calculated\n",
      "OFC the reward is calculated\n"
     ]
    },
    {
     "name": "stderr",
     "output_type": "stream",
     "text": [
      "example_01b_base 2019-01-28 22:00:00:  90%|█████████ | 2415601/2678400 [00:22<00:02, 127039.30it/s]"
     ]
    },
    {
     "name": "stdout",
     "output_type": "stream",
     "text": [
      "OFC the reward is calculated\n",
      "OFC the reward is calculated\n",
      "OFC the reward is calculated\n",
      "OFC the reward is calculated\n",
      "OFC the reward is calculated\n",
      "OFC the reward is calculated\n",
      "OFC the reward is calculated\n",
      "OFC the reward is calculated\n",
      "OFC the reward is calculated\n",
      "OFC the reward is calculated\n",
      "OFC the reward is calculated\n",
      "OFC the reward is calculated\n",
      "OFC the reward is calculated\n",
      "OFC the reward is calculated\n",
      "OFC the reward is calculated\n",
      "OFC the reward is calculated\n",
      "OFC the reward is calculated\n",
      "OFC the reward is calculated\n",
      "OFC the reward is calculated\n",
      "OFC the reward is calculated\n",
      "OFC the reward is calculated\n",
      "OFC the reward is calculated\n",
      "OFC the reward is calculated\n",
      "OFC the reward is calculated\n",
      "OFC the reward is calculated\n",
      "OFC the reward is calculated\n",
      "OFC the reward is calculated\n",
      "OFC the reward is calculated\n",
      "OFC the reward is calculated\n",
      "OFC the reward is calculated\n",
      "OFC the reward is calculated\n",
      "OFC the reward is calculated\n"
     ]
    },
    {
     "name": "stderr",
     "output_type": "stream",
     "text": [
      "example_01b_base 2019-01-29 03:00:00:  91%|█████████ | 2433601/2678400 [00:22<00:01, 133543.72it/s]"
     ]
    },
    {
     "name": "stdout",
     "output_type": "stream",
     "text": [
      "OFC the reward is calculated\n",
      "OFC the reward is calculated\n",
      "OFC the reward is calculated\n",
      "OFC the reward is calculated\n",
      "OFC the reward is calculated\n",
      "OFC the reward is calculated\n",
      "OFC the reward is calculated\n",
      "OFC the reward is calculated\n",
      "OFC the reward is calculated\n",
      "OFC the reward is calculated\n",
      "OFC the reward is calculated\n",
      "OFC the reward is calculated\n",
      "OFC the reward is calculated\n",
      "OFC the reward is calculated\n",
      "OFC the reward is calculated\n",
      "OFC the reward is calculated\n",
      "OFC the reward is calculated\n",
      "OFC the reward is calculated\n",
      "OFC the reward is calculated\n",
      "OFC the reward is calculated\n",
      "OFC the reward is calculated\n",
      "OFC the reward is calculated\n",
      "OFC the reward is calculated\n",
      "OFC the reward is calculated\n",
      "OFC the reward is calculated\n",
      "OFC the reward is calculated\n",
      "OFC the reward is calculated\n",
      "OFC the reward is calculated\n"
     ]
    },
    {
     "name": "stderr",
     "output_type": "stream",
     "text": [
      "example_01b_base 2019-01-29 11:00:00:  92%|█████████▏| 2462401/2678400 [00:22<00:01, 108855.58it/s]"
     ]
    },
    {
     "name": "stdout",
     "output_type": "stream",
     "text": [
      "OFC the reward is calculated\n",
      "OFC the reward is calculated\n",
      "OFC the reward is calculated\n",
      "OFC the reward is calculated\n",
      "OFC the reward is calculated\n",
      "OFC the reward is calculated\n",
      "OFC the reward is calculated\n",
      "OFC the reward is calculated\n",
      "OFC the reward is calculated\n",
      "OFC the reward is calculated\n",
      "OFC the reward is calculated\n",
      "OFC the reward is calculated\n",
      "OFC the reward is calculated\n",
      "OFC the reward is calculated\n",
      "OFC the reward is calculated\n",
      "OFC the reward is calculated\n",
      "OFC the reward is calculated\n",
      "OFC the reward is calculated\n",
      "OFC the reward is calculated\n",
      "OFC the reward is calculated\n"
     ]
    },
    {
     "name": "stderr",
     "output_type": "stream",
     "text": [
      "example_01b_base 2019-01-29 15:00:00:  92%|█████████▏| 2476801/2678400 [00:22<00:01, 104337.49it/s]"
     ]
    },
    {
     "name": "stdout",
     "output_type": "stream",
     "text": [
      "OFC the reward is calculated\n",
      "OFC the reward is calculated\n",
      "OFC the reward is calculated\n",
      "OFC the reward is calculated\n",
      "OFC the reward is calculated\n",
      "OFC the reward is calculated\n",
      "OFC the reward is calculated\n",
      "OFC the reward is calculated\n",
      "OFC the reward is calculated\n",
      "OFC the reward is calculated\n",
      "OFC the reward is calculated\n",
      "OFC the reward is calculated\n",
      "OFC the reward is calculated\n",
      "OFC the reward is calculated\n",
      "OFC the reward is calculated\n",
      "OFC the reward is calculated\n",
      "OFC the reward is calculated\n",
      "OFC the reward is calculated\n",
      "OFC the reward is calculated\n",
      "OFC the reward is calculated\n",
      "OFC the reward is calculated\n",
      "OFC the reward is calculated\n",
      "OFC the reward is calculated\n",
      "OFC the reward is calculated\n",
      "OFC the reward is calculated\n",
      "OFC the reward is calculated\n",
      "OFC the reward is calculated\n",
      "OFC the reward is calculated\n"
     ]
    },
    {
     "name": "stderr",
     "output_type": "stream",
     "text": [
      "example_01b_base 2019-01-30 00:00:00:  94%|█████████▎| 2509201/2678400 [00:23<00:01, 124048.13it/s]"
     ]
    },
    {
     "name": "stdout",
     "output_type": "stream",
     "text": [
      "OFC the reward is calculated\n",
      "OFC the reward is calculated\n",
      "OFC the reward is calculated\n",
      "OFC the reward is calculated\n",
      "OFC the reward is calculated\n",
      "OFC the reward is calculated\n",
      "OFC the reward is calculated\n",
      "OFC the reward is calculated\n",
      "OFC the reward is calculated\n",
      "OFC the reward is calculated\n",
      "OFC the reward is calculated\n",
      "OFC the reward is calculated\n",
      "OFC the reward is calculated\n",
      "OFC the reward is calculated\n",
      "OFC the reward is calculated\n",
      "OFC the reward is calculated\n",
      "OFC the reward is calculated\n",
      "OFC the reward is calculated\n",
      "OFC the reward is calculated\n",
      "OFC the reward is calculated\n",
      "OFC the reward is calculated\n",
      "OFC the reward is calculated\n",
      "OFC the reward is calculated\n",
      "OFC the reward is calculated\n",
      "OFC the reward is calculated\n",
      "OFC the reward is calculated\n",
      "OFC the reward is calculated\n",
      "OFC the reward is calculated\n",
      "OFC the reward is calculated\n",
      "OFC the reward is calculated\n",
      "OFC the reward is calculated\n",
      "OFC the reward is calculated\n",
      "OFC the reward is calculated\n",
      "OFC the reward is calculated\n",
      "OFC the reward is calculated\n",
      "OFC the reward is calculated\n"
     ]
    },
    {
     "name": "stderr",
     "output_type": "stream",
     "text": [
      "example_01b_base 2019-01-30 09:00:00:  95%|█████████▍| 2541601/2678400 [00:23<00:01, 125090.32it/s]"
     ]
    },
    {
     "name": "stdout",
     "output_type": "stream",
     "text": [
      "OFC the reward is calculated\n",
      "OFC the reward is calculated\n",
      "OFC the reward is calculated\n",
      "OFC the reward is calculated\n",
      "OFC the reward is calculated\n",
      "OFC the reward is calculated\n",
      "OFC the reward is calculated\n",
      "OFC the reward is calculated\n",
      "OFC the reward is calculated\n",
      "OFC the reward is calculated\n",
      "OFC the reward is calculated\n",
      "OFC the reward is calculated\n",
      "OFC the reward is calculated\n",
      "OFC the reward is calculated\n",
      "OFC the reward is calculated\n",
      "OFC the reward is calculated\n",
      "OFC the reward is calculated\n",
      "OFC the reward is calculated\n",
      "OFC the reward is calculated\n",
      "OFC the reward is calculated\n",
      "OFC the reward is calculated\n",
      "OFC the reward is calculated\n",
      "OFC the reward is calculated\n",
      "OFC the reward is calculated\n",
      "OFC the reward is calculated\n",
      "OFC the reward is calculated\n",
      "OFC the reward is calculated\n",
      "OFC the reward is calculated\n"
     ]
    },
    {
     "name": "stderr",
     "output_type": "stream",
     "text": [
      "example_01b_base 2019-01-30 17:00:00:  96%|█████████▌| 2570401/2678400 [00:23<00:00, 125947.61it/s]"
     ]
    },
    {
     "name": "stdout",
     "output_type": "stream",
     "text": [
      "OFC the reward is calculated\n",
      "OFC the reward is calculated\n",
      "OFC the reward is calculated\n",
      "OFC the reward is calculated\n",
      "OFC the reward is calculated\n",
      "OFC the reward is calculated\n",
      "OFC the reward is calculated\n",
      "OFC the reward is calculated\n",
      "OFC the reward is calculated\n",
      "OFC the reward is calculated\n",
      "OFC the reward is calculated\n",
      "OFC the reward is calculated\n",
      "OFC the reward is calculated\n",
      "OFC the reward is calculated\n",
      "OFC the reward is calculated\n",
      "OFC the reward is calculated\n",
      "OFC the reward is calculated\n",
      "OFC the reward is calculated\n",
      "OFC the reward is calculated\n",
      "OFC the reward is calculated\n",
      "OFC the reward is calculated\n",
      "OFC the reward is calculated\n",
      "OFC the reward is calculated\n",
      "OFC the reward is calculated\n",
      "OFC the reward is calculated\n",
      "OFC the reward is calculated\n",
      "OFC the reward is calculated\n",
      "OFC the reward is calculated\n",
      "OFC the reward is calculated\n",
      "OFC the reward is calculated\n",
      "OFC the reward is calculated\n",
      "OFC the reward is calculated\n"
     ]
    },
    {
     "name": "stderr",
     "output_type": "stream",
     "text": [
      "example_01b_base 2019-01-31 02:00:00:  97%|█████████▋| 2602801/2678400 [00:23<00:00, 131396.32it/s]"
     ]
    },
    {
     "name": "stdout",
     "output_type": "stream",
     "text": [
      "OFC the reward is calculated\n",
      "OFC the reward is calculated\n",
      "OFC the reward is calculated\n",
      "OFC the reward is calculated\n",
      "OFC the reward is calculated\n",
      "OFC the reward is calculated\n",
      "OFC the reward is calculated\n",
      "OFC the reward is calculated\n",
      "OFC the reward is calculated\n",
      "OFC the reward is calculated\n",
      "OFC the reward is calculated\n",
      "OFC the reward is calculated\n",
      "OFC the reward is calculated\n",
      "OFC the reward is calculated\n",
      "OFC the reward is calculated\n",
      "OFC the reward is calculated\n",
      "OFC the reward is calculated\n",
      "OFC the reward is calculated\n",
      "OFC the reward is calculated\n",
      "OFC the reward is calculated\n",
      "OFC the reward is calculated\n",
      "OFC the reward is calculated\n",
      "OFC the reward is calculated\n",
      "OFC the reward is calculated\n",
      "OFC the reward is calculated\n",
      "OFC the reward is calculated\n",
      "OFC the reward is calculated\n",
      "OFC the reward is calculated\n",
      "OFC the reward is calculated\n",
      "OFC the reward is calculated\n",
      "OFC the reward is calculated\n",
      "OFC the reward is calculated\n",
      "OFC the reward is calculated\n",
      "OFC the reward is calculated\n",
      "OFC the reward is calculated\n",
      "OFC the reward is calculated\n",
      "OFC the reward is calculated\n",
      "OFC the reward is calculated\n",
      "OFC the reward is calculated\n",
      "OFC the reward is calculated\n"
     ]
    },
    {
     "name": "stderr",
     "output_type": "stream",
     "text": [
      "example_01b_base 2019-01-31 11:00:00:  98%|█████████▊| 2635201/2678400 [00:24<00:00, 135411.51it/s]"
     ]
    },
    {
     "name": "stdout",
     "output_type": "stream",
     "text": [
      "OFC the reward is calculated\n",
      "OFC the reward is calculated\n",
      "OFC the reward is calculated\n",
      "OFC the reward is calculated\n",
      "OFC the reward is calculated\n",
      "OFC the reward is calculated\n",
      "OFC the reward is calculated\n",
      "OFC the reward is calculated\n",
      "OFC the reward is calculated\n",
      "OFC the reward is calculated\n",
      "OFC the reward is calculated\n",
      "OFC the reward is calculated\n",
      "OFC the reward is calculated\n",
      "OFC the reward is calculated\n",
      "OFC the reward is calculated\n",
      "OFC the reward is calculated\n",
      "OFC the reward is calculated\n",
      "OFC the reward is calculated\n",
      "OFC the reward is calculated\n",
      "OFC the reward is calculated\n",
      "OFC the reward is calculated\n",
      "OFC the reward is calculated\n",
      "OFC the reward is calculated\n",
      "OFC the reward is calculated\n",
      "OFC the reward is calculated\n",
      "OFC the reward is calculated\n",
      "OFC the reward is calculated\n",
      "OFC the reward is calculated\n",
      "OFC the reward is calculated\n",
      "OFC the reward is calculated\n",
      "OFC the reward is calculated\n",
      "OFC the reward is calculated\n",
      "OFC the reward is calculated\n",
      "OFC the reward is calculated\n",
      "OFC the reward is calculated\n",
      "OFC the reward is calculated\n"
     ]
    },
    {
     "name": "stderr",
     "output_type": "stream",
     "text": [
      "example_01b_base 2019-01-31 20:00:00: 100%|█████████▉| 2667601/2678400 [00:24<00:00, 133958.54it/s]"
     ]
    },
    {
     "name": "stdout",
     "output_type": "stream",
     "text": [
      "OFC the reward is calculated\n",
      "OFC the reward is calculated\n",
      "OFC the reward is calculated\n",
      "OFC the reward is calculated\n",
      "OFC the reward is calculated\n",
      "OFC the reward is calculated\n",
      "OFC the reward is calculated\n",
      "OFC the reward is calculated\n",
      "OFC the reward is calculated\n",
      "OFC the reward is calculated\n",
      "OFC the reward is calculated\n",
      "OFC the reward is calculated\n",
      "OFC the reward is calculated\n",
      "OFC the reward is calculated\n",
      "OFC the reward is calculated\n",
      "OFC the reward is calculated\n",
      "OFC the reward is calculated\n",
      "OFC the reward is calculated\n",
      "OFC the reward is calculated\n",
      "OFC the reward is calculated\n",
      "OFC the reward is calculated\n",
      "OFC the reward is calculated\n",
      "OFC the reward is calculated\n",
      "OFC the reward is calculated\n",
      "OFC the reward is calculated\n",
      "OFC the reward is calculated\n",
      "OFC the reward is calculated\n",
      "OFC the reward is calculated\n",
      "OFC the reward is calculated\n",
      "OFC the reward is calculated\n",
      "OFC the reward is calculated\n",
      "OFC the reward is calculated\n"
     ]
    },
    {
     "name": "stderr",
     "output_type": "stream",
     "text": [
      "example_01b_base 2019-01-31 23:00:00: 100%|█████████▉| 2674801/2678400 [00:24<00:00, 109651.06it/s]\n"
     ]
    },
    {
     "data": {
      "image/png": "[encoded data removed]",
      "text/plain": [
       "<Figure size 2000x2000 with 4 Axes>"
      ]
     },
     "metadata": {},
     "output_type": "display_data"
    }
   ],
   "source": [
    "import os, sys\n",
    "sys.path.append(os.path.abspath(\"../../\"))\n",
    "from assume import World\n",
    "from assume.scenario.loader_csv import load_scenario_folder\n",
    "from assume.strategies.naive_strategies import NaiveSingleBidStrategy\n",
    "from assume.strategies.iterative_strategies import ErevRothStrategy\n",
    "import pandas as pd\n",
    "import matplotlib.pyplot as plt\n",
    "plt.style.use(\"ggplot\")\n",
    "%load_ext autoreload\n",
    "%autoreload 2\n",
    "\n",
    "world = World(export_csv_path=f\"outputs/12_market_power/erev_roth\")\n",
    "load_scenario_folder(\n",
    "        world,\n",
    "        inputs_path=inputs_path,\n",
    "        scenario=\"example_01b\",\n",
    "        study_case=False,\n",
    "    )\n",
    "\n",
    "for operator_id, units_operator in world.unit_operators.items():\n",
    "    for unit_id, unit in units_operator.units.items():\n",
    "        for market_id, market_strategy in unit.bidding_strategies.items():\n",
    "            if not (isinstance(market_strategy, NaiveSingleBidStrategy) \n",
    "                or unit_id.startswith(\"demand\")):\n",
    "                unit.bidding_strategies[market_id] = ErevRothStrategy(\n",
    "                    unit_id=unit_id,\n",
    "                    n_actions=10,\n",
    "                    experiment=0.001,\n",
    "                    forget=0.1,\n",
    "                    prior=\"normal\",\n",
    "                )\n",
    "world.run()\n",
    "\n",
    "\n",
    "strategic_bidders = ['Unit 2_1', 'Unit 1_1', 'Unit 3_1', 'Unit 4_1']\n",
    "fig, axes = plt.subplots(len(strategic_bidders), figsize=(20, 20), tight_layout=True)\n",
    "\n",
    "file = f\"outputs/12_market_power/erev_roth/example_01b_base/market_orders.csv\"\n",
    "orders = pd.read_csv(file)\n",
    "bid_price = orders.pivot_table(index=\"start_time\", values=\"price\", columns=\"bid_id\")\n",
    "for i, bidder in enumerate(strategic_bidders):\n",
    "    axes[i].set_title(bidder)\n",
    "    bid_price[bidder].plot(ax=axes[i])"
   ]
  },
  {
   "cell_type": "code",
   "execution_count": null,
   "id": "f19522fe",
   "metadata": {},
   "outputs": [
    {
     "data": {
      "image/png": "[encoded data removed]",
      "text/plain": [
       "<Figure size 2000x2000 with 5 Axes>"
      ]
     },
     "metadata": {},
     "output_type": "display_data"
    }
   ],
   "source": [
    "from pathlib import Path\n",
    "import pandas as pd\n",
    "import matplotlib.pyplot as plt\n",
    "plt.style.use(\"ggplot\")\n",
    "\n",
    "fig, axes = plt.subplots(5, figsize=(20, 20), tight_layout=True)\n",
    "test_hour = \"2019-01-01 12:00:00\"\n",
    "for i, markup in enumerate([0, 0.1, 0.5, 1, 10]):\n",
    "    file = f\"outputs/12_market_power/markup_{markup}/example_01b_base/market_orders.csv\"\n",
    "    orders = pd.read_csv(file)\n",
    "    # bid_price = orders.pivot_table(index=\"start_time\", values=\"price\", columns=\"bid_id\")\n",
    "    # bid_price.iloc[::, :-1].plot(ax=axes[i], legend=False if i !=0 else True)\n",
    "    axes[i].set_title(f\"Markup {markup}\")\n",
    "    bids = orders[orders.start_time == test_hour] \n",
    "    supply = bids[~bids.bid_id.str.startswith(\"demand\")].sort_values(by=\"price\")\n",
    "    supply[\"cum_volume\"] = supply[\"volume\"].cumsum()\n",
    "    demand = bids[bids.bid_id.str.startswith(\"demand\")]\n",
    "    axes[i].step(supply.cum_volume, supply.price)\n",
    "    axes[i].axvline(-demand.volume.iloc[0])\n"
   ]
  }
 ],
 "metadata": {
  "kernelspec": {
   "display_name": ".venv",
   "language": "python",
   "name": "python3"
  },
  "language_info": {
   "codemirror_mode": {
    "name": "ipython",
    "version": 3
   },
   "file_extension": ".py",
   "mimetype": "text/x-python",
   "name": "python",
   "nbconvert_exporter": "python",
   "pygments_lexer": "ipython3",
   "version": "3.12.4"
  }
 },
 "nbformat": 4,
 "nbformat_minor": 5
}
