{
 "cells": [
  {
   "cell_type": "markdown",
   "metadata": {},
   "source": [
    "# Implementation of Demand Side Unit in ASSUME Framework\n",
    "\n",
    "This example serves as a comprehensive guide for users interested in understanding the intricacies of implementing and integrating a Demand Side Agent in the ASSUME framework. The primary aim of this session is to demystify the complex procedures involved in agent creation and market configuration, and simulation setup within the ASSUME environment. The tutorial aims to equip pyou with the skillset required to independently develop and deploy a Demand Side Agent furnished with a Rule-Based Bidding Strategy in the ASSUME framework.\n",
    "\n",
    "**The example will delve into the following key areas:**\n",
    "\n",
    "1. Introduction to Unit Agents and Bidding Strategy: Establishing the fundamental principles and nomenclature, for coding exercises.\n",
    "2. Defining essential functions and attributes\n",
    "3. Developing a Rule-Based Bidding Strategy\n",
    "4. Integrating the new unit and bidding strategies in the model"
   ]
  },
  {
   "cell_type": "markdown",
   "metadata": {},
   "source": [
    "# 1. Essential Concepts and Terminology in Electricity Market Modeling\n",
    "\n",
    "ASSUME is a tool designed for researchers, planners, utilities, and anyone interested in understanding how energy markets work. It's like a user-friendly toolbox, available for free, that you can customize to fit your specific needs.\n",
    "\n",
    "In the following figure the architecture of the framework is depicted. It can be roughly devided into two parts. On the left side, we have the market elements, and on the right side, we have the market participants, which we'll call 'units' here. These two parts are connected because the market participants make orders in the markets. Now, there's something special on the right side, shown in yellow. That's where we talk about the framework's ability to learn and adapt. But before we dive into all the technical details of ASSUME, let's first get familiar with some important terms and concepts that are the building blocks of electricity market modeling."
   ]
  },
  {
   "cell_type": "markdown",
   "metadata": {},
   "source": [
    "![Model Architecture](assume\\docs\\source\\img\\architecture.svg)"
   ]
  },
  {
   "cell_type": "markdown",
   "metadata": {},
   "source": [
    "## 1.1 Unit- The Market Actor\n",
    "\n",
    "In the ASSUME framework, a \"Unit\" represents an individual market actor responsible for buying or selling electricity. This actor operates according to the rules defined in its bidding strategy, effectively interacting with the market to meet specific objectives, such as demand-side management or optimal energy procurement."
   ]
  },
  {
   "cell_type": "markdown",
   "metadata": {},
   "source": [
    "## 1.2 Attributes of a Unit in ASSUME\n",
    "\n",
    "Units within the ASSUME framework come with a set of attributes that define their operational behavior and interaction mechanisms within the market. Notably:\n",
    "\n",
    "**Unit Operator**: This component acts as the operational hub for the Unit, responsible for ensuring that the bidding strategy is executed effectively in real-time market conditions."
   ]
  },
  {
   "cell_type": "markdown",
   "metadata": {},
   "source": [
    "This tutorial will particularly focus on configuring Demand Side Management (DSM) Units. DSM Units have the ability to dynamically adjust their electricity demand in response to market signals, adding a level of flexibility and strategic depth to their market participation."
   ]
  },
  {
   "cell_type": "markdown",
   "metadata": {},
   "source": [
    "# 2 Getting ASSUME Up and Running\n",
    "\n",
    "Before diving into agent implementation and market modeling, it's essential to set up the ASSUME framework on your computational environment. In this tutorial, we will guide you through the installation of the ASSUME core package using Python's package installer, pip.\n",
    "\n",
    "For comprehensive installation instructions, you can consult the official [ASSUME documentation](https://assume.readthedocs.io/en/latest/installation.html). However, this tutorial aims to cover all the necessary steps for a seamless setup, particularly tailored for a Google Colab environment."
   ]
  },
  {
   "cell_type": "markdown",
   "metadata": {},
   "source": [
    "**Installing ASSUME Core Package**\n",
    "\n",
    "Given that Google Colab already provides an isolated environment, there's no need to create a virtual environment (`venv`). Therefore, the installation simplifies to running the following pip command:"
   ]
  },
  {
   "cell_type": "code",
   "execution_count": 1,
   "metadata": {
    "vscode": {
     "languageId": "shellscript"
    }
   },
   "outputs": [
    {
     "name": "stdout",
     "output_type": "stream",
     "text": [
      "Requirement already satisfied: assume-framework in c:\\users\\khm\\anaconda3\\envs\\assume\\lib\\site-packages (0.1.0)\n",
      "Requirement already satisfied: mango-agents<2.0.0,>=1.1.1 in c:\\users\\khm\\anaconda3\\envs\\assume\\lib\\site-packages (from assume-framework) (1.1.2)\n",
      "Requirement already satisfied: mypy<2.0.0,>=1.1.1 in c:\\users\\khm\\anaconda3\\envs\\assume\\lib\\site-packages (from assume-framework) (1.7.1)\n",
      "Requirement already satisfied: nest-asyncio<2.0.0,>=1.5.6 in c:\\users\\khm\\anaconda3\\envs\\assume\\lib\\site-packages (from assume-framework) (1.5.8)\n",
      "Requirement already satisfied: paho-mqtt<2.0.0,>=1.5.1 in c:\\users\\khm\\anaconda3\\envs\\assume\\lib\\site-packages (from assume-framework) (1.5.1)\n",
      "Requirement already satisfied: pandas<3.0.0,>=2.0.0 in c:\\users\\khm\\anaconda3\\envs\\assume\\lib\\site-packages (from assume-framework) (2.1.4)\n",
      "Requirement already satisfied: psycopg2-binary<3.0.0,>=2.9.5 in c:\\users\\khm\\anaconda3\\envs\\assume\\lib\\site-packages (from assume-framework) (2.9.9)\n",
      "Requirement already satisfied: python-dateutil<3.0.0,>=2.8.2 in c:\\users\\khm\\anaconda3\\envs\\assume\\lib\\site-packages (from assume-framework) (2.8.2)\n",
      "Requirement already satisfied: pyyaml<7.0,>=6.0 in c:\\users\\khm\\anaconda3\\envs\\assume\\lib\\site-packages (from assume-framework) (6.0.1)\n",
      "Requirement already satisfied: sqlalchemy<3.0.0,>=2.0.9 in c:\\users\\khm\\anaconda3\\envs\\assume\\lib\\site-packages (from assume-framework) (2.0.23)\n",
      "Requirement already satisfied: tqdm<5.0.0,>=4.64.1 in c:\\users\\khm\\anaconda3\\envs\\assume\\lib\\site-packages (from assume-framework) (4.66.1)\n",
      "Requirement already satisfied: dill>=0.3.6 in c:\\users\\khm\\anaconda3\\envs\\assume\\lib\\site-packages (from mango-agents<2.0.0,>=1.1.1->assume-framework) (0.3.7)\n",
      "Requirement already satisfied: msgspec>=0.14.2 in c:\\users\\khm\\anaconda3\\envs\\assume\\lib\\site-packages (from mango-agents<2.0.0,>=1.1.1->assume-framework) (0.18.4)\n",
      "Requirement already satisfied: protobuf>=3.20.3 in c:\\users\\khm\\anaconda3\\envs\\assume\\lib\\site-packages (from mango-agents<2.0.0,>=1.1.1->assume-framework) (4.25.1)\n",
      "Requirement already satisfied: typing-extensions>=4.1.0 in c:\\users\\khm\\anaconda3\\envs\\assume\\lib\\site-packages (from mypy<2.0.0,>=1.1.1->assume-framework) (4.9.0)\n",
      "Requirement already satisfied: mypy-extensions>=1.0.0 in c:\\users\\khm\\anaconda3\\envs\\assume\\lib\\site-packages (from mypy<2.0.0,>=1.1.1->assume-framework) (1.0.0)\n",
      "Requirement already satisfied: numpy<2,>=1.26.0 in c:\\users\\khm\\anaconda3\\envs\\assume\\lib\\site-packages (from pandas<3.0.0,>=2.0.0->assume-framework) (1.26.2)\n",
      "Requirement already satisfied: pytz>=2020.1 in c:\\users\\khm\\anaconda3\\envs\\assume\\lib\\site-packages (from pandas<3.0.0,>=2.0.0->assume-framework) (2023.3.post1)\n",
      "Requirement already satisfied: tzdata>=2022.1 in c:\\users\\khm\\anaconda3\\envs\\assume\\lib\\site-packages (from pandas<3.0.0,>=2.0.0->assume-framework) (2023.3)\n",
      "Requirement already satisfied: six>=1.5 in c:\\users\\khm\\anaconda3\\envs\\assume\\lib\\site-packages (from python-dateutil<3.0.0,>=2.8.2->assume-framework) (1.16.0)\n",
      "Requirement already satisfied: greenlet!=0.4.17 in c:\\users\\khm\\anaconda3\\envs\\assume\\lib\\site-packages (from sqlalchemy<3.0.0,>=2.0.9->assume-framework) (3.0.2)\n",
      "Requirement already satisfied: colorama in c:\\users\\khm\\anaconda3\\envs\\assume\\lib\\site-packages (from tqdm<5.0.0,>=4.64.1->assume-framework) (0.4.6)\n",
      "Note: you may need to restart the kernel to use updated packages.\n"
     ]
    }
   ],
   "source": [
    "pip install assume-framework"
   ]
  },
  {
   "cell_type": "markdown",
   "metadata": {},
   "source": [
    "And easy like this we have ASSUME installed. Now we can let it run.\n",
    "\n",
    "Further we would like to access the predefined scenarios in ASSUME which are stored on the git repository. Hence, we clone the repository."
   ]
  },
  {
   "cell_type": "markdown",
   "metadata": {},
   "source": [
    "**Post-Installation Steps and Limitations**\n",
    "\n",
    "Congratulations! You've successfully installed the ASSUME core package. With this, you are now ready to explore the functionalities that ASSUME offers for electricity market modeling. However, there are a couple of important points to note:\n",
    "\n",
    "**Docker Functionalities and Colab Limitations**\n",
    "\n",
    "While the core functionalities of ASSUME are now at your disposal, please be aware that Google Colab does not support functionalities that are dependent on Docker. This means that you won't be able to access predefined dashboards in this environment. To utilize these features, it's recommended to install Docker alongside ASSUME on your local machine.\n",
    "\n",
    "**Accessing Predefined Scenarios from Git Repository**\n",
    "\n",
    "ASSUME comes with a variety of predefined scenarios for electricity market modeling, and these are hosted on its Git repository. To access these, you can clone the repository by executing the following command:"
   ]
  },
  {
   "cell_type": "code",
   "execution_count": 2,
   "metadata": {
    "vscode": {
     "languageId": "shellscript"
    }
   },
   "outputs": [
    {
     "name": "stderr",
     "output_type": "stream",
     "text": [
      "fatal: destination path 'assume' already exists and is not an empty directory.\n"
     ]
    }
   ],
   "source": [
    "!git clone https://github.com/assume-framework/assume.git"
   ]
  },
  {
   "cell_type": "markdown",
   "metadata": {},
   "source": [
    "Let the magic happen. Now you can run your first ever simulation in ASSUME. The following code naviagtes to the respective assume folder and starts the simulation example example_01b using the local database here in colab."
   ]
  },
  {
   "cell_type": "markdown",
   "metadata": {},
   "source": [
    "# 3. Develop a new Demand Side Unit\n",
    "\n",
    "Now that you have ASSUME up and running, let's dive into the implementation of a new Unit Agent. Here, we'll be focusing on an Electrolyser unit, which has a potential of Demand Side Management (DSM) applications.\n",
    "\n",
    "**Understanding Demand Side Management (DSM)**\n",
    "\n",
    "Before we start coding, it's essential to understand what DSM is and why it's important in electricity market modeling. DSM allows for the dynamic adjustment of electricity demand, contributing to balanced grid operations.\n",
    "\n",
    "**Overview of this Coding Session**\n",
    "\n",
    "Here's a quick rundown of what we'll be covering in today's coding session:\n",
    "\n",
    "1. **Initializing Core Attributes**: Setting up the basic parameters for the Electrolyser unit.\n",
    "2. **Power Calculation Function**: Implementing a function to determine power input based on attributes like maximum capacity and demand profile.\n",
    "3. **Developing advanced attributes**: Writing code to calculate the Electrolyser's efficiency based on its current power input."
   ]
  },
  {
   "cell_type": "markdown",
   "metadata": {},
   "source": [
    "**Understanding the Model**\n",
    "\n",
    "The image below illustrates the concept of a simple Electrolyser unit model: "
   ]
  },
  {
   "cell_type": "markdown",
   "metadata": {},
   "source": [
    "![Capture.PNG](assume/docs/source//img/Electrolyser.PNG)"
   ]
  },
  {
   "cell_type": "markdown",
   "metadata": {},
   "source": [
    "\n",
    "The image provides a visual representation of how dynamic efficiency varies based on different factors:\n",
    "\n",
    "- **X-Axis**: Represents the varying power input to the Electrolyser unit.\n",
    "- **Y-Axis**: Indicates the efficiency levels that correspond to different power inputs.\n",
    "- **Curve**: Shows that the efficiency is not constant and varies depending on the current power input to the unit.\n",
    "\n",
    "**Significance of this model**\n",
    "\n",
    "Understanding this model is crucial for several reasons:\n",
    "\n",
    "- **Adaptability**: The curve suggests that the unit can operate at different efficiency levels, allowing it to adapt to market conditions.\n",
    "- **Optimization**: Knowing the efficiency levels at various power inputs allows the unit to operate at an optimal point, which is especially crucial in Demand Side Management (DSM) strategies.\n",
    "- **Complexity**: The non-linear nature of the curve indicates that simple linear models may not be sufficient for capturing the unit's behavior, highlighting the need for a more complex model.\n",
    "\n",
    "By understanding this model, you'll gain valuable insights into how to calculate and utilize dynamic efficiency in the Electrolyser unit, a crucial aspect of DSM in the ASSUME framework."
   ]
  },
  {
   "cell_type": "markdown",
   "metadata": {},
   "source": [
    "## 3.1 Initializing Core Attributes\n",
    "\n",
    "The first step in our coding journey involves initializing the Electrolyser unit's core attributes. These include its maximum and minimum power capacities, hydrogen production levels, and other operational parameters. Let's take a look at the code snippet below:"
   ]
  },
  {
   "cell_type": "code",
   "execution_count": 3,
   "metadata": {
    "vscode": {
     "languageId": "shellscript"
    }
   },
   "outputs": [
    {
     "name": "stdout",
     "output_type": "stream",
     "text": [
      "Requirement already satisfied: jdc in c:\\users\\khm\\anaconda3\\envs\\assume\\lib\\site-packages (0.0.9)\n"
     ]
    }
   ],
   "source": [
    "# install jdc for some in line magic,\n",
    "# that allows us defining functions of classes across different cells\n",
    "\n",
    "!pip install jdc"
   ]
  },
  {
   "cell_type": "code",
   "execution_count": 4,
   "metadata": {},
   "outputs": [],
   "source": [
    "# Import necessary modules\n",
    "from datetime import datetime\n",
    "import logging\n",
    "import os\n",
    "import pandas as pd\n",
    "from assume import World\n",
    "import jdc\n",
    "from assume.common.base import SupportsMinMax, BaseStrategy\n",
    "from assume.common.market_objects import MarketConfig, Order, Orderbook, Product\n",
    "\n",
    "# Your Python code for initializing core attributes here"
   ]
  },
  {
   "cell_type": "markdown",
   "metadata": {},
   "source": [
    "### 3.1.1 Initializing Core Attributes for a DSM Electrolyser Unit"
   ]
  },
  {
   "cell_type": "markdown",
   "metadata": {},
   "source": [
    "Core attributes are essential parameters that define the operational behavior of the Electrolyser unit. These include:\n",
    "\n",
    "- **ID**: A unique identifier for the unit.\n",
    "- **Technology**: The type of technology used, which in this case is electrolysis for hydrogen production.\n",
    "- **Unit Operator**: The entity responsible for operating the unit.\n",
    "- **Bidding Strategies**: The strategies used by the unit for bidding in the electricity market.\n",
    "- **Max Power and Min Power**: The maximum and minimum electrical power that the unit can handle.\n",
    "- **Max Hydrogen and Min Hydrogen**: The maximum and minimum hydrogen production levels.\n",
    "- **Fixed Cost**: The fixed operational cost for the unit."
   ]
  },
  {
   "cell_type": "markdown",
   "metadata": {},
   "source": [
    "**Why Are These Attributes Important?**\n",
    "\n",
    "Understanding these attributes is crucial for the following reasons:\n",
    "\n",
    "- They define the **range of actions** the Electrolyser unit can perform in the electricity market.\n",
    "- They are used to **calculate dynamic efficiency** and **power input**, as we'll see in the later sections.\n",
    "- They can be crucial for implementing **demand-side management strategies**, where the unit adjusts its operations based on market signals."
   ]
  },
  {
   "cell_type": "markdown",
   "metadata": {},
   "source": [
    "**Code Snippet for Initializing Core Attributes**\n",
    "\n",
    "Here's how you would go about initializing these attributes:"
   ]
  },
  {
   "cell_type": "code",
   "execution_count": 5,
   "metadata": {},
   "outputs": [],
   "source": [
    "# Initialize the Electrolyser class with core attributes\n",
    "\n",
    "class Electrolyser(SupportsMinMax):\n",
    "    def __init__(\n",
    "        self,\n",
    "        id: str,\n",
    "        technology: str,\n",
    "        index: pd.DatetimeIndex,\n",
    "        unit_operator: str,\n",
    "        bidding_strategies: str,\n",
    "        max_power: float,\n",
    "        min_power: float,\n",
    "        max_hydrogen: float,\n",
    "        min_hydrogen: float,\n",
    "        fixed_cost: float,\n",
    "        **kwargs,\n",
    "    ):\n",
    "        super().__init__(\n",
    "            id=id,\n",
    "            unit_operator=unit_operator,\n",
    "            technology=technology,\n",
    "            bidding_strategies=bidding_strategies,\n",
    "            index=index,\n",
    "            **kwargs,\n",
    "        )\n",
    "\n",
    "        self.min_hydrogen = min_hydrogen\n",
    "        self.max_hydrogen = max_hydrogen\n",
    "\n",
    "        self.max_power = max_power\n",
    "        self.min_power = min_power\n",
    "        self.ramp_up = ramp_up or max_power\n",
    "        self.ramp_down = ramp_down or max_power\n",
    "        self.fixed_cost = fixed_cost\n",
    "\n",
    "        self.conversion_factors = self.get_conversion_factors()"
   ]
  },
  {
   "cell_type": "code",
   "execution_count": 6,
   "metadata": {},
   "outputs": [
    {
     "name": "stderr",
     "output_type": "stream",
     "text": [
      "UsageError: Line magic function `%%add_to` not found.\n"
     ]
    }
   ],
   "source": [
    "\n",
    "# magic to enable class definitions across colab cells\n",
    "%%add_to Electrolyser\n",
    "\n",
    "def execute_current_dispatch(\n",
    "        self,\n",
    "        start: pd.Timestamp,\n",
    "        end: pd.Timestamp,\n",
    "    ):\n",
    "        end_excl = end - self.index.freq\n",
    "\n",
    "        # Calculate mean power for this time period\n",
    "        avg_power = abs(self.outputs[\"energy\"].loc[start:end_excl]).mean()\n",
    "\n",
    "        # Decide which efficiency point to use\n",
    "        if avg_power < self.min_power:\n",
    "            self.outputs[\"energy\"].loc[start:end_excl] = 0\n",
    "            self.outputs[\"hydrogen\"].loc[start:end_excl] = 0\n",
    "        else:\n",
    "            if avg_power <= 0.35 * self.max_power:\n",
    "                dynamic_conversion_factor = self.conversion_factors[0]\n",
    "            else:\n",
    "                dynamic_conversion_factor = self.conversion_factors[1]\n",
    "\n",
    "            self.outputs[\"energy\"].loc[start:end_excl] = avg_power\n",
    "            self.outputs[\"hydrogen\"].loc[start:end_excl] = (\n",
    "                avg_power / dynamic_conversion_factor\n",
    "            )\n",
    "\n",
    "        return self.outputs[\"energy\"].loc[start:end_excl]"
   ]
  },
  {
   "cell_type": "markdown",
   "metadata": {},
   "source": [
    "## 3.2 Power Calculation Function\n",
    "\n",
    "In this segment of the tutorial, we'll delve into the implementation of the power input function for the Electrolyser unit. This function calculates the amount of electrical power that should be supplied to the unit, taking into consideration several attributes like maximum capacity, demand profile, and dynamic efficiency.\n",
    "\n",
    "The power input function is an algorithm that determines how much electrical power should be supplied to the Electrolyser unit at any given time. This function is integral for:\n",
    "\n",
    "- **Optimizing Resource Utilization**: Ensuring that the Electrolyser operates within its optimal efficiency range.\n",
    "- **Demand-Side Management (DSM)**: Allowing the unit to adapt its power consumption in response to market signals and constraints, thereby contributing to grid stability.\n",
    "\n",
    "**Key Parameters Involved**\n",
    "\n",
    "Here are some of the key parameters that the power input function will consider:\n",
    "\n",
    "- **Maximum and Minimum Capacity**: The upper and lower bounds for power input to the Electrolyser.\n",
    "- **Demand Profile**: The expected hydrogen production rates, which influence the power requirements.\n",
    "- **Dynamic Efficiency**: The efficiency of converting power to hydrogen at different levels of power input, as discussed in the previous section.\n",
    "\n",
    "**Code Snippet for Implementing the Power Input Function**\n",
    "\n",
    "Now, let's take a look at the code snippet for implementing the power input function:"
   ]
  },
  {
   "cell_type": "code",
   "execution_count": 7,
   "metadata": {},
   "outputs": [
    {
     "name": "stderr",
     "output_type": "stream",
     "text": [
      "UsageError: Line magic function `%%add_to` not found.\n"
     ]
    }
   ],
   "source": [
    "# magic to enable class definitions across colab cells\n",
    "%%add_to Electrolyser\n",
    "\n",
    "def calculate_min_max_power(\n",
    "        self,\n",
    "        start: pd.Timestamp,\n",
    "        end: pd.Timestamp,\n",
    "        hydrogen_demand=0,\n",
    "    ):\n",
    "        # check if hydrogen_demand is within min and max hydrogen production\n",
    "        # and adjust accordingly\n",
    "        if hydrogen_demand < self.min_hydrogen:\n",
    "            hydrogen_production = self.min_hydrogen\n",
    "\n",
    "        elif hydrogen_demand > self.max_hydrogen:\n",
    "            hydrogen_production = self.max_hydrogen\n",
    "\n",
    "        else:\n",
    "            hydrogen_production = hydrogen_demand\n",
    "\n",
    "        # get dynamic conversion factor\n",
    "        dynamic_conversion_factor = self.get_dynamic_conversion_factor(\n",
    "            hydrogen_production\n",
    "        )\n",
    "        power = hydrogen_production * dynamic_conversion_factor\n",
    "\n",
    "        return power, hydrogen_production"
   ]
  },
  {
   "cell_type": "markdown",
   "metadata": {},
   "source": [
    "## 3.3 Developing Advanced Attributes\n",
    "\n",
    "In this section of the tutorial, we'll guide you through the process of calculating the dynamic efficiency of the Electrolyser unit. Dynamic efficiency is a key performance metric that varies based on the unit's current power input.\n",
    "\n",
    "### 3.3.1 What is Dynamic Efficiency?\n",
    "\n",
    "Dynamic efficiency refers to the Electrolyser unit's ability to convert electrical power into hydrogen gas at varying rates of efficiency, depending on its current power input. This attribute is crucial for the following reasons:\n",
    "\n",
    "- It allows the unit to **adapt to fluctuating market conditions**, optimizing its operation for price signals.\n",
    "- It provides a **quantitative measure for decision-making**, particularly in DSM where the unit may need to adjust its demand profile.\n",
    "\n",
    "### 3.3.2 Key Concepts for Dynamic Efficiency\n",
    "\n",
    "Before we dive into the code, it's important to understand some key terms:\n",
    "\n",
    "- **Average Power**: The mean power consumed during a specific time period.\n",
    "- **Conversion Factors**: These are factors used to convert the average power into hydrogen production, and they can vary based on the power level.\n",
    "\n",
    "**Code Snippet for Calculating Dynamic Efficiency**\n",
    "\n",
    "Now let's take a look at how to implement dynamic efficiency in code. Below is a code snippet that you can use as a starting point:"
   ]
  },
  {
   "cell_type": "code",
   "execution_count": 8,
   "metadata": {},
   "outputs": [
    {
     "name": "stderr",
     "output_type": "stream",
     "text": [
      "UsageError: Line magic function `%%add_to` not found.\n"
     ]
    }
   ],
   "source": [
    "# magic to enable class definitions across colab cells\n",
    "%%add_to Electrolyser\n",
    "\n",
    "def get_dynamic_conversion_factor(self, hydrogen_demand=None):\n",
    "        # Adjust efficiency based on power\n",
    "        if hydrogen_demand <= 0.35 * self.max_hydrogen:\n",
    "            return self.conversion_factors[0]\n",
    "        else:\n",
    "            return self.conversion_factors[1]\n",
    "\n",
    "def get_conversion_factors(self):\n",
    "    # Calculate the conversion factor for the two efficiency points\n",
    "    conversion_point_1 = (0.3 * self.max_power) / (\n",
    "        0.35 * self.max_hydrogen\n",
    "    )  # MWh / Tonne\n",
    "    conversion_point_2 = self.max_power / self.max_hydrogen  # MWh / Tonne\n",
    "\n",
    "    return [conversion_point_1, conversion_point_2]"
   ]
  },
  {
   "cell_type": "code",
   "execution_count": 9,
   "metadata": {},
   "outputs": [
    {
     "name": "stderr",
     "output_type": "stream",
     "text": [
      "UsageError: Line magic function `%%add_to` not found.\n"
     ]
    }
   ],
   "source": [
    "# magic to enable class definitions across colab cells\n",
    "%%add_to Electrolyser\n",
    "\n",
    "def as_dict(self) -> dict:\n",
    "        unit_dict = super().as_dict()\n",
    "        unit_dict.update(\n",
    "            {\n",
    "                \"max_power\": self.max_power,\n",
    "                \"min_power\": self.min_power,\n",
    "                \"min_hydrogen\": self.min_hydrogen,\n",
    "                \"max_hydrogen\": self.max_hydrogen,\n",
    "                \"unit_type\": \"electrolyzer\",\n",
    "            }\n",
    "        )\n",
    "        return unit_dict"
   ]
  },
  {
   "cell_type": "markdown",
   "metadata": {},
   "source": [
    "# 4. Rule-Based Bidding Strategies"
   ]
  },
  {
   "cell_type": "markdown",
   "metadata": {},
   "source": [
    "In this part of the tutorial, we formulate a rule-based bidding strategy for the Electrolyser unit. Rule-based strategies guide the unit's market participation by following a predefined set of rules and guidelines, enabling it to make market offers autonomously.\n",
    "\n",
    "A rule-based bidding strategy is a set of algorithmic guidelines that dictate how a unit should participate in the electricity market. This is particularly important for:\n",
    "\n",
    "- **Automated Decision-making**: Allows the unit to make bids autonomously, reducing the need for human intervention.\n",
    "- **Market Adaptability**: Enables the unit to adjust its bidding behavior in response to dynamic market conditions."
   ]
  },
  {
   "cell_type": "markdown",
   "metadata": {},
   "source": [
    "**Key components of a Rule-Based Bidding Strategy**"
   ]
  },
  {
   "cell_type": "markdown",
   "metadata": {},
   "source": [
    "To establish a rule-based bidding strategy, we need to consider several key components:\n",
    "\n",
    "1. **Product Type**: This sets the stage for the kind of products (e.g., energy, ancillary services) that the unit will bid for in the electricity market.\n",
    "2. **Bid Volume**: The quantity of the product that the unit offers in its bid.\n",
    "3. **Marginal Revenue**: Used to determine the price at which the unit should make its bid. This involves calculating the unit's incremental revenue for additional units of electricity sold or consumed."
   ]
  },
  {
   "cell_type": "markdown",
   "metadata": {},
   "source": [
    "## 4.1 Defining NaiveStrategyElectrolyser Class"
   ]
  },
  {
   "cell_type": "markdown",
   "metadata": {},
   "source": [
    "The `NaiveStrategyElectrolyser` class inherits from the `BaseStrategy` class and implements the `calculate_bids` method, which is responsible for formulating the market bids.\n",
    "\n",
    "**Key Methods and Parameters**\n",
    "\n",
    "- `calculate_bids`: This method takes several arguments, including the unit to be dispatched (`unit`), the market configuration (`market_config`), and a list of products (`product_tuples`). It returns an `Orderbook` containing the bids.\n",
    "\n",
    "Here is the code:"
   ]
  },
  {
   "cell_type": "code",
   "execution_count": 10,
   "metadata": {},
   "outputs": [],
   "source": [
    "class NaiveStrategyElectrolyser(BaseStrategy):\n",
    "    \"\"\"\n",
    "    A naive strategy that bids the marginal cost of the electrolyser on the market.\n",
    "    \"\"\"\n",
    "\n",
    "    def calculate_bids(\n",
    "        self,\n",
    "        unit: SupportsMinMax,\n",
    "        market_config: MarketConfig,\n",
    "        product_tuples: list[Product],\n",
    "        **kwargs,\n",
    "    ) -> Orderbook:\n",
    "        \"\"\"\n",
    "        Takes information from a unit that the unit operator manages and\n",
    "        defines how it is dispatched to the market\n",
    "\n",
    "        :param unit: the unit to be dispatched\n",
    "        :type unit: SupportsMinMax\n",
    "        :param market_config: the market configuration\n",
    "        :type market_config: MarketConfig\n",
    "        :param product_tuples: list of all products the unit can offer\n",
    "        :type product_tuples: list[Product]\n",
    "        :return: the bids\n",
    "        :rtype: Orderbook\n",
    "        \"\"\"\n",
    "        start = product_tuples[0][0]  # start time of the first product\n",
    "        bids = []"
   ]
  },
  {
   "cell_type": "markdown",
   "metadata": {},
   "source": [
    "### 4.1.1 Calculating Marginal Revenue\n",
    "\n",
    "Understanding the mathematical equation for calculating marginal revenue is crucial for grasping the economics of the bidding strategy. The formula used in the code is as follows:"
   ]
  },
  {
   "cell_type": "markdown",
   "metadata": {},
   "source": [
    "$$\\text{Marginal Revenue} = \\left( \\text{Hydrogen Price} - \\text{Fixed Cost} \\right) \\times \\frac{\\text{Hydrogen Production}}{\\text{Power}}$$"
   ]
  },
  {
   "cell_type": "markdown",
   "metadata": {},
   "source": [
    "\n",
    "- **Hydrogen Price**: The price of hydrogen at the specific time frame, fetched from the unit's forecaster.\n",
    "- **Fixed Cost**: The constant cost associated with the unit, not varying with the amount of power or hydrogen produced.\n",
    "- **Hydrogen Production**: The amount of hydrogen produced during the given time frame, calculated based on the hydrogen demand.\n",
    "- **Power**: The electrical power consumed by the Electrolyser unit to produce the given amount of hydrogen.\n",
    "\n",
    "This mathematical equation provides just a mere example for understanding and implementing an effective rule-based bidding strategy for the Electrolyser unit within the ASSUME framework"
   ]
  },
  {
   "cell_type": "markdown",
   "metadata": {},
   "source": [
    "**Calculating Bids for each Product**\n",
    "\n",
    "In this section, we delve into the core of the bidding process, dissecting the loop that iterates over each product to calculate the bids. This loop serves as the crux of our rule-based bidding strategy.\n",
    "\n",
    "The code starts by initializing an empty list, `bids`, and then proceeds to loop over each `product` in `product_tuples`."
   ]
  },
  {
   "cell_type": "markdown",
   "metadata": {},
   "source": [
    "Key Steps Inside the Loop\n",
    "\n",
    "**1. Fetch Start and End Times:** For each product, the loop fetches the start and end times."
   ]
  },
  {
   "cell_type": "code",
   "execution_count": 11,
   "metadata": {},
   "outputs": [
    {
     "name": "stderr",
     "output_type": "stream",
     "text": [
      "UsageError: Line magic function `%%add_to` not found.\n"
     ]
    }
   ],
   "source": [
    "# magic to enable class definitions across colab cells\n",
    "%%add_to NaiveStrategyElectrolyser\n",
    "\n",
    "for product in product_tuples:\n",
    "    \"\"\"\n",
    "    for each product, calculate the marginal revenue of the unit at the start time of the product\n",
    "    and the volume of the product. Dispatch the order to the market.\n",
    "    \"\"\"\n",
    "\n",
    "    start = product[0]\n",
    "    end = product[1]\n",
    "\n",
    "    # Calculate marginal cost using the adjusted efficiency\n",
    "    hydrogen_demand = unit.forecaster[f\"{unit.id}_h2demand\"].loc[start]\n",
    "    hydrogen_price = unit.forecaster[f\"{unit.id}_h2price\"].loc[start]\n",
    "\n",
    "    power, hydrogen_production = unit.calculate_min_max_power(\n",
    "        start=start,\n",
    "        end=end,\n",
    "        hydrogen_demand=hydrogen_demand,\n",
    "    )\n",
    "\n",
    "    marginal_revenue = (\n",
    "        (hydrogen_price - unit.fixed_cost) * hydrogen_production / power\n",
    "    )\n",
    "\n",
    "    bid_price = marginal_revenue\n",
    "\n",
    "    order: Order = {\n",
    "        \"start_time\": product[0],\n",
    "        \"end_time\": product[1],\n",
    "        \"only_hours\": product[2],\n",
    "        \"price\": bid_price,\n",
    "        \"volume\": -power,\n",
    "    }\n",
    "\n",
    "    bids.append(order)\n",
    "\n",
    "return bids"
   ]
  },
  {
   "cell_type": "markdown",
   "metadata": {},
   "source": [
    "**2. Retrieve Hydrogen Demand and Price:** The hydrogen demand and price are fetched from the unit's forecaster for the corresponding start time."
   ]
  },
  {
   "cell_type": "markdown",
   "metadata": {},
   "source": [
    "**3. Calculate Bid Volume:** The code calls unit.calculate_min_max_power to determine the bid volume based on the hydrogen demand."
   ]
  },
  {
   "cell_type": "markdown",
   "metadata": {},
   "source": [
    "**Calculate Marginal Revenue and Bid Price:** Using the formula discussed in the previous section, the marginal revenue is calculated to determine the bid price"
   ]
  },
  {
   "cell_type": "markdown",
   "metadata": {},
   "source": [
    "### 4.1.2 Creating Market Orders and Finalizing Bids\n",
    "\n",
    "In this segment of the tutorial, we shall explore how market orders are generated and added to the bids list. This step is crucial as it translates our calculated bid volume and price into actionable market orders.\n",
    "\n",
    "**The `Order` Dictionary**\n",
    "\n",
    "The `Order` dictionary object encapsulates all the necessary information for a single bid. It includes the following key-value pairs:\n",
    "\n",
    "- **`start_time` and `end_time`**: The time window for which the bid is valid.\n",
    "- **`volume`**: The bid volume, which is the power calculated based on hydrogen demand.\n",
    "- **`price`**: The bid price, determined by the marginal revenue.\n",
    "\n",
    "Here is how the `Order` dictionary is initialized:"
   ]
  },
  {
   "cell_type": "markdown",
   "metadata": {},
   "source": [
    "    order: Order = {\n",
    "                \"start_time\": product[0],\n",
    "                \"end_time\": product[1],\n",
    "                \"only_hours\": product[2],\n",
    "                \"price\": bid_price,\n",
    "                \"volume\": -power,\n",
    "            }\n",
    "\n",
    "            bids.append(order)\n",
    "\n",
    "return bids"
   ]
  },
  {
   "cell_type": "markdown",
   "metadata": {},
   "source": [
    "# 5. Integrating the New Unit and the New Rule Based Bidding Strategy in the World"
   ]
  },
  {
   "cell_type": "markdown",
   "metadata": {},
   "source": [
    "After having developed the Electrolyser unit and the NaiveStrategyElectrolyser bidding strategy, the next vital step is to integrate these components into the ASSUME world."
   ]
  },
  {
   "cell_type": "markdown",
   "metadata": {},
   "source": [
    "**Initialize World Instance**\n",
    "\n",
    "A new instance of the World class is created, which serves as the primary environment for running simulations."
   ]
  },
  {
   "cell_type": "code",
   "execution_count": 12,
   "metadata": {},
   "outputs": [
    {
     "ename": "AttributeError",
     "evalue": "'NaiveForecast' object has no attribute 'name'",
     "output_type": "error",
     "traceback": [
      "\u001b[1;31m---------------------------------------------------------------------------\u001b[0m",
      "\u001b[1;31mAttributeError\u001b[0m                            Traceback (most recent call last)",
      "Cell \u001b[1;32mIn[12], line 138\u001b[0m\n\u001b[0;32m    119\u001b[0m     world\u001b[38;5;241m.\u001b[39madd_unit(\n\u001b[0;32m    120\u001b[0m         \u001b[38;5;28mid\u001b[39m\u001b[38;5;241m=\u001b[39m\u001b[38;5;124m\"\u001b[39m\u001b[38;5;124melektrolyser_01\u001b[39m\u001b[38;5;124m\"\u001b[39m,\n\u001b[0;32m    121\u001b[0m         unit_type\u001b[38;5;241m=\u001b[39m\u001b[38;5;124m\"\u001b[39m\u001b[38;5;124melectrolyser\u001b[39m\u001b[38;5;124m\"\u001b[39m,\n\u001b[1;32m   (...)\u001b[0m\n\u001b[0;32m    132\u001b[0m         forecaster\u001b[38;5;241m=\u001b[39mhydrogen_plant_forecaster,\n\u001b[0;32m    133\u001b[0m     )\n\u001b[0;32m    136\u001b[0m \u001b[38;5;66;03m# %%\u001b[39;00m\n\u001b[0;32m    137\u001b[0m \u001b[38;5;66;03m# run the simulation\u001b[39;00m\n\u001b[1;32m--> 138\u001b[0m \u001b[43mworld\u001b[49m\u001b[38;5;241;43m.\u001b[39;49m\u001b[43mloop\u001b[49m\u001b[38;5;241;43m.\u001b[39;49m\u001b[43mrun_until_complete\u001b[49m\u001b[43m(\u001b[49m\u001b[43minit\u001b[49m\u001b[43m(\u001b[49m\u001b[43m)\u001b[49m\u001b[43m)\u001b[49m\n\u001b[0;32m    139\u001b[0m world\u001b[38;5;241m.\u001b[39mrun()\n",
      "File \u001b[1;32mc:\\Users\\khm\\Anaconda3\\envs\\ASSUME\\Lib\\site-packages\\nest_asyncio.py:99\u001b[0m, in \u001b[0;36m_patch_loop.<locals>.run_until_complete\u001b[1;34m(self, future)\u001b[0m\n\u001b[0;32m     96\u001b[0m \u001b[38;5;28;01mif\u001b[39;00m \u001b[38;5;129;01mnot\u001b[39;00m f\u001b[38;5;241m.\u001b[39mdone():\n\u001b[0;32m     97\u001b[0m     \u001b[38;5;28;01mraise\u001b[39;00m \u001b[38;5;167;01mRuntimeError\u001b[39;00m(\n\u001b[0;32m     98\u001b[0m         \u001b[38;5;124m'\u001b[39m\u001b[38;5;124mEvent loop stopped before Future completed.\u001b[39m\u001b[38;5;124m'\u001b[39m)\n\u001b[1;32m---> 99\u001b[0m \u001b[38;5;28;01mreturn\u001b[39;00m \u001b[43mf\u001b[49m\u001b[38;5;241;43m.\u001b[39;49m\u001b[43mresult\u001b[49m\u001b[43m(\u001b[49m\u001b[43m)\u001b[49m\n",
      "File \u001b[1;32mc:\\Users\\khm\\Anaconda3\\envs\\ASSUME\\Lib\\asyncio\\futures.py:203\u001b[0m, in \u001b[0;36mFuture.result\u001b[1;34m(self)\u001b[0m\n\u001b[0;32m    201\u001b[0m \u001b[38;5;28mself\u001b[39m\u001b[38;5;241m.\u001b[39m__log_traceback \u001b[38;5;241m=\u001b[39m \u001b[38;5;28;01mFalse\u001b[39;00m\n\u001b[0;32m    202\u001b[0m \u001b[38;5;28;01mif\u001b[39;00m \u001b[38;5;28mself\u001b[39m\u001b[38;5;241m.\u001b[39m_exception \u001b[38;5;129;01mis\u001b[39;00m \u001b[38;5;129;01mnot\u001b[39;00m \u001b[38;5;28;01mNone\u001b[39;00m:\n\u001b[1;32m--> 203\u001b[0m     \u001b[38;5;28;01mraise\u001b[39;00m \u001b[38;5;28mself\u001b[39m\u001b[38;5;241m.\u001b[39m_exception\u001b[38;5;241m.\u001b[39mwith_traceback(\u001b[38;5;28mself\u001b[39m\u001b[38;5;241m.\u001b[39m_exception_tb)\n\u001b[0;32m    204\u001b[0m \u001b[38;5;28;01mreturn\u001b[39;00m \u001b[38;5;28mself\u001b[39m\u001b[38;5;241m.\u001b[39m_result\n",
      "File \u001b[1;32mc:\\Users\\khm\\Anaconda3\\envs\\ASSUME\\Lib\\asyncio\\tasks.py:304\u001b[0m, in \u001b[0;36mTask.__step_run_and_handle_result\u001b[1;34m(***failed resolving arguments***)\u001b[0m\n\u001b[0;32m    300\u001b[0m \u001b[38;5;28;01mtry\u001b[39;00m:\n\u001b[0;32m    301\u001b[0m     \u001b[38;5;28;01mif\u001b[39;00m exc \u001b[38;5;129;01mis\u001b[39;00m \u001b[38;5;28;01mNone\u001b[39;00m:\n\u001b[0;32m    302\u001b[0m         \u001b[38;5;66;03m# We use the `send` method directly, because coroutines\u001b[39;00m\n\u001b[0;32m    303\u001b[0m         \u001b[38;5;66;03m# don't have `__iter__` and `__next__` methods.\u001b[39;00m\n\u001b[1;32m--> 304\u001b[0m         result \u001b[38;5;241m=\u001b[39m \u001b[43mcoro\u001b[49m\u001b[38;5;241;43m.\u001b[39;49m\u001b[43msend\u001b[49m\u001b[43m(\u001b[49m\u001b[38;5;28;43;01mNone\u001b[39;49;00m\u001b[43m)\u001b[49m\n\u001b[0;32m    305\u001b[0m     \u001b[38;5;28;01melse\u001b[39;00m:\n\u001b[0;32m    306\u001b[0m         result \u001b[38;5;241m=\u001b[39m coro\u001b[38;5;241m.\u001b[39mthrow(exc)\n",
      "Cell \u001b[1;32mIn[12], line 117\u001b[0m, in \u001b[0;36minit\u001b[1;34m()\u001b[0m\n\u001b[0;32m    115\u001b[0m world\u001b[38;5;241m.\u001b[39madd_unit_operator(\u001b[38;5;28mid\u001b[39m\u001b[38;5;241m=\u001b[39m\u001b[38;5;124m\"\u001b[39m\u001b[38;5;124melectrolyser_operator\u001b[39m\u001b[38;5;124m\"\u001b[39m)\n\u001b[0;32m    116\u001b[0m hydrogen_plant_forecaster \u001b[38;5;241m=\u001b[39m CsvForecaster(index\u001b[38;5;241m=\u001b[39mindex)\n\u001b[1;32m--> 117\u001b[0m \u001b[43mhydrogen_plant_forecaster\u001b[49m\u001b[38;5;241;43m.\u001b[39;49m\u001b[43mset_forecast\u001b[49m\u001b[43m(\u001b[49m\u001b[43mdata\u001b[49m\u001b[38;5;241;43m=\u001b[39;49m\u001b[43mhydrogen_forecasts\u001b[49m\u001b[43m)\u001b[49m\n\u001b[0;32m    119\u001b[0m world\u001b[38;5;241m.\u001b[39madd_unit(\n\u001b[0;32m    120\u001b[0m     \u001b[38;5;28mid\u001b[39m\u001b[38;5;241m=\u001b[39m\u001b[38;5;124m\"\u001b[39m\u001b[38;5;124melektrolyser_01\u001b[39m\u001b[38;5;124m\"\u001b[39m,\n\u001b[0;32m    121\u001b[0m     unit_type\u001b[38;5;241m=\u001b[39m\u001b[38;5;124m\"\u001b[39m\u001b[38;5;124melectrolyser\u001b[39m\u001b[38;5;124m\"\u001b[39m,\n\u001b[1;32m   (...)\u001b[0m\n\u001b[0;32m    132\u001b[0m     forecaster\u001b[38;5;241m=\u001b[39mhydrogen_plant_forecaster,\n\u001b[0;32m    133\u001b[0m )\n",
      "File \u001b[1;32mC:\\Manish_REPO\\ASSUME\\assume\\common\\forecasts.py:164\u001b[0m, in \u001b[0;36mCsvForecaster.set_forecast\u001b[1;34m(self, data, prefix)\u001b[0m\n\u001b[0;32m    160\u001b[0m         \u001b[38;5;28mself\u001b[39m\u001b[38;5;241m.\u001b[39mforecasts \u001b[38;5;241m=\u001b[39m pd\u001b[38;5;241m.\u001b[39mconcat(\n\u001b[0;32m    161\u001b[0m             [\u001b[38;5;28mself\u001b[39m\u001b[38;5;241m.\u001b[39mforecasts, data[\u001b[38;5;28mlist\u001b[39m(new_columns)]], axis\u001b[38;5;241m=\u001b[39m\u001b[38;5;241m1\u001b[39m\n\u001b[0;32m    162\u001b[0m         )\n\u001b[0;32m    163\u001b[0m \u001b[38;5;28;01melse\u001b[39;00m:\n\u001b[1;32m--> 164\u001b[0m     \u001b[38;5;28mself\u001b[39m\u001b[38;5;241m.\u001b[39mforecasts[prefix \u001b[38;5;241m+\u001b[39m \u001b[43mdata\u001b[49m\u001b[38;5;241;43m.\u001b[39;49m\u001b[43mname\u001b[49m] \u001b[38;5;241m=\u001b[39m data\n",
      "\u001b[1;31mAttributeError\u001b[0m: 'NaiveForecast' object has no attribute 'name'"
     ]
    }
   ],
   "source": [
    "# %% import packages\n",
    "import logging\n",
    "import os\n",
    "from datetime import datetime, timedelta\n",
    "\n",
    "import pandas as pd\n",
    "from dateutil import rrule as rr\n",
    "\n",
    "from assume import World\n",
    "from assume.common.forecasts import CsvForecaster, NaiveForecast\n",
    "from assume.common.market_objects import MarketConfig, MarketProduct\n",
    "\n",
    "# %%\n",
    "logger = logging.getLogger(__name__)\n",
    "\n",
    "csv_path = \"./outputs\"\n",
    "os.makedirs(\"./local_db\", exist_ok=True)\n",
    "\n",
    "# create world isntance\n",
    "world = World(export_csv_path=csv_path)\n",
    "\n",
    "# add new unit type to world\n",
    "world.unit_types[\"electrolyser\"] = Electrolyser\n",
    "# add new bidding strategy to world\n",
    "world.bidding_strategies[\"electrolyser_naive\"] = NaiveStrategyElectrolyser\n",
    "\n",
    "\n",
    "# %%\n",
    "async def init():\n",
    "    # define simulation period and ID\n",
    "    start = datetime(2019, 1, 1)\n",
    "    end = datetime(2019, 1, 31)\n",
    "    index = pd.date_range(\n",
    "        start=start,\n",
    "        end=end + timedelta(hours=24),\n",
    "        freq=\"H\",\n",
    "    )\n",
    "    sim_id = \"electrolyser_demo\"\n",
    "\n",
    "    # run world setup to create simulation and different roles\n",
    "    # this creates the clock and the outputs role\n",
    "    await world.setup(\n",
    "        start=start,\n",
    "        end=end,\n",
    "        save_frequency_hours=None,\n",
    "        simulation_id=sim_id,\n",
    "        index=index,\n",
    "    )\n",
    "\n",
    "    # define market design and add it to a market\n",
    "    marketdesign = [\n",
    "        MarketConfig(\n",
    "            name=\"EOM\",\n",
    "            opening_hours=rr.rrule(rr.HOURLY, interval=1, dtstart=start, until=end),\n",
    "            opening_duration=timedelta(hours=1),\n",
    "            market_mechanism=\"pay_as_clear\",\n",
    "            market_products=[\n",
    "                MarketProduct(\n",
    "                    duration=timedelta(hours=1),\n",
    "                    count=1,\n",
    "                    first_delivery=timedelta(hours=1),\n",
    "                )\n",
    "            ],\n",
    "        )\n",
    "    ]\n",
    "\n",
    "    mo_id = \"market_operator\"\n",
    "    world.add_market_operator(id=mo_id)\n",
    "    for market_config in marketdesign:\n",
    "        world.add_market(\n",
    "            market_operator_id=mo_id,\n",
    "            market_config=market_config,\n",
    "        )\n",
    "\n",
    "    # add unit operator\n",
    "    world.add_unit_operator(id=\"power_plant_operator\")\n",
    "\n",
    "    # define a simple forecaster\n",
    "    simple_forecaster = NaiveForecast(index, availability=1, fuel_price=0, co2_price=50)\n",
    "\n",
    "    # add a unit to the world\n",
    "    world.add_unit(\n",
    "        id=\"power_plant_01\",\n",
    "        unit_type=\"power_plant\",\n",
    "        unit_operator_id=\"power_plant_operator\",\n",
    "        unit_params={\n",
    "            \"min_power\": 0,\n",
    "            \"max_power\": 100,\n",
    "            \"bidding_strategies\": {\"energy\": \"naive\"},\n",
    "            \"fixed_cost\": 5,\n",
    "            \"technology\": \"wind turbine\",\n",
    "        },\n",
    "        forecaster=simple_forecaster,\n",
    "    )\n",
    "\n",
    "    # repeat for demand unit\n",
    "    world.add_unit_operator(\"demand_operator\")\n",
    "    world.add_unit(\n",
    "        id=\"demand_unit_1\",\n",
    "        unit_type=\"demand\",\n",
    "        unit_operator_id=\"demand_operator\",\n",
    "        unit_params={\n",
    "            \"min_power\": 0,\n",
    "            \"max_power\": 1000,\n",
    "            \"bidding_strategies\": {\"energy\": \"naive\"},\n",
    "            \"technology\": \"demand\",\n",
    "        },\n",
    "        forecaster=NaiveForecast(index, demand=50),\n",
    "    )\n",
    "\n",
    "    # load forecasts for hydrogen demand and hydrogen price\n",
    "    hydrogen_forecasts = pd.read_csv(\n",
    "        \"assume/examples/inputs/example_03a/forecasts_df.csv\",\n",
    "        index_col=0,\n",
    "        parse_dates=True,\n",
    "    )\n",
    "\n",
    "    # add the electrolyser unit to the world\n",
    "    world.add_unit_operator(id=\"electrolyser_operator\")\n",
    "    hydrogen_plant_forecaster = CsvForecaster(index=index)\n",
    "    hydrogen_plant_forecaster.set_forecast(data=hydrogen_forecasts)\n",
    "\n",
    "    world.add_unit(\n",
    "        id=\"elektrolyser_01\",\n",
    "        unit_type=\"electrolyser\",\n",
    "        unit_operator_id=\"electrolyser_operator\",\n",
    "        unit_params={\n",
    "            \"min_power\": 7,\n",
    "            \"max_power\": 52.25,\n",
    "            \"min_hydrogen\": 0.15,\n",
    "            \"max_hydrogen\": 0.95,\n",
    "            \"bidding_strategies\": {\"energy\": \"electrolyser_naive\"},\n",
    "            \"technology\": \"electrolyser\",\n",
    "            \"fixed_cost\": 10,\n",
    "        },\n",
    "        forecaster=hydrogen_plant_forecaster,\n",
    "    )\n",
    "\n",
    "\n",
    "# %%\n",
    "# run the simulation\n",
    "world.loop.run_until_complete(init())\n",
    "world.run()\n"
   ]
  }
 ],
 "metadata": {
  "kernelspec": {
   "display_name": ".venv",
   "language": "python",
   "name": "python3"
  },
  "language_info": {
   "codemirror_mode": {
    "name": "ipython",
    "version": 3
   },
   "file_extension": ".py",
   "mimetype": "text/x-python",
   "name": "python",
   "nbconvert_exporter": "python",
   "pygments_lexer": "ipython3",
   "version": "3.12.0"
  }
 },
 "nbformat": 4,
 "nbformat_minor": 2
}
