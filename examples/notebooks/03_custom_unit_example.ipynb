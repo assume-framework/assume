{
 "cells": [
  {
   "cell_type": "markdown",
   "metadata": {},
   "source": [
    "# Implementation of Demand Side Unit in ASSUME Framework\n",
    "\n",
    "This example serves as a comprehensive guide for users interested in understanding the intricacies of implementing and integrating a Demand Side Agent in the ASSUME framework. The primary aim of this session is to demystify the complex procedures involved in agent creation and market configuration, and simulation setup within the ASSUME environment. The tutorial aims to equip pyou with the skillset required to independently develop and deploy a Demand Side Agent furnished with a Rule-Based Bidding Strategy in the ASSUME framework.\n",
    "\n",
    "**The example will delve into the following key areas:**\n",
    "\n",
    "1. Introduction to Unit Agents and Bidding Strategy: Establishing the fundamental principles and nomenclature, for coding exercises.\n",
    "2. Defining and Initialising attributes\n",
    "3. Dispatch feedback function\n",
    "4. Calculating Minimum and Maximum power\n",
    "5. Developing attributes "
   ]
  },
  {
   "cell_type": "markdown",
   "metadata": {},
   "source": [
    "# 1. Essential Concepts and Terminology in Electricity Market Modeling\n",
    "\n",
    "ASSUME is a tool designed for researchers, planners, utilities, and anyone interested in understanding how energy markets work. It's like a user-friendly toolbox, available for free, that you can customize to fit your specific needs.\n",
    "\n",
    "In the following figure the architecture of the framework is depicted. It can be roughly devided into two parts. On the left side, we have the market elements, and on the right side, we have the market participants, which we'll call 'units' here. These two parts are connected because the market participants make orders in the markets. Now, there's something special on the right side, shown in yellow. That's where we talk about the framework's ability to learn and adapt. But before we dive into all the technical details of ASSUME, let's first get familiar with some important terms and concepts that are the building blocks of electricity market modeling."
   ]
  },
  {
   "cell_type": "markdown",
   "metadata": {},
   "source": [
    "![Model Architecture](assume\\docs\\source\\img\\architecture.svg)"
   ]
  },
  {
   "cell_type": "markdown",
   "metadata": {},
   "source": [
    "## 1.1 Unit- The Market Actor\n",
    "\n",
    "In the ASSUME framework, a \"Unit\" represents an individual market actor responsible for buying or selling electricity. This actor operates according to the rules defined in its bidding strategy, effectively interacting with the market to meet specific objectives, such as demand-side management or optimal energy procurement."
   ]
  },
  {
   "cell_type": "markdown",
   "metadata": {},
   "source": [
    "## 1.2 Attributes of a Unit in ASSUME\n",
    "\n",
    "Units within the ASSUME framework come with a set of attributes that define their operational behavior and interaction mechanisms within the market. Notably:\n",
    "\n",
    "**Unit Operator**: This component acts as the operational hub for the Unit, responsible for ensuring that the bidding strategy is executed effectively in real-time market conditions."
   ]
  },
  {
   "cell_type": "markdown",
   "metadata": {},
   "source": [
    "This tutorial will particularly focus on configuring Demand Side Management (DSM) Units. DSM Units have the ability to dynamically adjust their electricity demand in response to market signals, adding a level of flexibility and strategic depth to their market participation."
   ]
  },
  {
   "cell_type": "markdown",
   "metadata": {},
   "source": [
    "# 2 Getting ASSUME Up and Running\n",
    "\n",
    "Before diving into agent implementation and market modeling, it's essential to set up the ASSUME framework on your computational environment. In this tutorial, we will guide you through the installation of the ASSUME core package using Python's package installer, pip.\n",
    "\n",
    "For comprehensive installation instructions, you can consult the official [ASSUME documentation](https://assume.readthedocs.io/en/latest/installation.html). However, this tutorial aims to cover all the necessary steps for a seamless setup, particularly tailored for a Google Colab environment."
   ]
  },
  {
   "cell_type": "markdown",
   "metadata": {},
   "source": [
    "**Installing ASSUME Core Package**\n",
    "\n",
    "Given that Google Colab already provides an isolated environment, there's no need to create a virtual environment (`venv`). Therefore, the installation simplifies to running the following pip command:"
   ]
  },
  {
   "cell_type": "code",
   "execution_count": null,
   "metadata": {
    "vscode": {
     "languageId": "shellscript"
    }
   },
   "outputs": [],
   "source": [
    "!pip install assume-framework"
   ]
  },
  {
   "cell_type": "markdown",
   "metadata": {},
   "source": [
    "And easy like this we have ASSUME installed. Now we can let it run. Please note though that we cannot use the functionalities tied to docker and, hence, cannot access the predefined dashboards in colab. For this please install docker and ASSUME on your personal machine.\n",
    "\n",
    "Further we would like to access the predefined scenarios in ASSUME which are stored on the git repository. Hence, we clone the repository."
   ]
  },
  {
   "cell_type": "markdown",
   "metadata": {},
   "source": [
    "**Post-Installation Steps and Limitations**\n",
    "\n",
    "Congratulations! You've successfully installed the ASSUME core package. With this, you are now ready to explore the functionalities that ASSUME offers for electricity market modeling. However, there are a couple of important points to note:\n",
    "\n",
    "**Docker Functionalities and Colab Limitations**\n",
    "\n",
    "While the core functionalities of ASSUME are now at your disposal, please be aware that Google Colab does not support functionalities that are dependent on Docker. This means that you won't be able to access predefined dashboards in this environment. To utilize these features, it's recommended to install Docker alongside ASSUME on your local machine.\n",
    "\n",
    "**Accessing Predefined Scenarios from Git Repository**\n",
    "\n",
    "ASSUME comes with a variety of predefined scenarios for electricity market modeling, and these are hosted on its Git repository. To access these, you can clone the repository by executing the following command:"
   ]
  },
  {
   "cell_type": "code",
   "execution_count": null,
   "metadata": {
    "vscode": {
     "languageId": "shellscript"
    }
   },
   "outputs": [],
   "source": [
    "!git clone https://github.com/assume-framework/assume.git"
   ]
  },
  {
   "cell_type": "markdown",
   "metadata": {},
   "source": [
    "Let the magic happen. Now you can run your first ever simulation in ASSUME. The following code naviagtes to the respective assume folder and starts the simulation example example_01b using the local database here in colab."
   ]
  },
  {
   "cell_type": "markdown",
   "metadata": {},
   "source": [
    "# 3. Develop a new Demand Side Unit\n",
    "\n",
    "Now that you have ASSUME up and running, let's dive into the implementation of a new Unit Agent. Here, we'll be focusing on an Electrolyser unit, which has a potential of Demand Side Management (DSM) applications.\n",
    "\n",
    "**Understanding Demand Side Management (DSM)**\n",
    "\n",
    "Before we start coding, it's essential to understand what DSM is and why it's important in electricity market modeling. DSM allows for the dynamic adjustment of electricity demand, contributing to balanced grid operations.\n",
    "\n",
    "**Overview of this Coding Session**\n",
    "\n",
    "Here's a quick rundown of what we'll be covering in today's coding session:\n",
    "\n",
    "1. **Initializing Core Attributes**: Setting up the basic parameters for the Electrolyser unit.\n",
    "2. **Power Calculation Function**: Implementing a function to determine power input based on attributes like maximum capacity and demand profile.\n",
    "3. **Developing advanced attributes**: Writing code to calculate the Electrolyser's efficiency based on its current power input."
   ]
  },
  {
   "cell_type": "markdown",
   "metadata": {},
   "source": [
    "**Understanding the Model**\n",
    "\n",
    "The image below illustrates the concept of a simple Electrolyser unit model: "
   ]
  },
  {
   "cell_type": "markdown",
   "metadata": {},
   "source": [
    "![Capture.PNG](/img/Electrolyser.PNG)"
   ]
  },
  {
   "cell_type": "markdown",
   "metadata": {},
   "source": [
    "\n",
    "The image provides a visual representation of how dynamic efficiency varies based on different factors:\n",
    "\n",
    "- **X-Axis**: Represents the varying power input to the Electrolyser unit.\n",
    "- **Y-Axis**: Indicates the efficiency levels that correspond to different power inputs.\n",
    "- **Curve**: Shows that the efficiency is not constant and varies depending on the current power input to the unit.\n",
    "\n",
    "**Significance of this model**\n",
    "\n",
    "Understanding this model is crucial for several reasons:\n",
    "\n",
    "- **Adaptability**: The curve suggests that the unit can operate at different efficiency levels, allowing it to adapt to market conditions.\n",
    "- **Optimization**: Knowing the efficiency levels at various power inputs allows the unit to operate at an optimal point, which is especially crucial in Demand Side Management (DSM) strategies.\n",
    "- **Complexity**: The non-linear nature of the curve indicates that simple linear models may not be sufficient for capturing the unit's behavior, highlighting the need for a more complex model.\n",
    "\n",
    "By understanding this model, you'll gain valuable insights into how to calculate and utilize dynamic efficiency in the Electrolyser unit, a crucial aspect of DSM in the ASSUME framework."
   ]
  },
  {
   "cell_type": "markdown",
   "metadata": {},
   "source": [
    "## 1. Initializing Core Attributes\n",
    "\n",
    "The first step in our coding journey involves initializing the Electrolyser unit's core attributes. These include its maximum and minimum power capacities, hydrogen production levels, and other operational parameters. Let's take a look at the code snippet below:"
   ]
  },
  {
   "cell_type": "code",
   "execution_count": null,
   "metadata": {
    "vscode": {
     "languageId": "shellscript"
    }
   },
   "outputs": [],
   "source": [
    "# Import necessary modules\n",
    "from datetime import datetime\n",
    "import pandas as pd\n",
    "from assume.common.base import SupportsMinMax\n",
    "\n",
    "# Your Python code for initializing core attributes here\n",
    "# ..."
   ]
  },
  {
   "cell_type": "markdown",
   "metadata": {},
   "source": [
    "### 1.1 Initializing Core Attributes for a DSM Electrolyser Unit"
   ]
  },
  {
   "cell_type": "markdown",
   "metadata": {},
   "source": [
    "Core attributes are essential parameters that define the operational behavior of the Electrolyser unit. These include:\n",
    "\n",
    "- **ID**: A unique identifier for the unit.\n",
    "- **Technology**: The type of technology used, which in this case is electrolysis for hydrogen production.\n",
    "- **Unit Operator**: The entity responsible for operating the unit.\n",
    "- **Bidding Strategies**: The strategies used by the unit for bidding in the electricity market.\n",
    "- **Max Power and Min Power**: The maximum and minimum electrical power that the unit can handle.\n",
    "- **Max Hydrogen and Min Hydrogen**: The maximum and minimum hydrogen production levels.\n",
    "- **Fixed Cost**: The fixed operational cost for the unit."
   ]
  },
  {
   "cell_type": "markdown",
   "metadata": {},
   "source": [
    "**Why Are These Attributes Important?**\n",
    "\n",
    "Understanding these attributes is crucial for the following reasons:\n",
    "\n",
    "- They define the **range of actions** the Electrolyser unit can perform in the electricity market.\n",
    "- They are used to **calculate dynamic efficiency** and **power input**, as we'll see in the later sections.\n",
    "- They can be crucial for implementing **demand-side management strategies**, where the unit adjusts its operations based on market signals."
   ]
  },
  {
   "cell_type": "markdown",
   "metadata": {},
   "source": [
    "**Code Snippet for Initializing Core Attributes**\n",
    "\n",
    "Here's how you would go about initializing these attributes:"
   ]
  },
  {
   "cell_type": "code",
   "execution_count": null,
   "metadata": {
    "vscode": {
     "languageId": "shellscript"
    }
   },
   "outputs": [],
   "source": [
    "# Initialize the Electrolyser class with core attributes\n",
    "\n",
    "class Electrolyser(SupportsMinMax):\n",
    "    def __init__(\n",
    "        self,\n",
    "        id: str,\n",
    "        technology: str,\n",
    "        index: pd.DatetimeIndex,\n",
    "        unit_operator: str,\n",
    "        bidding_strategies: str,\n",
    "        max_power: float,\n",
    "        min_power: float,\n",
    "        max_hydrogen: float,\n",
    "        min_hydrogen: float,\n",
    "        fixed_cost: float,\n",
    "        **kwargs,\n",
    "    ):\n",
    "        # Your initialization code here\n",
    "        # ..."
   ]
  },
  {
   "cell_type": "code",
   "execution_count": null,
   "metadata": {
    "vscode": {
     "languageId": "shellscript"
    }
   },
   "outputs": [],
   "source": [
    "def execute_current_dispatch(\n",
    "        self,\n",
    "        start: pd.Timestamp,\n",
    "        end: pd.Timestamp,\n",
    "    ):\n",
    "        end_excl = end - self.index.freq\n",
    "\n",
    "        # Calculate mean power for this time period\n",
    "        avg_power = abs(self.outputs[\"energy\"].loc[start:end_excl]).mean()\n",
    "\n",
    "        # Decide which efficiency point to use\n",
    "        if avg_power < self.min_power:\n",
    "            self.outputs[\"energy\"].loc[start:end_excl] = 0\n",
    "            self.outputs[\"hydrogen\"].loc[start:end_excl] = 0\n",
    "        else:\n",
    "            if avg_power <= 0.35 * self.max_power:\n",
    "                dynamic_conversion_factor = self.conversion_factors[0]\n",
    "            else:\n",
    "                dynamic_conversion_factor = self.conversion_factors[1]\n",
    "\n",
    "            self.outputs[\"energy\"].loc[start:end_excl] = avg_power\n",
    "            self.outputs[\"hydrogen\"].loc[start:end_excl] = (\n",
    "                avg_power / dynamic_conversion_factor\n",
    "            )\n",
    "\n",
    "        return self.outputs[\"energy\"].loc[start:end_excl]"
   ]
  },
  {
   "cell_type": "markdown",
   "metadata": {},
   "source": [
    "## 2. Power Calculation Function\n",
    "\n",
    "In this segment of the tutorial, we'll delve into the implementation of the power input function for the Electrolyser unit. This function calculates the amount of electrical power that should be supplied to the unit, taking into consideration several attributes like maximum capacity, demand profile, and dynamic efficiency.\n",
    "\n",
    "### 2.1 What is the Power Input Function?**\n",
    "\n",
    "The power input function is an algorithm that determines how much electrical power should be supplied to the Electrolyser unit at any given time. This function is integral for:\n",
    "\n",
    "- **Optimizing Resource Utilization**: Ensuring that the Electrolyser operates within its optimal efficiency range.\n",
    "- **Demand-Side Management (DSM)**: Allowing the unit to adapt its power consumption in response to market signals and constraints, thereby contributing to grid stability.\n",
    "\n",
    "**Key Parameters Involved**\n",
    "\n",
    "Here are some of the key parameters that the power input function will consider:\n",
    "\n",
    "- **Maximum and Minimum Capacity**: The upper and lower bounds for power input to the Electrolyser.\n",
    "- **Demand Profile**: The expected hydrogen production rates, which influence the power requirements.\n",
    "- **Dynamic Efficiency**: The efficiency of converting power to hydrogen at different levels of power input, as discussed in the previous section.\n",
    "\n",
    "**Code Snippet for Implementing the Power Input Function**\n",
    "\n",
    "Now, let's take a look at the code snippet for implementing the power input function:"
   ]
  },
  {
   "cell_type": "code",
   "execution_count": null,
   "metadata": {
    "vscode": {
     "languageId": "shellscript"
    }
   },
   "outputs": [],
   "source": [
    "def calculate_min_max_power(\n",
    "        self,\n",
    "        start: pd.Timestamp,\n",
    "        end: pd.Timestamp,\n",
    "        hydrogen_demand=0,\n",
    "    ):\n",
    "        # check if hydrogen_demand is within min and max hydrogen production\n",
    "        # and adjust accordingly\n",
    "        if hydrogen_demand < self.min_hydrogen:\n",
    "            hydrogen_production = self.min_hydrogen\n",
    "\n",
    "        elif hydrogen_demand > self.max_hydrogen:\n",
    "            hydrogen_production = self.max_hydrogen\n",
    "\n",
    "        else:\n",
    "            hydrogen_production = hydrogen_demand\n",
    "\n",
    "        # get dynamic conversion factor\n",
    "        dynamic_conversion_factor = self.get_dynamic_conversion_factor(\n",
    "            hydrogen_production\n",
    "        )\n",
    "        power = hydrogen_production * dynamic_conversion_factor\n",
    "\n",
    "        return power, hydrogen_production"
   ]
  },
  {
   "cell_type": "markdown",
   "metadata": {},
   "source": [
    "## 3 Developing Advanced Attributes\n",
    "\n",
    "In this section of the tutorial, we'll guide you through the process of calculating the dynamic efficiency of the Electrolyser unit. Dynamic efficiency is a key performance metric that varies based on the unit's current power input.\n",
    "\n",
    "### 3.1 What is Dynamic Efficiency?\n",
    "\n",
    "Dynamic efficiency refers to the Electrolyser unit's ability to convert electrical power into hydrogen gas at varying rates of efficiency, depending on its current power input. This attribute is crucial for the following reasons:\n",
    "\n",
    "- It allows the unit to **adapt to fluctuating market conditions**, optimizing its operation for price signals.\n",
    "- It provides a **quantitative measure for decision-making**, particularly in DSM where the unit may need to adjust its demand profile.\n",
    "\n",
    "### 3.2 Key Concepts for Dynamic Efficiency\n",
    "\n",
    "Before we dive into the code, it's important to understand some key terms:\n",
    "\n",
    "- **Average Power**: The mean power consumed during a specific time period.\n",
    "- **Conversion Factors**: These are factors used to convert the average power into hydrogen production, and they can vary based on the power level.\n",
    "\n",
    "**Code Snippet for Calculating Dynamic Efficiency**\n",
    "\n",
    "Now let's take a look at how to implement dynamic efficiency in code. Below is a code snippet that you can use as a starting point:"
   ]
  },
  {
   "cell_type": "code",
   "execution_count": null,
   "metadata": {
    "vscode": {
     "languageId": "shellscript"
    }
   },
   "outputs": [],
   "source": [
    "def get_dynamic_conversion_factor(self, hydrogen_demand=None):\n",
    "        # Adjust efficiency based on power\n",
    "        if hydrogen_demand <= 0.35 * self.max_hydrogen:\n",
    "            return self.conversion_factors[0]\n",
    "        else:\n",
    "            return self.conversion_factors[1]\n",
    "\n",
    "    def get_conversion_factors(self):\n",
    "        # Calculate the conversion factor for the two efficiency points\n",
    "        conversion_point_1 = (0.3 * self.max_power) / (\n",
    "            0.35 * self.max_hydrogen\n",
    "        )  # MWh / Tonne\n",
    "        conversion_point_2 = self.max_power / self.max_hydrogen  # MWh / Tonne\n",
    "\n",
    "        return [conversion_point_1, conversion_point_2]"
   ]
  },
  {
   "cell_type": "code",
   "execution_count": null,
   "metadata": {
    "vscode": {
     "languageId": "shellscript"
    }
   },
   "outputs": [],
   "source": [
    "def as_dict(self) -> dict:\n",
    "        unit_dict = super().as_dict()\n",
    "        unit_dict.update(\n",
    "            {\n",
    "                \"max_power\": self.max_power,\n",
    "                \"min_power\": self.min_power,\n",
    "                \"min_hydrogen\": self.min_hydrogen,\n",
    "                \"max_hydrogen\": self.max_hydrogen,\n",
    "                \"unit_type\": \"electrolyzer\",\n",
    "            }\n",
    "        )\n",
    "        return unit_dict"
   ]
  }
 ],
 "metadata": {
  "language_info": {
   "name": "python"
  }
 },
 "nbformat": 4,
 "nbformat_minor": 2
}
