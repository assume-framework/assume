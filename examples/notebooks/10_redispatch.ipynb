{
 "cells": [
  {
   "cell_type": "markdown",
   "metadata": {},
   "source": [
    "## Redispatch modelling using PyPSA\n",
    "\n",
    "This tutorial demonstrates modelling and simulation of redispatch mechanism using PyPSA as a plug and play module in ASSUME-framework. The model will be created mainly taking grid constraints into consideration to identify grid bottlenecks with dispatches from EOM and resolve them using the redispatch algorithm.\n",
    "\n",
    "### Concept of Redispatch:\n",
    "\n",
    "The locational mismatch in demand and generation of electricity needs transmission of electricity from low demand regions to high demand regions. The transmission capacity limits the maximum amounts of electricity which can be transmitted at any point in time. If there is no enough capacity to transmit the required amount of electricity then there is a need of ramping down of generation at the locations of low demand and ramping up of generation at the locations of higher demand. This is typically called as Redispatch. Apart from spot markets there is redispatch mechanism to regulate this grid flows to avoid congestion issues. It is operated and controlled by the System operators (SO).\n",
    "\n",
    "### Objective: \n",
    "The aim of redispatch is to reduce the overall cost of Redispatch(starting up, shuting down, ramping up, ramping down).\n",
    "\n",
    "### Structure in Redispatch model:\n",
    "- The redispatch has following structure:\n",
    "    1. **Ramping up of reserved powerplants**:\n",
    "    2. **Ramping up of market powerplants**\n",
    "    2. **Ramping down of market powerplants**:\n",
    "    3. **Ramping up/down of other flexibilites**:"
   ]
  },
  {
   "cell_type": "markdown",
   "metadata": {},
   "source": [
    "---\n",
    "### Objective of This Tutorial:\n",
    "In this tutorial, we will:\n",
    "1. Set up a **2-node** example of redispatch.\n",
    "2. Connect hypothetical **generators**,**loads** and **transmission lines** to illustrate flow of energy.\n",
    "3. Add **demand_side_units** to analyse their impact on overall redispatch.\n",
    "4. Simulate and visualize the results.\n",
    "---"
   ]
  },
  {
   "cell_type": "markdown",
   "metadata": {},
   "source": [
    "## Setting up grid network with infrastructure\n",
    "\n",
    "The grid infrastructure includes mainly three components:\n",
    "\n",
    "- **Generators**: Used to produce hydrogen for steel production.\n",
    "- **Loads**: Directly reduces iron ore using hydrogen.\n",
    "- **Transmission grid**: Converts the reduced iron into steel.\n",
    "\n",
    "\n",
    "Here the components are defined with their operational constraints (such as power, efficiency, ramp rates etc.)"
   ]
  },
  {
   "cell_type": "markdown",
   "metadata": {},
   "source": [
    "### A) Loads csv files from the given path and returns a dataframe"
   ]
  },
  {
   "cell_type": "code",
   "execution_count": 23,
   "metadata": {
    "vscode": {
     "languageId": "shellscript"
    }
   },
   "outputs": [
    {
     "ename": "NameError",
     "evalue": "name 'Path' is not defined",
     "output_type": "error",
     "traceback": [
      "\u001b[1;31m---------------------------------------------------------------------------\u001b[0m",
      "\u001b[1;31mNameError\u001b[0m                                 Traceback (most recent call last)",
      "\u001b[1;32mc:\\Users\\par19744\\Python_projects\\assume\\examples\\notebooks\\10_redispatch.ipynb Cell 5\u001b[0m line \u001b[0;36m2\n\u001b[0;32m      <a href='vscode-notebook-cell:/c%3A/Users/par19744/Python_projects/assume/examples/notebooks/10_redispatch.ipynb#W4sZmlsZQ%3D%3D?line=0'>1</a>\u001b[0m \u001b[39m# Simplified function to add read required CSV files\u001b[39;00m\n\u001b[1;32m----> <a href='vscode-notebook-cell:/c%3A/Users/par19744/Python_projects/assume/examples/notebooks/10_redispatch.ipynb#W4sZmlsZQ%3D%3D?line=1'>2</a>\u001b[0m \u001b[39mdef\u001b[39;00m \u001b[39mread_grid\u001b[39m(network_path: \u001b[39mstr\u001b[39m \u001b[39m|\u001b[39m Path) \u001b[39m-\u001b[39m\u001b[39m>\u001b[39m \u001b[39mdict\u001b[39m[\u001b[39mstr\u001b[39m, pd\u001b[39m.\u001b[39mDataFrame]:\n\u001b[0;32m      <a href='vscode-notebook-cell:/c%3A/Users/par19744/Python_projects/assume/examples/notebooks/10_redispatch.ipynb#W4sZmlsZQ%3D%3D?line=2'>3</a>\u001b[0m     network_path \u001b[39m=\u001b[39m Path(network_path)\n\u001b[0;32m      <a href='vscode-notebook-cell:/c%3A/Users/par19744/Python_projects/assume/examples/notebooks/10_redispatch.ipynb#W4sZmlsZQ%3D%3D?line=3'>4</a>\u001b[0m     buses \u001b[39m=\u001b[39m pd\u001b[39m.\u001b[39mread_csv(network_path \u001b[39m/\u001b[39m \u001b[39m\"\u001b[39m\u001b[39mbuses.csv\u001b[39m\u001b[39m\"\u001b[39m, index_col\u001b[39m=\u001b[39m\u001b[39m0\u001b[39m)\n",
      "\u001b[1;31mNameError\u001b[0m: name 'Path' is not defined"
     ]
    }
   ],
   "source": [
    "# Simplified function to add read required CSV files\n",
    "def read_grid(network_path: str | Path) -> dict[str, pd.DataFrame]:\n",
    "    network_path = Path(network_path)\n",
    "    buses = pd.read_csv(network_path / \"buses.csv\", index_col=0)\n",
    "    lines = pd.read_csv(network_path / \"lines.csv\", index_col=0)\n",
    "    generators = pd.read_csv(network_path / \"powerplant_units.csv\", index_col=0)\n",
    "    loads = pd.read_csv(network_path / \"demand_units.csv\", index_col=0)\n",
    "\n",
    "    return {\n",
    "        \"buses\": buses,\n",
    "        \"lines\": lines,\n",
    "        \"generators\": generators,\n",
    "        \"loads\": loads,\n",
    "    }"
   ]
  },
  {
   "cell_type": "markdown",
   "metadata": {},
   "source": [
    "### B) Simplified function to add generators to the grid network"
   ]
  },
  {
   "cell_type": "code",
   "execution_count": null,
   "metadata": {
    "vscode": {
     "languageId": "shellscript"
    }
   },
   "outputs": [],
   "source": [
    "# Simplified function to add generators to the grid network\n",
    "def add_generators(\n",
    "    network: pypsa.Network,\n",
    "    generators: pd.DataFrame,\n",
    ") -> None:\n",
    "    \"\"\"\n",
    "    Add generators normally to the grid\n",
    "\n",
    "    Args:\n",
    "        network (pypsa.Network): the pypsa network to which the generators are\n",
    "        generators (pandas.DataFrame): the generators dataframe\n",
    "    \"\"\"\n",
    "    p_set = pd.DataFrame(\n",
    "        np.zeros((len(network.snapshots), len(generators.index))),\n",
    "        index=network.snapshots,\n",
    "        columns=generators.index,\n",
    "    )\n",
    "    # add generators\n",
    "    network.madd(\n",
    "        \"Generator\",\n",
    "        names=generators.index,\n",
    "        bus=generators[\"node\"],  # bus to which the generator is connected to\n",
    "        p_nom=generators[\"max_power\"],  # Nominal capacity of the powerplant/generator\n",
    "        p_min_pu=p_set,\n",
    "        p_max_pu=p_set + 1,\n",
    "        marginal_cost=p_set,\n",
    "        **generators,\n",
    "    )"
   ]
  },
  {
   "cell_type": "markdown",
   "metadata": {},
   "source": [
    "### C) Simplified function to add loads to the grid network"
   ]
  },
  {
   "cell_type": "code",
   "execution_count": null,
   "metadata": {
    "vscode": {
     "languageId": "shellscript"
    }
   },
   "outputs": [],
   "source": [
    "# Simplified function to add loads to the grid network\n",
    "def add_loads(\n",
    "    network: pypsa.Network,\n",
    "    loads: pd.DataFrame,\n",
    ") -> None:\n",
    "    \"\"\"\n",
    "    Add loads normally to the grid\n",
    "\n",
    "    Args:\n",
    "        network (pypsa.Network): the pypsa network to which the loads are\n",
    "        loads (pandas.DataFrame): the loads dataframe\n",
    "    \"\"\"\n",
    "\n",
    "    # add loads\n",
    "    network.madd(\n",
    "        \"Load\",\n",
    "        names=loads.index,\n",
    "        bus=loads[\"node\"],  # bus to which the generator is connected to\n",
    "        **loads,\n",
    "    )\n",
    "\n",
    "    if \"p_set\" not in loads.columns:\n",
    "        network.loads_t[\"p_set\"] = pd.DataFrame(\n",
    "            np.zeros((len(network.snapshots), len(loads.index))),\n",
    "            index=network.snapshots,\n",
    "            columns=loads.index,\n",
    "        )"
   ]
  },
  {
   "cell_type": "markdown",
   "metadata": {},
   "source": [
    "### D) Simplified function to add loads to the redispatch network"
   ]
  },
  {
   "cell_type": "code",
   "execution_count": null,
   "metadata": {
    "vscode": {
     "languageId": "shellscript"
    }
   },
   "outputs": [],
   "source": [
    "# Simplified function to add loads to the redispatch network\n",
    "def add_redispatch_loads(\n",
    "    network: pypsa.Network,\n",
    "    loads: pd.DataFrame,\n",
    ") -> None:\n",
    "    \"\"\"\n",
    "    This adds loads to the redispatch PyPSA network with respective bus data to which they are connected\n",
    "    \"\"\"\n",
    "    loads_c = loads.copy()\n",
    "    if \"sign\" in loads_c.columns:\n",
    "        del loads_c[\"sign\"]\n",
    "\n",
    "    # add loads with opposite sign (default for loads is -1). This is needed to properly model the redispatch\n",
    "    network.madd(\n",
    "        \"Load\",\n",
    "        names=loads.index,\n",
    "        bus=loads[\"node\"],  # bus to which the generator is connected to\n",
    "        sign=1,\n",
    "        **loads_c,\n",
    "    )\n",
    "\n",
    "    if \"p_set\" not in loads.columns:\n",
    "        network.loads_t[\"p_set\"] = pd.DataFrame(\n",
    "            np.zeros((len(network.snapshots), len(loads.index))),\n",
    "            index=network.snapshots,\n",
    "            columns=loads.index,\n",
    "        )"
   ]
  },
  {
   "cell_type": "markdown",
   "metadata": {},
   "source": [
    "### E) Simplified function to add Buses and Lines to the redispatch network"
   ]
  },
  {
   "cell_type": "code",
   "execution_count": null,
   "metadata": {
    "vscode": {
     "languageId": "shellscript"
    }
   },
   "outputs": [],
   "source": [
    "# Simplified function to add grid buses and lines to the redispatch network\n",
    "def read_pypsa_grid(\n",
    "    network: pypsa.Network,\n",
    "    grid_dict: dict[str, pd.DataFrame],\n",
    "):\n",
    "    \"\"\"\n",
    "    Generates the pypsa grid from a grid dictionary.\n",
    "    Does not add the generators, as they are added in different ways, depending on wether redispatch is used.\n",
    "\n",
    "    Args:\n",
    "        network (pypsa.Network): the pypsa network to which the components will be added\n",
    "        grid_dict (dict[str, pd.DataFrame]): the dictionary containing dataframes for generators, loads, buses and links\n",
    "    \"\"\"\n",
    "\n",
    "    def add_buses(network: pypsa.Network, buses: pd.DataFrame) -> None:\n",
    "        network.import_components_from_dataframe(buses, \"Bus\")\n",
    "\n",
    "    def add_lines(network: pypsa.Network, lines: pd.DataFrame) -> None:\n",
    "        network.import_components_from_dataframe(lines, \"Line\")\n",
    "\n",
    "    # setup the network\n",
    "    add_buses(network, grid_dict[\"buses\"])\n",
    "    add_lines(network, grid_dict[\"lines\"])\n",
    "    return network"
   ]
  },
  {
   "cell_type": "markdown",
   "metadata": {},
   "source": [
    "### F) Congestion/Redispatch clearning function "
   ]
  },
  {
   "cell_type": "markdown",
   "metadata": {},
   "source": [
    "#### Performs redispatch to resolve congestion in the electricity market.\n",
    "- It first checks for congestion in the network and if it finds any, it performs redispatch to resolve it.\n",
    "- The returned orderbook contains accepted orders with the redispatched volumes and prices.\n",
    "- The prices are positive for upward redispatch and negative for downward redispatch."
   ]
  },
  {
   "cell_type": "code",
   "execution_count": null,
   "metadata": {
    "vscode": {
     "languageId": "shellscript"
    }
   },
   "outputs": [],
   "source": [
    "from assume.common.market_objects import MarketConfig, Orderbook\n",
    "\n",
    "def clear(\n",
    "    self, orderbook: Orderbook, market_products\n",
    ") -> tuple[Orderbook, Orderbook, list[dict]]:\n",
    "\n",
    "    orderbook_df = pd.DataFrame(orderbook)\n",
    "    orderbook_df[\"accepted_volume\"] = 0.0\n",
    "    orderbook_df[\"accepted_price\"] = 0.0\n",
    "\n",
    "    # Now you can pivot the DataFrame\n",
    "    volume_pivot = orderbook_df.pivot(\n",
    "        index=\"start_time\", columns=\"unit_id\", values=\"volume\"\n",
    "    )\n",
    "    max_power_pivot = orderbook_df.pivot(\n",
    "        index=\"start_time\", columns=\"unit_id\", values=\"max_power\"\n",
    "    )\n",
    "    min_power_pivot = orderbook_df.pivot(\n",
    "        index=\"start_time\", columns=\"unit_id\", values=\"min_power\"\n",
    "    )\n",
    "    price_pivot = orderbook_df.pivot(\n",
    "        index=\"start_time\", columns=\"unit_id\", values=\"price\"\n",
    "    )\n",
    "\n",
    "    # Calculate p_set, p_max_pu_up, and p_max_pu_down directly using DataFrame operations\n",
    "    p_set = volume_pivot\n",
    "\n",
    "    # Calculate p_max_pu_up as difference between max_power and accepted volume\n",
    "    p_max_pu_up = (max_power_pivot - volume_pivot).div(\n",
    "        max_power_pivot.where(max_power_pivot != 0, np.inf)\n",
    "    )\n",
    "\n",
    "    # Calculate p_max_pu_down as difference between accepted volume and min_power\n",
    "    p_max_pu_down = (volume_pivot - min_power_pivot).div(\n",
    "        max_power_pivot.where(max_power_pivot != 0, np.inf)\n",
    "    )\n",
    "    p_max_pu_down = p_max_pu_down.clip(lower=0)  # Ensure no negative values\n",
    "\n",
    "    # Determine the costs directly from the price pivot\n",
    "    costs = price_pivot\n",
    "\n",
    "    # Drop units with only negative volumes (if necessary)\n",
    "    negative_only_units = volume_pivot.lt(0).all()\n",
    "    p_max_pu_up = p_max_pu_up.drop(\n",
    "        columns=negative_only_units.index[negative_only_units]\n",
    "    )\n",
    "    p_max_pu_down = p_max_pu_down.drop(\n",
    "        columns=negative_only_units.index[negative_only_units]\n",
    "    )\n",
    "    costs = costs.drop(columns=negative_only_units.index[negative_only_units])\n",
    "\n",
    "    # reset indexes for all dataframes\n",
    "    p_set.reset_index(inplace=True, drop=True)\n",
    "    p_max_pu_up.reset_index(inplace=True, drop=True)\n",
    "    p_max_pu_down.reset_index(inplace=True, drop=True)\n",
    "    costs.reset_index(inplace=True, drop=True)\n",
    "\n",
    "    # Update the network parameters\n",
    "    redispatch_network = self.network.copy()\n",
    "    redispatch_network.loads_t.p_set = p_set\n",
    "\n",
    "    # Update p_max_pu for generators with _up and _down suffixes\n",
    "    redispatch_network.generators_t.p_max_pu.update(p_max_pu_up.add_suffix(\"_up\"))\n",
    "    redispatch_network.generators_t.p_max_pu.update(\n",
    "        p_max_pu_down.add_suffix(\"_down\")\n",
    "    )\n",
    "\n",
    "    # Add _up and _down suffix to costs and update the network\n",
    "    redispatch_network.generators_t.marginal_cost.update(costs.add_suffix(\"_up\"))\n",
    "    redispatch_network.generators_t.marginal_cost.update(\n",
    "        costs.add_suffix(\"_down\") * (-1)\n",
    "    )\n",
    "\n",
    "    # run linear powerflow\n",
    "    redispatch_network.lpf()\n",
    "\n",
    "    # check lines for congestion where power flow is larget than s_nom\n",
    "    line_loading = (\n",
    "        redispatch_network.lines_t.p0.abs() / redispatch_network.lines.s_nom\n",
    "    )\n",
    "\n",
    "    # if any line is congested, perform redispatch\n",
    "    if line_loading.max().max() > 1:\n",
    "        log.debug(\"Congestion detected\")\n",
    "\n",
    "        status, termination_condition = redispatch_network.optimize(\n",
    "            solver_name=self.solver,\n",
    "            env=self.env,\n",
    "        )\n",
    "\n",
    "        if status != \"ok\":\n",
    "            log.error(f\"Solver exited with {termination_condition}\")\n",
    "            raise Exception(\"Solver in redispatch market did not converge\")\n",
    "\n",
    "        # process dispatch data\n",
    "        self.process_dispatch_data(\n",
    "            network=redispatch_network, orderbook_df=orderbook_df\n",
    "        )\n",
    "\n",
    "    # if no congestion is detected set accepted volume and price to 0\n",
    "    else:\n",
    "        log.debug(\"No congestion detected\")\n",
    "\n",
    "    # return orderbook_df back to orderbook format as list of dicts\n",
    "    accepted_orders = orderbook_df.to_dict(\"records\")\n",
    "    rejected_orders = []\n",
    "    meta = []\n",
    "\n",
    "    # calculate meta data such as total upwared and downward redispatch, total backup dispatch\n",
    "    # and total redispatch cost\n",
    "    for i, product in enumerate(market_products):\n",
    "        meta.extend(\n",
    "            calculate_network_meta(network=redispatch_network, product=product, i=i)\n",
    "        )\n",
    "\n",
    "    return accepted_orders, rejected_orders, meta"
   ]
  },
  {
   "cell_type": "markdown",
   "metadata": {
    "vscode": {
     "languageId": "shellscript"
    }
   },
   "source": [
    "## Use Case 1:"
   ]
  },
  {
   "cell_type": "markdown",
   "metadata": {},
   "source": [
    "## Step 1: Setting up grid network with infrastructure\n",
    "\n",
    "The grid infrastructure includes mainly three components:\n",
    "\n",
    "- **Generators**: Used to produce hydrogen for steel production.\n",
    "- **Loads**: Directly reduces iron ore using hydrogen.\n",
    "- **Transmission grid**: Converts the reduced iron into steel.\n",
    "\n",
    "\n",
    "Here the components are defined with their operational constraints (such as power, efficiency, ramp rates etc.)"
   ]
  },
  {
   "cell_type": "code",
   "execution_count": 24,
   "metadata": {
    "vscode": {
     "languageId": "shellscript"
    }
   },
   "outputs": [],
   "source": [
    "import pypsa\n",
    "import numpy as np\n",
    "import pandas as pd"
   ]
  },
  {
   "cell_type": "markdown",
   "metadata": {},
   "source": [
    "## Step 2: Create a network and set Snapshots"
   ]
  },
  {
   "cell_type": "code",
   "execution_count": 25,
   "metadata": {
    "vscode": {
     "languageId": "shellscript"
    }
   },
   "outputs": [],
   "source": [
    "# Create a new PyPSA network\n",
    "network = pypsa.Network()\n",
    "network.set_snapshots(range(1))  # Solve for a year 365*24\n",
    "solver='glpk'"
   ]
  },
  {
   "cell_type": "markdown",
   "metadata": {},
   "source": [
    "### A) Define Nodes (here in PyPSA terminoloy Bus) "
   ]
  },
  {
   "cell_type": "code",
   "execution_count": 26,
   "metadata": {
    "vscode": {
     "languageId": "shellscript"
    }
   },
   "outputs": [
    {
     "name": "stdout",
     "output_type": "stream",
     "text": [
      "Buses DataFrame:\n"
     ]
    },
    {
     "data": {
      "text/html": [
       "<div>\n",
       "<style scoped>\n",
       "    .dataframe tbody tr th:only-of-type {\n",
       "        vertical-align: middle;\n",
       "    }\n",
       "\n",
       "    .dataframe tbody tr th {\n",
       "        vertical-align: top;\n",
       "    }\n",
       "\n",
       "    .dataframe thead th {\n",
       "        text-align: right;\n",
       "    }\n",
       "</style>\n",
       "<table border=\"1\" class=\"dataframe\">\n",
       "  <thead>\n",
       "    <tr style=\"text-align: right;\">\n",
       "      <th></th>\n",
       "      <th>name</th>\n",
       "      <th>v_nom</th>\n",
       "      <th>carrier</th>\n",
       "      <th>x</th>\n",
       "      <th>y</th>\n",
       "    </tr>\n",
       "  </thead>\n",
       "  <tbody>\n",
       "    <tr>\n",
       "      <th>0</th>\n",
       "      <td>north</td>\n",
       "      <td>380.0</td>\n",
       "      <td>AC</td>\n",
       "      <td>9.598</td>\n",
       "      <td>53.5585</td>\n",
       "    </tr>\n",
       "    <tr>\n",
       "      <th>1</th>\n",
       "      <td>south</td>\n",
       "      <td>380.0</td>\n",
       "      <td>AC</td>\n",
       "      <td>13.607</td>\n",
       "      <td>51.0769</td>\n",
       "    </tr>\n",
       "  </tbody>\n",
       "</table>\n",
       "</div>"
      ],
      "text/plain": [
       "    name  v_nom carrier       x        y\n",
       "0  north  380.0      AC   9.598  53.5585\n",
       "1  south  380.0      AC  13.607  51.0769"
      ]
     },
     "metadata": {},
     "output_type": "display_data"
    }
   ],
   "source": [
    "# Define the buses DataFrame with two nodes: north and south\n",
    "buses = pd.DataFrame(\n",
    "    {\n",
    "        \"name\": [\"north\", \"south\"],  # Bus names (zones)\n",
    "        \"v_nom\": [380.0, 380.0],  # Nominal voltage levels (kV)\n",
    "        \"carrier\": [\"AC\", \"AC\"],  # Carrier type (AC)\n",
    "        \"x\": [9.598, 13.607],  # Geographical coordinates (x-coordinate)\n",
    "        \"y\": [53.5585, 51.0769],  # Geographical coordinates (y-coordinate)\n",
    "    }\n",
    ")\n",
    "\n",
    "# Display the buses DataFrame\n",
    "print(\"Buses DataFrame:\")\n",
    "display(buses)"
   ]
  },
  {
   "cell_type": "code",
   "execution_count": null,
   "metadata": {
    "vscode": {
     "languageId": "shellscript"
    }
   },
   "outputs": [],
   "source": [
    "buses = {\n",
    "    \"bus\": buses['name'],\n",
    "    \"v_nom\": buses['v_nom'],\n",
    "    \"carrier\": buses['carrier'],\n",
    "    \"x\": buses['x'],\n",
    "    \"x\": buses['x'],\n",
    "}"
   ]
  },
  {
   "cell_type": "code",
   "execution_count": 27,
   "metadata": {
    "vscode": {
     "languageId": "shellscript"
    }
   },
   "outputs": [
    {
     "data": {
      "text/plain": [
       "Index(['north', 'south'], dtype='object', name='name')"
      ]
     },
     "execution_count": 27,
     "metadata": {},
     "output_type": "execute_result"
    }
   ],
   "source": [
    "network.madd(\n",
    "\"Bus\",\n",
    "buses.name,\n",
    "**buses,\n",
    ") "
   ]
  },
  {
   "cell_type": "code",
   "execution_count": 28,
   "metadata": {
    "vscode": {
     "languageId": "shellscript"
    }
   },
   "outputs": [
    {
     "data": {
      "text/html": [
       "<div>\n",
       "<style scoped>\n",
       "    .dataframe tbody tr th:only-of-type {\n",
       "        vertical-align: middle;\n",
       "    }\n",
       "\n",
       "    .dataframe tbody tr th {\n",
       "        vertical-align: top;\n",
       "    }\n",
       "\n",
       "    .dataframe thead th {\n",
       "        text-align: right;\n",
       "    }\n",
       "</style>\n",
       "<table border=\"1\" class=\"dataframe\">\n",
       "  <thead>\n",
       "    <tr style=\"text-align: right;\">\n",
       "      <th></th>\n",
       "      <th>name</th>\n",
       "      <th>v_nom</th>\n",
       "      <th>carrier</th>\n",
       "      <th>x</th>\n",
       "      <th>y</th>\n",
       "      <th>type</th>\n",
       "      <th>unit</th>\n",
       "      <th>v_mag_pu_set</th>\n",
       "      <th>v_mag_pu_min</th>\n",
       "      <th>v_mag_pu_max</th>\n",
       "      <th>control</th>\n",
       "      <th>generator</th>\n",
       "      <th>sub_network</th>\n",
       "    </tr>\n",
       "    <tr>\n",
       "      <th>Bus</th>\n",
       "      <th></th>\n",
       "      <th></th>\n",
       "      <th></th>\n",
       "      <th></th>\n",
       "      <th></th>\n",
       "      <th></th>\n",
       "      <th></th>\n",
       "      <th></th>\n",
       "      <th></th>\n",
       "      <th></th>\n",
       "      <th></th>\n",
       "      <th></th>\n",
       "      <th></th>\n",
       "    </tr>\n",
       "  </thead>\n",
       "  <tbody>\n",
       "    <tr>\n",
       "      <th>north</th>\n",
       "      <td>NaN</td>\n",
       "      <td>NaN</td>\n",
       "      <td></td>\n",
       "      <td>NaN</td>\n",
       "      <td>NaN</td>\n",
       "      <td></td>\n",
       "      <td></td>\n",
       "      <td>1.0</td>\n",
       "      <td>0.0</td>\n",
       "      <td>inf</td>\n",
       "      <td>PQ</td>\n",
       "      <td></td>\n",
       "      <td></td>\n",
       "    </tr>\n",
       "    <tr>\n",
       "      <th>south</th>\n",
       "      <td>NaN</td>\n",
       "      <td>NaN</td>\n",
       "      <td></td>\n",
       "      <td>NaN</td>\n",
       "      <td>NaN</td>\n",
       "      <td></td>\n",
       "      <td></td>\n",
       "      <td>1.0</td>\n",
       "      <td>0.0</td>\n",
       "      <td>inf</td>\n",
       "      <td>PQ</td>\n",
       "      <td></td>\n",
       "      <td></td>\n",
       "    </tr>\n",
       "  </tbody>\n",
       "</table>\n",
       "</div>"
      ],
      "text/plain": [
       "      name  v_nom carrier   x   y type unit  v_mag_pu_set  v_mag_pu_min  \\\n",
       "Bus                                                                       \n",
       "north  NaN    NaN         NaN NaN                     1.0           0.0   \n",
       "south  NaN    NaN         NaN NaN                     1.0           0.0   \n",
       "\n",
       "       v_mag_pu_max control generator sub_network  \n",
       "Bus                                                \n",
       "north           inf      PQ                        \n",
       "south           inf      PQ                        "
      ]
     },
     "execution_count": 28,
     "metadata": {},
     "output_type": "execute_result"
    }
   ],
   "source": [
    "network.buses"
   ]
  },
  {
   "cell_type": "markdown",
   "metadata": {},
   "source": [
    "### B) Define Powerplants (Generators in PyPSA)"
   ]
  },
  {
   "cell_type": "code",
   "execution_count": null,
   "metadata": {
    "vscode": {
     "languageId": "shellscript"
    }
   },
   "outputs": [],
   "source": [
    "# Define the list of power plants with their characteristics\n",
    "powerplant_units_data = {\n",
    "    \"name\": [\n",
    "        \"Wind onshore\",\n",
    "        \"Wind offshore\",\n",
    "        \"Solar\",\n",
    "        \"Hydro\",\n",
    "        \"Biomass\",\n",
    "        \"KKW ISAR 2\",\n",
    "        \"KKW BROKDORF\",\n",
    "        \"KKW PHILIPPSBURG 2\",\n",
    "    ],\n",
    "    \"technology\": [\n",
    "        \"wind_onshore\",\n",
    "        \"wind_offshore\",\n",
    "        \"solar\",\n",
    "        \"hydro\",\n",
    "        \"biomass\",\n",
    "        \"nuclear\",\n",
    "        \"nuclear\",\n",
    "        \"nuclear\",\n",
    "    ],\n",
    "    \"bidding_EOM\": [\n",
    "        \"naive_eom\",\n",
    "        \"naive_eom\",\n",
    "        \"naive_eom\",\n",
    "        \"naive_eom\",\n",
    "        \"naive_eom\",\n",
    "        \"naive_eom\",\n",
    "        \"naive_eom\",\n",
    "        \"naive_eom\",\n",
    "    ],\n",
    "    \"fuel_type\": [\n",
    "        \"renewable\",\n",
    "        \"renewable\",\n",
    "        \"renewable\",\n",
    "        \"renewable\",\n",
    "        \"renewable\",\n",
    "        \"uranium\",\n",
    "        \"uranium\",\n",
    "        \"uranium\",\n",
    "    ],\n",
    "    \"emission_factor\": [0, 0, 0, 0, 0, 0, 0, 0],\n",
    "    \"max_power\": [53190, 7560, 48860, 4940, 8340, 1485, 1480, 1468],\n",
    "    \"min_power\": [0, 0, 0, 0, 0, 590, 590, 590],\n",
    "    \"efficiency\": [1, 1, 1, 1, 1, 0.33, 0.33, 0.33],\n",
    "    \"ramp_up\": [None, None, None, None, None, 890, 890, 880],\n",
    "    \"ramp_down\": [None, None, None, None, None, 890, 890, 880],\n",
    "    \"additional_cost\": [0, 0, 0, 0, 0, 10.3, 10.3, 10.3],\n",
    "    \"node\": [\"north\", \"north\", \"north\", \"north\", \"north\", \"south\", \"south\", \"south\"],\n",
    "    \"unit_operator\": [\n",
    "        \"renewables_operator\",\n",
    "        \"renewables_operator\",\n",
    "        \"renewables_operator\",\n",
    "        \"renewables_operator\",\n",
    "        \"renewables_operator\",\n",
    "        \"UNIPER\",\n",
    "        \"UNIPER\",\n",
    "        \"ENBW ENERGIE BADEN-WURTTEMBERG\",\n",
    "    ],\n",
    "}\n",
    "\n",
    "# Create the DataFrame\n",
    "powerplant_units = pd.DataFrame(powerplant_units_data)\n",
    "\n",
    "# Display the Power Plant Units DataFrame\n",
    "print(\"Power Plant Units DataFrame:\")\n",
    "display(powerplant_units.head())"
   ]
  },
  {
   "cell_type": "code",
   "execution_count": null,
   "metadata": {
    "vscode": {
     "languageId": "shellscript"
    }
   },
   "outputs": [],
   "source": [
    "network.madd(\n",
    "\"Generator\",\n",
    "\n",
    "\n",
    ")"
   ]
  },
  {
   "cell_type": "markdown",
   "metadata": {},
   "source": [
    "### C) Define the demand units (Loads in PyPSA)"
   ]
  },
  {
   "cell_type": "code",
   "execution_count": null,
   "metadata": {
    "vscode": {
     "languageId": "shellscript"
    }
   },
   "outputs": [],
   "source": [
    "demand_units = pd.DataFrame(\n",
    "    {\n",
    "        \"name\": [\"demand_north_1\", \"demand_north_2\", \"demand_south\"],\n",
    "        \"technology\": [\"inflex_demand\"] * 3,\n",
    "        \"bidding_zonal\": [\"naive_eom\"] * 3,\n",
    "        \"max_power\": [100000, 100000, 100000],\n",
    "        \"min_power\": [0, 0, 0],\n",
    "        \"unit_operator\": [\"eom_de\"] * 3,\n",
    "        \"node\": [\"north_1\", \"north_2\", \"south\"],\n",
    "    }\n",
    ")\n",
    "\n",
    "display(demand_units)"
   ]
  },
  {
   "cell_type": "code",
   "execution_count": null,
   "metadata": {
    "vscode": {
     "languageId": "shellscript"
    }
   },
   "outputs": [],
   "source": [
    "network.madd(\n",
    "\"Load\",\n",
    "\n",
    ")"
   ]
  },
  {
   "cell_type": "markdown",
   "metadata": {},
   "source": [
    "### D) Define Lines"
   ]
  },
  {
   "cell_type": "code",
   "execution_count": null,
   "metadata": {
    "vscode": {
     "languageId": "shellscript"
    }
   },
   "outputs": [],
   "source": [
    "# Define the transmission lines DataFrame\n",
    "lines = pd.DataFrame(\n",
    "    {\n",
    "        \"name\": [\"Line_N_S\"],  # Name of the transmission line\n",
    "        \"bus0\": [\"north\"],  # Starting bus (north)\n",
    "        \"bus1\": [\"south\"],  # Ending bus (south)\n",
    "        \"s_nom\": [5000.0],  # Nominal power capacity (MVA)\n",
    "        \"x\": [0.01],  # Reactance (in per unit)\n",
    "        \"r\": [0.001],  # Resistance (in per unit)\n",
    "    }\n",
    ")\n",
    "\n",
    "# Display the transmission lines DataFrame\n",
    "print(\"Transmission Lines DataFrame:\")\n",
    "display(lines)"
   ]
  },
  {
   "cell_type": "code",
   "execution_count": null,
   "metadata": {
    "vscode": {
     "languageId": "shellscript"
    }
   },
   "outputs": [],
   "source": [
    "network.madd(\n",
    "\"Line\",\n",
    "\n",
    ")"
   ]
  },
  {
   "cell_type": "markdown",
   "metadata": {},
   "source": [
    "### E) Define fuel prices"
   ]
  },
  {
   "cell_type": "code",
   "execution_count": null,
   "metadata": {
    "vscode": {
     "languageId": "shellscript"
    }
   },
   "outputs": [],
   "source": [
    "# Define fuel prices for the power plant units\n",
    "fuel_prices = {\n",
    "    \"fuel\": [\"uranium\", \"co2\"],\n",
    "    \"price\": [5, 25],  # Example prices for uranium and CO2\n",
    "}\n",
    "\n",
    "# Convert the dictionary to a DataFrame and save as CSV\n",
    "fuel_prices_df = pd.DataFrame(fuel_prices).T\n",
    "fuel_prices_df.to_csv(\n",
    "    os.path.join(input_dir, \"fuel_prices_df.csv\"), index=True, header=False\n",
    ")\n",
    "\n",
    "print(\"Fuel Prices CSV file has been saved to 'inputs/tutorial_09/fuel_prices.csv'.\")"
   ]
  },
  {
   "cell_type": "code",
   "execution_count": null,
   "metadata": {
    "vscode": {
     "languageId": "shellscript"
    }
   },
   "outputs": [],
   "source": [
    "# Display the unique fuel types used in the powerplant_units DataFrame\n",
    "unique_fuel_types = powerplant_units[\"fuel_type\"].unique()\n",
    "print(f\"Fuel types required for power plants: {unique_fuel_types}\")"
   ]
  },
  {
   "cell_type": "code",
   "execution_count": null,
   "metadata": {
    "vscode": {
     "languageId": "shellscript"
    }
   },
   "outputs": [],
   "source": []
  },
  {
   "cell_type": "markdown",
   "metadata": {},
   "source": [
    "## Step 3: Solving to identify Network Congestion"
   ]
  },
  {
   "cell_type": "code",
   "execution_count": null,
   "metadata": {
    "vscode": {
     "languageId": "shellscript"
    }
   },
   "outputs": [],
   "source": [
    "network.pf()\n",
    "for i, (line_loading, s_nom_value) in enumerate(zip(round(network.lines_t.p0).values, network.lines.s_nom.values)):\n",
    "    line_name = f\"Line {i + 1}\"\n",
    "    if line_loading <= s_nom_value:\n",
    "        congestion_status = False\n",
    "        overloading = 0\n",
    "        print(\"There is no congestion\")\n",
    "    else:\n",
    "        congestion_status = True\n",
    "        overloading = line_loading - s_nom_value\n",
    "        print(\"The network is congested\")"
   ]
  },
  {
   "cell_type": "markdown",
   "metadata": {},
   "source": [
    "## Step 4: Redispatch Modelling"
   ]
  },
  {
   "cell_type": "markdown",
   "metadata": {},
   "source": []
  }
 ],
 "metadata": {
  "kernelspec": {
   "display_name": ".venv",
   "language": "python",
   "name": "python3"
  },
  "language_info": {
   "codemirror_mode": {
    "name": "ipython",
    "version": 3
   },
   "file_extension": ".py",
   "mimetype": "text/x-python",
   "name": "python",
   "nbconvert_exporter": "python",
   "pygments_lexer": "ipython3",
   "version": "3.12.6"
  }
 },
 "nbformat": 4,
 "nbformat_minor": 2
}
